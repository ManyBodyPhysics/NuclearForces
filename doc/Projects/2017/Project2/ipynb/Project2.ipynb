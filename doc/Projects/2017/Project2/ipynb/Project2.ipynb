{
 "cells": [
  {
   "cell_type": "markdown",
   "metadata": {},
   "source": [
    "<!-- dom:TITLE: Project 2, deadline  December 15 -->\n",
    "# Project 2, deadline  December 15\n",
    "<!-- dom:AUTHOR: Nuclear Forces PHY989 at National Superconducting Cyclotron Laboratory and Department of Physics and Astronomy, Michigan State University, East Lansing, USA -->\n",
    "<!-- Author: -->  \n",
    "**Nuclear Forces PHY989**, National Superconducting Cyclotron Laboratory and Department of Physics and Astronomy, Michigan State University, East Lansing, USA\n",
    "\n",
    "Date: **Fall semester 2017**\n",
    "\n",
    "## Effective field theory\n",
    "\n",
    "The aim of this project is to build your own Effective field theory\n",
    "(EFT) interaction model that approximates the phase shifts you\n",
    "extracted with the simple interaction model from project 1. We will\n",
    "thus use as input the phase shift analysis from the previous project\n",
    "and use these as our theoretical benchmarks.  We will follow closely\n",
    "[Lepage's article *How to renormalize Schroedinger\n",
    "equation*](https://arxiv.org/abs/nucl-th/9706029), see especially\n",
    "pages 8-17.\n",
    "\n",
    "\n",
    "We will start by building a \\emph{pionless} EFT potential to describe\n",
    "NN scattering low energies where even the longest range piece of the\n",
    "potential is unresolved.  Therefore, the EFT potential is just a\n",
    "series of contact interactions. Recall, this is the domain of the\n",
    "effective range expansion, which is valid up to onshell momentum\n",
    "$k\\sim m_{\\pi}/2$, which translates to about 10 MeV lab energy. If we\n",
    "were considering the *true* NN system with non-central terms (and full\n",
    "spin- and isospin-dependent terms), then the contact interactions take\n",
    "the form:"
   ]
  },
  {
   "cell_type": "markdown",
   "metadata": {},
   "source": [
    "$$\n",
    "\\begin{align*}\n",
    "V^\\mathrm{LO}(\\vec{q},\\vec{k})=&C_S+C_T\\vec{\\sigma}_1\\cdot\\vec{\\sigma}_2,\\\\\n",
    "V^\\mathrm{NLO}(\\vec{q},\\vec{k})=&C_1\\vec{q}^{\\,2}+C_2\\vec{k}^2+\n",
    "\\vec{\\sigma}_1\\cdot\\vec{\\sigma}_2\\left(C_3\\vec{q}^2+C_4\\vec{k}^2\\right)\\\\\n",
    "&+iC_5\\frac{\\vec{\\sigma}_1+\\vec{\\sigma}_2}{2}\\cdot\\vec{q}\\times\\vec{k}+C_6\\vec{q}\\cdot\\vec{\\sigma}_1\\vec{q}\\cdot\\vec{\\sigma}_2\n",
    "+C_7\\vec{k}\\cdot\\vec{\\sigma}_1\\vec{k}\\cdot\\vec{\\sigma}_2, \n",
    "\\end{align*}\n",
    "$$"
   ]
  },
  {
   "cell_type": "markdown",
   "metadata": {},
   "source": [
    "where $\\vec{q}=\\vec{p}-\\vec{p'}$ is the momentum transfer,\n",
    "$\\vec{k}=\\frac{\\vec{p}+\\vec{p'}}{2}$ the average momentum, and\n",
    "$\\vec{p},\\vec{p'}$ the relative momenta.  However, since our\n",
    "\"underlying theory\" in Project 1 is spin- and isospin-independent,\n",
    "the above simplifies substantially, just strike out any terms with\n",
    "Pauli spin/isospin matrices!\n",
    "\n",
    "\n",
    "\n",
    "\n",
    "### Project 2a): Lowest-order pionless theory\n",
    "\n",
    "We start by fitting the lowest order pionless interaction model. Projecting into the $^1$S$_0$ channel, the potential is given by (excluding spin/isospin-dependent terms)"
   ]
  },
  {
   "cell_type": "markdown",
   "metadata": {},
   "source": [
    "$$\n",
    "V^\\mathrm{LO}_{^1S_0}(p',p)=C_0.\n",
    "$$"
   ]
  },
  {
   "cell_type": "markdown",
   "metadata": {},
   "source": [
    "Note that the coupling constants appearing in the $^1$S$_0$\n",
    "expressions are linear combinations of the coupling constants in the\n",
    "general expressions shown above. Their exact form doesn't concern us,\n",
    "though you can find the relevant details on pp. 32-33 of [Machleidt and Entem](https://arxiv.org/abs/1105.2919).\n",
    "\n",
    "As it stands, this potential would give UV\n",
    "divergences if you naively used it in the LS equation. Therefore, we\n",
    "need to regularize the potential to cutoff the problematic\n",
    "high-momentum modes in the loop integrals. In class, we used a sharp\n",
    "cutoff so that the above would by multiplied by $\\theta(\\Lambda -\n",
    "p)\\theta(\\Lambda-p')$. While conceptually simple, sharp cutoffs can be\n",
    "tricky-- can you guess how you would need to modify the \"trick\" used\n",
    "to handle the principal value integral in the LS equation? (This is\n",
    "actually the least of our worries. If we try to use a sharp cutoff in\n",
    "some manybody method that relies on expanding the Hamiltonian in a\n",
    "harmonic oscillator basis, the expansion is very slowly converging in\n",
    "analogy with the *Gibbs overshoot* phenomena in Fourier analysis.) To\n",
    "avoid these subtleties, we instead will use a smooth UV regulator as"
   ]
  },
  {
   "cell_type": "markdown",
   "metadata": {},
   "source": [
    "$$\n",
    "V(p',p)\\Rightarrow f_{\\Lambda}(p')V(p',p)f_{\\Lambda}(p)\\,\n",
    " \n",
    "where we choose\n",
    "\n",
    "f_{\\Lambda}(p) = \\exp{[-p^4/\\Lambda^4]}\\,.\n",
    "$$"
   ]
  },
  {
   "cell_type": "markdown",
   "metadata": {},
   "source": [
    "Choose an *appropriate* value for $\\Lambda$ and fit $C_0$ to low\n",
    "energy phase shifts. Hint: Per Lepage, always use the *most infrared'* data possible when fitting the couplings of contact\n",
    "terms. Also, remember Lepage's discussion on choosing the value for\n",
    "$\\Lambda$.\n",
    "\n",
    "\n",
    "### Project 2b): Still pionless, but adding the next order\n",
    "\n",
    "We add now the NLO correction term"
   ]
  },
  {
   "cell_type": "markdown",
   "metadata": {},
   "source": [
    "$$\n",
    "V^\\mathrm{NLO}_{^1S_0}(p',p)=C_2(p^2 + p'^2)\\,\n",
    "$$"
   ]
  },
  {
   "cell_type": "markdown",
   "metadata": {},
   "source": [
    "and fit the parameters ($C_0$ and $C_2$) to the low-energy phase shifts from project 1. Next, add the NNLO correction term"
   ]
  },
  {
   "cell_type": "markdown",
   "metadata": {},
   "source": [
    "$$\n",
    "V^\\mathrm{NNLO}_{^1S_0}(p',p)=C_4(p^4 + p'^4) + C'_4 p^2p'^2\\,\n",
    "$$"
   ]
  },
  {
   "cell_type": "markdown",
   "metadata": {},
   "source": [
    "and fit the four parameters $C_0,C_2,C_4,C'_4$ to the low-energy phase\n",
    "shifts.  Make a plot of your calculated LO, NLO, and NNLO phase shifts\n",
    "and compare them to the results from the Project 1 potential. Also\n",
    "make a plot a-la Fig. 3 in Lepage to show the power-law improvement\n",
    "with each additional order, and from this pick off the breakdown scale\n",
    "$\\Lambda_b$ where the EFT stops improving with additional\n",
    "orders. These log-log error plots are commonly known as *Lepage plots*, and they help show that an EFT is working as expected.\n",
    "\n",
    "### Project 2c): Cutoff dependence\n",
    "\n",
    "Repeat the NLO pionless fits for several different values of $\\Lambda$, and make the analogous plot to Fig. 4 in Lepage. If we denote a generic momentum of some low-energy process by $Q$, then the theoretical errors in an EFT calculation scale roughly as"
   ]
  },
  {
   "cell_type": "markdown",
   "metadata": {},
   "source": [
    "$$\n",
    "\\Delta(Q) \\sim {\\rm Max}\\,{((Q/\\Lambda)^n, (Q/\\Lambda_b)^n)},\n",
    "$$"
   ]
  },
  {
   "cell_type": "markdown",
   "metadata": {},
   "source": [
    "which is why taking $\\Lambda >> \\Lambda_b$ doesn't really buy you anything. \n",
    "\n",
    "### Project 2d): Including the *one-pion exchange* term\n",
    "\n",
    "The pionless EFT basically reproduces the physics of the Effective\n",
    "Range Expansion, so we expect $\\Lambda_b\\sim m_{\\pi}$, which sets the\n",
    "scale of the longest-ranged Yukawa term in the toy potential of\n",
    "Project 1. We now want to build a toy EFT which works at higher\n",
    "energies. To do this, we now include the longest-ranged Yukawa\n",
    "potential as an explicit degree of freedom in our EFT. (We put\n",
    "quotation marks around the one-pion exchange moniker since our\n",
    "underlying theory is a toy model, without the full spin/isospin\n",
    "dependence that would come with the true OPE potential.)\n",
    "\n",
    "We will repeat parts 2a)-2b) by including the *one-pion exchange*\n",
    "contribution and refitting the contact term couplings. Therefore, at\n",
    "LO our EFT potential takes the form"
   ]
  },
  {
   "cell_type": "markdown",
   "metadata": {},
   "source": [
    "$$\n",
    "V^\\mathrm{LO}(p,p')= V_{\\pi}(p,p') + C_0\\,\n",
    "$$"
   ]
  },
  {
   "cell_type": "markdown",
   "metadata": {},
   "source": [
    "while at NLO our potential takes the form"
   ]
  },
  {
   "cell_type": "markdown",
   "metadata": {},
   "source": [
    "$$\n",
    "V^\\mathrm{NLO}(p,p')= V_{\\pi}(p,p') + C_0 + C_2(p^2+p'^2)\\,,\n",
    "$$"
   ]
  },
  {
   "cell_type": "markdown",
   "metadata": {},
   "source": [
    "with the analogous form for the NNLO potential. \n",
    "\n",
    "Redo the analysis of parts 2a-2b, taking care to modify your choice of\n",
    "$\\Lambda$ to an *appropriate* value.  Your analysis should be very\n",
    "similar as for the pionless theory, except that the value of\n",
    "$\\Lambda_b$ should be at a higher value, roughly equal to the mass of\n",
    "the next heaviest Yukawa term.\n",
    "\n",
    "### Project 2e (optional)): Cutoff dependence\n",
    "\n",
    "Redo the analysis of part 2c, and comment on any similarities/differences. \n",
    "\n",
    "\n",
    "## Introduction to numerical projects\n",
    "\n",
    "Here follows a brief recipe and recommendation on how to write a report for each\n",
    "project.\n",
    "\n",
    "  * Give a short description of the nature of the problem and the eventual  numerical methods you have used.\n",
    "\n",
    "  * Describe the algorithm you have used and/or developed. Here you may find it convenient to use pseudocoding. In many cases you can describe the algorithm in the program itself.\n",
    "\n",
    "  * Include the source code of your program. Comment your program properly.\n",
    "\n",
    "  * If possible, try to find analytic solutions, or known limits in order to test your program when developing the code.\n",
    "\n",
    "  * Include your results either in figure form or in a table. Remember to        label your results. All tables and figures should have relevant captions        and labels on the axes.\n",
    "\n",
    "  * Try to evaluate the reliabilty and numerical stability/precision of your results. If possible, include a qualitative and/or quantitative discussion of the numerical stability, eventual loss of precision etc.\n",
    "\n",
    "  * Try to give an interpretation of you results in your answers to  the problems.\n",
    "\n",
    "  * Critique: if possible include your comments and reflections about the  exercise, whether you felt you learnt something, ideas for improvements and  other thoughts you've made when solving the exercise. We wish to keep this course at the interactive level and your comments can help us improve it.\n",
    "\n",
    "  * Try to establish a practice where you log your work at the  computerlab. You may find such a logbook very handy at later stages in your work, especially when you don't properly remember  what a previous test version  of your program did. Here you could also record  the time spent on solving the exercise, various algorithms you may have tested or other topics which you feel worthy of mentioning.\n",
    "\n",
    "## Format for electronic delivery of report and programs\n",
    "\n",
    "The preferred format for the report is a PDF file. You can also use DOC or postscript formats or as an ipython notebook file.  As programming language we prefer that you choose between C/C++, Fortran2008 or Python. The following prescription should be followed when preparing the report:\n",
    "\n",
    "  * Use your github repository to upload your report. Indicate where the report is by creating for example a **Report** folder. Please send us as soon as possible your github username.\n",
    "\n",
    "  * Place your programs in a folder called for example **Programs** or **src**, in order to indicate where your programs are. You can use a README file to tell us how your github folders are organized. \n",
    "\n",
    "  * In your git repository, please include a folder which contains selected results. These can be in the form of output from your code for a selected set of runs and input parameters.\n",
    "\n",
    "  * In this and all later projects, you should include tests (for example unit tests) of your code(s).\n",
    "\n",
    "  * Comments  from us on your projects, with score and detailed feedback will be emailed to you. \n",
    "\n",
    "Finally, \n",
    "we encourage you to work two and two together. Optimal working groups consist of \n",
    "2-3 students. You can then hand in a common report."
   ]
  }
 ],
 "metadata": {},
 "nbformat": 4,
 "nbformat_minor": 2
}
