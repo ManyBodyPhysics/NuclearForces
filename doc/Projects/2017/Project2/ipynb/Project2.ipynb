{
 "cells": [
  {
   "cell_type": "markdown",
   "metadata": {},
   "source": [
    "<!-- dom:TITLE: Project 2, deadline  December 15 -->\n",
    "# Project 2, deadline  December 15\n",
    "<!-- dom:AUTHOR: Nuclear Forces PHY989 at National Superconducting Cyclotron Laboratory and Department of Physics and Astronomy, Michigan State University, East Lansing, USA -->\n",
    "<!-- Author: -->  \n",
    "**Nuclear Forces PHY989**, National Superconducting Cyclotron Laboratory and Department of Physics and Astronomy, Michigan State University, East Lansing, USA\n",
    "\n",
    "Date: **Fall semester 2017**\n",
    "\n",
    "## Effective field theory\n",
    "\n",
    "The aim of this project is to build your own Effective field theory (EFT) interaction model that approximates the phase shifts you extracted with the simple interaction model from project 1. We will thus use as input the phase shift analysis from the previous project and use these as our theoretical benchmarks.\n",
    "We will follow closely [Lepage's article *How to renormalize Schroedinger equation*](https://arxiv.org/abs/nucl-th/9706029)\n",
    "\n",
    "We will start by building  a *pionless* EFT potential"
   ]
  },
  {
   "cell_type": "markdown",
   "metadata": {},
   "source": [
    "$$\n",
    "\\begin{align*}\n",
    "V^\\mathrm{LO}_\\mathrm{NN}(\\vec{q},\\vec{k})=&C^\\mathrm{LO}_1+C^\\mathrm{LO}_2\\vec{\\sigma}_1\\cdot\\vec{\\sigma}_2,\\\\\n",
    "V^\\mathrm{NLO}(\\vec{q},\\vec{k})=&V^\\mathrm{LO}_\\mathrm{NN}+C^\\mathrm{NLO}_1\\vec{q}^2+C^\\mathrm{NLO}_2\\vec{k}^2+\n",
    "\\vec{\\sigma}_1\\cdot\\vec{\\sigma}_2\\left(C^\\mathrm{NLO}_3\\vec{q}^2+C^\\mathrm{NLO}_4\\vec{k}^2\\right)\\\\\n",
    "&+iC^\\mathrm{NLO}_5\\frac{\\vec{\\sigma}_1+\\vec{\\sigma}_2}{2}\\cdot\\vec{q}\\times\\vec{k}+C^\\mathrm{NLO}_6\\vec{q}\\cdot\\vec{\\sigma}_1\\vec{q}\\cdot\\vec{\\sigma}_2\n",
    "+C^\\mathrm{NLO}_7\\vec{k}\\cdot\\vec{\\sigma}_1\\vec{k}\\cdot\\vec{\\sigma}_2,\n",
    "\\end{align*}\n",
    "$$"
   ]
  },
  {
   "cell_type": "markdown",
   "metadata": {},
   "source": [
    "Where $\\vec{q}=\\vec{p}-\\vec{p'}$ is the momentum transfer and $\\vec{k}=\\frac{\\vec{p}+\\vec{p'}}{2}$ the average momentum.\n",
    "Thereafter we will add the one-pion exchange term to these interactions and label this\n",
    "as the pionfull potential with expressions"
   ]
  },
  {
   "cell_type": "markdown",
   "metadata": {},
   "source": [
    "$$\n",
    "\\begin{align*}\n",
    "V^\\mathrm{LO}_\\mathrm{NN}(\\vec{q},\\vec{k})=&C^\\mathrm{LO}_1+C^\\mathrm{LO}_2\\vec{\\sigma}_1\\cdot\\vec{\\sigma}_2+V^{\\pi}(q),\\\\\n",
    "V^\\mathrm{NLO}(\\vec{q},\\vec{k})=&V^\\mathrm{LO}_\\mathrm{NN}+C^\\mathrm{NLO}_1\\vec{q}^2+C^\\mathrm{NLO}_2\\vec{k}^2+\n",
    "\\vec{\\sigma}_1\\cdot\\vec{\\sigma}_2\\left(C^\\mathrm{NLO}_3\\vec{q}^2+C^\\mathrm{NLO}_4\\vec{k}^2\\right)\\\\\n",
    "&+iC^\\mathrm{NLO}_5\\frac{\\vec{\\sigma}_1+\\vec{\\sigma}_2}{2}\\cdot\\vec{q}\\times\\vec{k}+C^\\mathrm{NLO}_6\\vec{q}\\cdot\\vec{\\sigma}_1\\vec{q}\\cdot\\vec{\\sigma}_2\n",
    "+C^\\mathrm{NLO}_7\\vec{k}\\cdot\\vec{\\sigma}_1\\vec{k}\\cdot\\vec{\\sigma}_2+V^{\\pi}(q),\n",
    "\\end{align*}\n",
    "$$"
   ]
  },
  {
   "cell_type": "markdown",
   "metadata": {},
   "source": [
    "where we have added"
   ]
  },
  {
   "cell_type": "markdown",
   "metadata": {},
   "source": [
    "$$\n",
    "V^{\\pi}(q)=-\\frac{g_A^{2}}{4f_{\\pi}^2}\n",
    "\\frac{(\\sigma_{1}\\cdot\\mathbf{q})(\\sigma_{2}\\cdot\\mathbf{q})}{\\mathbf{q}^{2}+m_{\\pi}^{2}}.\n",
    "$$"
   ]
  },
  {
   "cell_type": "markdown",
   "metadata": {},
   "source": [
    "where $g_A$ is the axial-vector coupling constant and $f_{\\pi}$ is the pion-decay constant. The term\n",
    "proportional to $g_A/2f_{\\pi}$ is the familiar axial-vector coupling of one pion to the nucleon.\n",
    "We use $g_A = 1.276$ and $f_{\\pi}=92.4$ MeV.\n",
    "You need also to consider the isospin dependence by including $\\tau_{1}\\tau_{2}$. These interactions will depend on so-called regulators  that include a\n",
    "cutoff parameter $\\Lambda$.\n",
    "\n",
    "\n",
    "We will opt for the the same regulator for all vertices,"
   ]
  },
  {
   "cell_type": "markdown",
   "metadata": {},
   "source": [
    "$$\n",
    "f(\\vec{p},\\vec{p'},\\Lambda)=e^{-\\left(\\vec{p}-\\vec{p'}\\right)^2/\\Lambda^2}\\;\\;\\;\\rightarrow\\;\\;\\;V(\\vec{p},\\vec{p'},\\Lambda)\\equiv f(\\vec{p},\\vec{p'},\\Lambda)V^\\text{(N)LO}(\\vec{q},\\vec{k})\\;\\;\\;,\n",
    "$$"
   ]
  },
  {
   "cell_type": "markdown",
   "metadata": {},
   "source": [
    "The parameter $\\Lambda$ is the cutoff energy that determines the range of validity for a given interaction model.\n",
    "The aim is to use the results from project 1 and\n",
    "fit the parameters $C_1$, $C_2$, etc. to the low-energy phaseshifts from the previous project.  \n",
    "\n",
    "\n",
    "### Project 1a): Lowest-order pionless theory\n",
    "\n",
    "In order to get started, we start by fitting the lowest order pionless interaction model, given by (excluding isospin)"
   ]
  },
  {
   "cell_type": "markdown",
   "metadata": {},
   "source": [
    "$$\n",
    "V^\\mathrm{LO}_\\mathrm{NN}(\\vec{q},\\vec{k})=C^\\mathrm{LO}_1+C^\\mathrm{LO}_2\\vec{\\sigma}_1\\cdot\\vec{\\sigma}_2.\n",
    "$$"
   ]
  },
  {
   "cell_type": "markdown",
   "metadata": {},
   "source": [
    "Find these parameters by fitting the phase-shifts to those from project 1.\n",
    "### Project 1b): Still pionless, but adding the next order\n",
    "\n",
    "We add now the next-to-leading order term"
   ]
  },
  {
   "cell_type": "markdown",
   "metadata": {},
   "source": [
    "$$\n",
    "\\begin{align*}\n",
    "V^\\mathrm{NLO}(\\vec{q},\\vec{k})=&V^\\mathrm{LO}_\\mathrm{NN}+C^\\mathrm{NLO}_1\\vec{q}^2+C^\\mathrm{NLO}_2\\vec{k}^2+\n",
    "\\vec{\\sigma}_1\\cdot\\vec{\\sigma}_2\\left(C^\\mathrm{NLO}_3\\vec{q}^2+C^\\mathrm{NLO}_4\\vec{k}^2\\right)\\\\\n",
    "&+iC^\\mathrm{NLO}_5\\frac{\\vec{\\sigma}_1+\\vec{\\sigma}_2}{2}\\cdot\\vec{q}\\times\\vec{k}+C^\\mathrm{NLO}_6\\vec{q}\\cdot\\vec{\\sigma}_1\\vec{q}\\cdot\\vec{\\sigma}_2\n",
    "+C^\\mathrm{NLO}_7\\vec{k}\\cdot\\vec{\\sigma}_1\\vec{k}\\cdot\\vec{\\sigma}_2,\n",
    "\\end{align*}\n",
    "$$"
   ]
  },
  {
   "cell_type": "markdown",
   "metadata": {},
   "source": [
    "and fit the parameters to our phase shifts from project 1. This will allow you to see so-called power-law improvements ( a la those discussed in Lepage's article)\n",
    "when you increase to higher orders in effective field theory as well as the breakdown scale, which depends on $m_{\\pi}$. You should also see what happens when you vary the cutoff $\\Lambda$.  \n",
    "### Project 1c): Including the one-pion exchagne term\n",
    "\n",
    "We will repeat part a) by including the one-pion exchange contribution and refit the parameters using now\n",
    "as the pionfull potential with expressions"
   ]
  },
  {
   "cell_type": "markdown",
   "metadata": {},
   "source": [
    "$$\n",
    "V^\\mathrm{LO}_\\mathrm{NN}(\\vec{q},\\vec{k})=C^\\mathrm{LO}_1+C^\\mathrm{LO}_2\\vec{\\sigma}_1\\cdot\\vec{\\sigma}_2+V^{\\pi}(q).\n",
    "$$"
   ]
  },
  {
   "cell_type": "markdown",
   "metadata": {},
   "source": [
    "Compare your results with those of part a).\n",
    "\n",
    "### Project 1d): Pionfull to the next leading order\n",
    "\n",
    "We move next to our pionfull theory to next leading order and refit the parameters using"
   ]
  },
  {
   "cell_type": "markdown",
   "metadata": {},
   "source": [
    "$$\n",
    "\\begin{align*}\n",
    "V^\\mathrm{LO}_\\mathrm{NN}(\\vec{q},\\vec{k})=&C^\\mathrm{LO}_1+C^\\mathrm{LO}_2\\vec{\\sigma}_1\\cdot\\vec{\\sigma}_2+V^{\\pi}(q),\\\\\n",
    "V^\\mathrm{NLO}(\\vec{q},\\vec{k})=&V^\\mathrm{LO}_\\mathrm{NN}+C^\\mathrm{NLO}_1\\vec{q}^2+C^\\mathrm{NLO}_2\\vec{k}^2+\n",
    "\\vec{\\sigma}_1\\cdot\\vec{\\sigma}_2\\left(C^\\mathrm{NLO}_3\\vec{q}^2+C^\\mathrm{NLO}_4\\vec{k}^2\\right)\\\\\n",
    "&+iC^\\mathrm{NLO}_5\\frac{\\vec{\\sigma}_1+\\vec{\\sigma}_2}{2}\\cdot\\vec{q}\\times\\vec{k}+C^\\mathrm{NLO}_6\\vec{q}\\cdot\\vec{\\sigma}_1\\vec{q}\\cdot\\vec{\\sigma}_2\n",
    "+C^\\mathrm{NLO}_7\\vec{k}\\cdot\\vec{\\sigma}_1\\vec{k}\\cdot\\vec{\\sigma}_2+V^{\\pi}(q).\n",
    "\\end{align*}\n",
    "$$"
   ]
  },
  {
   "cell_type": "markdown",
   "metadata": {},
   "source": [
    "You will obtain much of  the same qualitative behavior as in parts a) and b), with the difference \n",
    "that the breakdown scale is \n",
    "moved higher to of the order of the middle-range meson mass. Discuss and comment your results.\n",
    "\n",
    "\n",
    "\n",
    "\n",
    "## Introduction to numerical projects\n",
    "\n",
    "Here follows a brief recipe and recommendation on how to write a report for each\n",
    "project.\n",
    "\n",
    "  * Give a short description of the nature of the problem and the eventual  numerical methods you have used.\n",
    "\n",
    "  * Describe the algorithm you have used and/or developed. Here you may find it convenient to use pseudocoding. In many cases you can describe the algorithm in the program itself.\n",
    "\n",
    "  * Include the source code of your program. Comment your program properly.\n",
    "\n",
    "  * If possible, try to find analytic solutions, or known limits in order to test your program when developing the code.\n",
    "\n",
    "  * Include your results either in figure form or in a table. Remember to        label your results. All tables and figures should have relevant captions        and labels on the axes.\n",
    "\n",
    "  * Try to evaluate the reliabilty and numerical stability/precision of your results. If possible, include a qualitative and/or quantitative discussion of the numerical stability, eventual loss of precision etc.\n",
    "\n",
    "  * Try to give an interpretation of you results in your answers to  the problems.\n",
    "\n",
    "  * Critique: if possible include your comments and reflections about the  exercise, whether you felt you learnt something, ideas for improvements and  other thoughts you've made when solving the exercise. We wish to keep this course at the interactive level and your comments can help us improve it.\n",
    "\n",
    "  * Try to establish a practice where you log your work at the  computerlab. You may find such a logbook very handy at later stages in your work, especially when you don't properly remember  what a previous test version  of your program did. Here you could also record  the time spent on solving the exercise, various algorithms you may have tested or other topics which you feel worthy of mentioning.\n",
    "\n",
    "## Format for electronic delivery of report and programs\n",
    "\n",
    "The preferred format for the report is a PDF file. You can also use DOC or postscript formats or as an ipython notebook file.  As programming language we prefer that you choose between C/C++, Fortran2008 or Python. The following prescription should be followed when preparing the report:\n",
    "\n",
    "  * Use your github repository to upload your report. Indicate where the report is by creating for example a **Report** folder. Please send us as soon as possible your github username.\n",
    "\n",
    "  * Place your programs in a folder called for example **Programs** or **src**, in order to indicate where your programs are. You can use a README file to tell us how your github folders are organized. \n",
    "\n",
    "  * In your git repository, please include a folder which contains selected results. These can be in the form of output from your code for a selected set of runs and input parameters.\n",
    "\n",
    "  * In this and all later projects, you should include tests (for example unit tests) of your code(s).\n",
    "\n",
    "  * Comments  from us on your projects, with score and detailed feedback will be emailed to you. \n",
    "\n",
    "Finally, \n",
    "we encourage you to work two and two together. Optimal working groups consist of \n",
    "2-3 students. You can then hand in a common report."
   ]
  }
 ],
 "metadata": {},
 "nbformat": 4,
 "nbformat_minor": 2
}
