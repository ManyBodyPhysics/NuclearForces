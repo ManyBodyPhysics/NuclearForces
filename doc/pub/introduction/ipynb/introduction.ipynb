{
 "cells": [
  {
   "cell_type": "markdown",
   "metadata": {},
   "source": [
    "<!-- Slides for PHY989 -->\n",
    "<!-- dom:TITLE: Introduction to Nuclear Forces, a bird's-eye view on Quantum Chromodynamics  -->\n",
    "# Introduction to Nuclear Forces, a bird's-eye view on Quantum Chromodynamics \n",
    "<!-- dom:AUTHOR: Scott Bogner at [National Superconducting Cyclotron Laboratory](http://www.nscl.msu.edu/) and [Department of Physics and Astronomy](https://www.pa.msu.edu/), [Michigan State University](http://www.msu.edu/), East Lansing, MI 48824, USA -->\n",
    "<!-- Author: -->  \n",
    "**Scott Bogner**, [National Superconducting Cyclotron Laboratory](http://www.nscl.msu.edu/) and [Department of Physics and Astronomy](https://www.pa.msu.edu/), [Michigan State University](http://www.msu.edu/), East Lansing, MI 48824, USA  \n",
    "<!-- dom:AUTHOR: Morten Hjorth-Jensen at [National Superconducting Cyclotron Laboratory](http://www.nscl.msu.edu/) and [Department of Physics and Astronomy](https://www.pa.msu.edu/), [Michigan State University](http://www.msu.edu/), East Lansing, MI 48824, USA -->\n",
    "<!-- Author: --> **Morten Hjorth-Jensen**, [National Superconducting Cyclotron Laboratory](http://www.nscl.msu.edu/) and [Department of Physics and Astronomy](https://www.pa.msu.edu/), [Michigan State University](http://www.msu.edu/), East Lansing, MI 48824, USA\n",
    "\n",
    "Date: **2017**\n",
    "\n",
    "## Brief overview of Quantum Chromydynamics (QCD)\n",
    "* Quark-gluon degrees of freedom (DOF) are optimal to describe the strong force dynamics of nuclei.\n",
    "\n",
    "* Nevertheless, the low-energy Effective Field Theory (EFT) that underpin our modern understanding if internucleon forces are clearly related to the underlying symmetries of QCD\n",
    "\n",
    "* Moreover, as we will see later in the course, remarkable progress is being made in lattice QCD so that *dired* calculations of few-nucleon systems with nucleat forces are becoming closer to reality.\n",
    "\n",
    "* Therefore, even though 95% of this course will be devoted to a description in terms of nucleons and pions, it is useful to give a bird's-eye view of QCD.\n",
    "\n",
    "* If you are not too familiar with quantum field theory or QCD. Our presentation here is necessarily impressionistic and meant only to remind you of what is governing things at a fundamental level.\n",
    "\n",
    "\n",
    "\n",
    "\n",
    "## QCD Lagrangian"
   ]
  }
 ],
 "metadata": {},
 "nbformat": 4,
 "nbformat_minor": 2
}
