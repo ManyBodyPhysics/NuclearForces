{
 "cells": [
  {
   "cell_type": "markdown",
   "metadata": {},
   "source": [
    "<!-- Slides for PHY989 -->\n",
    "<!-- dom:TITLE: One-Boson Exchange Models -->\n",
    "# One-Boson Exchange Models\n",
    "<!-- dom:AUTHOR: Scott Bogner at [National Superconducting Cyclotron Laboratory](http://www.nscl.msu.edu/) and [Department of Physics and Astronomy](https://www.pa.msu.edu/), [Michigan State University](http://www.msu.edu/), East Lansing, MI 48824, USA -->\n",
    "<!-- Author: -->  \n",
    "**Scott Bogner**, [National Superconducting Cyclotron Laboratory](http://www.nscl.msu.edu/) and [Department of Physics and Astronomy](https://www.pa.msu.edu/), [Michigan State University](http://www.msu.edu/), East Lansing, MI 48824, USA  \n",
    "<!-- dom:AUTHOR: Morten Hjorth-Jensen at [National Superconducting Cyclotron Laboratory](http://www.nscl.msu.edu/) and [Department of Physics and Astronomy](https://www.pa.msu.edu/), [Michigan State University](http://www.msu.edu/), East Lansing, MI 48824, USA -->\n",
    "<!-- Author: --> **Morten Hjorth-Jensen**, [National Superconducting Cyclotron Laboratory](http://www.nscl.msu.edu/) and [Department of Physics and Astronomy](https://www.pa.msu.edu/), [Michigan State University](http://www.msu.edu/), East Lansing, MI 48824, USA\n",
    "\n",
    "Date: **2017**\n",
    "\n",
    "## A typical form of the nuclear force\n",
    "Here we display a typical way to parametrize (non-relativistic expression) the nuclear two-body force\n",
    "in terms of some operators, the central part, the spin-spin part and the central force."
   ]
  },
  {
   "cell_type": "markdown",
   "metadata": {},
   "source": [
    "0\n",
    " \n",
    "<\n",
    "<\n",
    "<\n",
    "!\n",
    "!\n",
    "M\n",
    "A\n",
    "T\n",
    "H\n",
    "_\n",
    "B\n",
    "L\n",
    "O\n",
    "C\n",
    "K"
   ]
  },
  {
   "cell_type": "markdown",
   "metadata": {},
   "source": [
    "$$\n",
    "\\left. + C_{SL} \\left( {1\\over m_\\alpha r} + {1\\over \\left( m_\\alpha r\\right)^2}\n",
    "\\right) \\mathbf{L}\\cdot \\mathbf{S}\n",
    "\\right\\} \\frac{e^{-m_\\alpha r}}{m_\\alpha r}\n",
    "$$"
   ]
  },
  {
   "cell_type": "markdown",
   "metadata": {},
   "source": [
    "How do we derive such terms?  (Note: no isospin dependence and that the above is an approximation)\n",
    "\n",
    "\n",
    "\n",
    "\n",
    "## Nuclear forces\n",
    "To derive the above famous form of the nuclear force using field theoretical concepts, we will need some \n",
    "elements from relativistic quantum mechanics. These derivations will be given below. \n",
    "The material here gives some background to this.\n",
    "I know that many of you have not taken a course in quantum field theory. I hope however that you can see the basic ideas leading to the famous non-relativistic expressions for the nuclear force. \n",
    "\n",
    "**Furthermore, when we analyze nuclear data, we will actually try to explain properties like spectra, single-particle energies etc in terms of the various terms of the nuclear force. Moreover, many of you will hear about these terms at various talks, workshops, seminars etc. Then, it is good to have an idea of what people actually mean!!**\n",
    "\n",
    "  \n",
    "\n",
    "## Dramatis Personae\n",
    "\n",
    "<table border=\"1\">\n",
    "<thead>\n",
    "<tr><th align=\"center\"> Baryons </th> <th align=\"center\">Mass (MeV)</th> <th align=\"center\">   Mesons  </th> <th align=\"center\">   Mass (MeV)  </th> </tr>\n",
    "</thead>\n",
    "<tbody>\n",
    "<tr><td align=\"center\">   $p,n$        </td> <td align=\"center\">   938.926       </td> <td align=\"center\">   $\\pi$          </td> <td align=\"center\">   138.03             </td> </tr>\n",
    "<tr><td align=\"center\">   $\\Lambda$    </td> <td align=\"center\">   1116.0        </td> <td align=\"center\">   $\\eta$         </td> <td align=\"center\">   548.8              </td> </tr>\n",
    "<tr><td align=\"center\">   $\\Sigma$     </td> <td align=\"center\">   1197.3        </td> <td align=\"center\">   $\\sigma$       </td> <td align=\"center\">   $\\approx 550.0$    </td> </tr>\n",
    "<tr><td align=\"center\">   $\\Delta$     </td> <td align=\"center\">   1232.0        </td> <td align=\"center\">   $\\rho$         </td> <td align=\"center\">   770                </td> </tr>\n",
    "<tr><td align=\"center\">                </td> <td align=\"center\">                 </td> <td align=\"center\">   $\\omega$       </td> <td align=\"center\">   782.6              </td> </tr>\n",
    "<tr><td align=\"center\">                </td> <td align=\"center\">                 </td> <td align=\"center\">   $\\delta$       </td> <td align=\"center\">   983.0              </td> </tr>\n",
    "<tr><td align=\"center\">                </td> <td align=\"center\">                 </td> <td align=\"center\">   $K$            </td> <td align=\"center\">   495.8              </td> </tr>\n",
    "<tr><td align=\"center\">                </td> <td align=\"center\">                 </td> <td align=\"center\">   $K^{\\star}$    </td> <td align=\"center\">   895.0              </td> </tr>\n",
    "</tbody>\n",
    "</table>\n",
    "\n",
    "\n",
    "\n",
    "\n",
    "## Components of the force and quantum numbers\n",
    "But before we proceed, we will look into specific quantum numbers of the relative system and study \n",
    "expectation vaues of the various terms of"
   ]
  },
  {
   "cell_type": "markdown",
   "metadata": {},
   "source": [
    "2\n",
    " \n",
    "<\n",
    "<\n",
    "<\n",
    "!\n",
    "!\n",
    "M\n",
    "A\n",
    "T\n",
    "H\n",
    "_\n",
    "B\n",
    "L\n",
    "O\n",
    "C\n",
    "K"
   ]
  },
  {
   "cell_type": "markdown",
   "metadata": {},
   "source": [
    "$$\n",
    "\\left. + C_{SL} \\left( {1\\over m_\\alpha r} + {1\\over \\left( m_\\alpha r\\right)^2}\n",
    "\\right) \\mathbf{L}\\cdot \\mathbf{S}\n",
    "\\right\\} \\frac{e^{-m_\\alpha r}}{m_\\alpha r}\n",
    "$$"
   ]
  },
  {
   "cell_type": "markdown",
   "metadata": {},
   "source": [
    "## Relative and CoM system, quantum numbers\n",
    "\n",
    "When solving the scattering equation or solving the two-nucleon problem, it is convenient to rewrite the Schroedinger equation, due to\n",
    "the spherical symmetry of the Hamiltonian, in relative and center-of-mass coordinates. This will also define the quantum numbers of the relative and center-of-mass system and will aid us later in solving\n",
    "the so-called Lippman-Schwinger equation for the scattering problem. \n",
    "\n",
    "We define the center-of-mass (CoM)  momentum as"
   ]
  },
  {
   "cell_type": "markdown",
   "metadata": {},
   "source": [
    "$$\n",
    "\\mathbf{K}=\\sum_{i=1}^A\\mathbf{k}_i,\n",
    "$$"
   ]
  },
  {
   "cell_type": "markdown",
   "metadata": {},
   "source": [
    "with $\\hbar=c=1$ the wave number $k_i=p_i$, with $p_i$ the pertinent momentum of a single-particle state. \n",
    "We have also the relative momentum"
   ]
  },
  {
   "cell_type": "markdown",
   "metadata": {},
   "source": [
    "$$\n",
    "\\mathbf{k}_{ij}=\\frac{1}{2}(\\mathbf{k}_i-\\mathbf{k}_j).\n",
    "$$"
   ]
  },
  {
   "cell_type": "markdown",
   "metadata": {},
   "source": [
    "We will below skip the indices $ij$ and simply write $\\mathbf{k}$\n",
    "\n",
    "\n",
    "\n",
    "## Relative and CoM system, quantum numbers\n",
    "\n",
    "In a similar fashion we can define the CoM coordinate"
   ]
  },
  {
   "cell_type": "markdown",
   "metadata": {},
   "source": [
    "$$\n",
    "\\mathbf{R}=\\frac{1}{A}\\sum_{i=1}^{A}\\mathbf{r}_i,\n",
    "$$"
   ]
  },
  {
   "cell_type": "markdown",
   "metadata": {},
   "source": [
    "and the relative distance"
   ]
  },
  {
   "cell_type": "markdown",
   "metadata": {},
   "source": [
    "$$\n",
    "\\mathbf{r}_{ij}=(\\mathbf{r}_i-\\mathbf{r}_j).\n",
    "$$"
   ]
  },
  {
   "cell_type": "markdown",
   "metadata": {},
   "source": [
    "## Relative and CoM system, quantum numbers\n",
    "With the definitions"
   ]
  },
  {
   "cell_type": "markdown",
   "metadata": {},
   "source": [
    "$$\n",
    "\\mathbf{K}=\\sum_{i=1}^A\\mathbf{k}_i,\n",
    "$$"
   ]
  },
  {
   "cell_type": "markdown",
   "metadata": {},
   "source": [
    "and"
   ]
  },
  {
   "cell_type": "markdown",
   "metadata": {},
   "source": [
    "$$\n",
    "\\mathbf{k}_{ij}=\\frac{1}{2}(\\mathbf{k}_i-\\mathbf{k}_j).\n",
    "$$"
   ]
  },
  {
   "cell_type": "markdown",
   "metadata": {},
   "source": [
    "we can rewrite the two-particle kinetic energy (note that we use $\\hbar=c=1$ as"
   ]
  },
  {
   "cell_type": "markdown",
   "metadata": {},
   "source": [
    "$$\n",
    "\\frac{\\mathbf{k}_1^2}{2m_n}+\\frac{\\mathbf{k}_2^2}{2m_n}=\\frac{\\mathbf{k}^2}{m_n}+\\frac{\\mathbf{K}^2}{4m_n},\n",
    "$$"
   ]
  },
  {
   "cell_type": "markdown",
   "metadata": {},
   "source": [
    "where $m_n$ is the average of the proton and the neutron masses.\n",
    "\n",
    "\n",
    "\n",
    "\n",
    "## Relative and CoM system, quantum numbers\n",
    "\n",
    "Since the two-nucleon interaction depends only on the relative distance, this means that we can separate Schroedinger's equation in an equation for the center-of-mass motion and one for the relative motion.\n",
    "\n",
    "With an equation for the relative motion only and a separate one for the center-of-mass motion we need to redefine the two-body quantum numbers.\n",
    "\n",
    "Previously we had a two-body state vector defined as $|(j_1j_2)JM_J\\rangle$ in a coupled basis. \n",
    "We will now define the quantum numbers for the relative motion. Here we need to define new orbital momenta (since these are the quantum numbers which change). \n",
    "We define"
   ]
  },
  {
   "cell_type": "markdown",
   "metadata": {},
   "source": [
    "$$\n",
    "\\hat{l}_1+\\hat{l}_2=\\hat{\\lambda}=\\hat{l}+\\hat{L},\n",
    "$$"
   ]
  },
  {
   "cell_type": "markdown",
   "metadata": {},
   "source": [
    "where $\\hat{l}$ is the orbital momentum associated with the relative motion and\n",
    "$\\hat{L}$ the corresponding one linked with the CoM. The total spin $S$ is unchanged since it acts in a different space. We have thus that"
   ]
  },
  {
   "cell_type": "markdown",
   "metadata": {},
   "source": [
    "$$\n",
    "\\hat{J}=\\hat{l}+\\hat{L}+\\hat{S},\n",
    "$$"
   ]
  },
  {
   "cell_type": "markdown",
   "metadata": {},
   "source": [
    "which allows us to define the angular momentum of the relative motion"
   ]
  },
  {
   "cell_type": "markdown",
   "metadata": {},
   "source": [
    "$$\n",
    "{ \\cal J} =  \\hat{l}+\\hat{S},\n",
    "$$"
   ]
  },
  {
   "cell_type": "markdown",
   "metadata": {},
   "source": [
    "where ${ \\cal J}$ is the total angular momentum of the relative motion.\n",
    "\n",
    "\n",
    "\n",
    "\n",
    "## Models for nuclear forces and derivation of non-relativistic expressions\n",
    "To describe the interaction between the various baryons and mesons of the previous\n",
    "table we choose the following phenomenological\n",
    "lagrangians\n",
    "for spin $1/2$ baryons"
   ]
  },
  {
   "cell_type": "markdown",
   "metadata": {},
   "source": [
    "1\n",
    "4\n",
    " \n",
    "<\n",
    "<\n",
    "<\n",
    "!\n",
    "!\n",
    "M\n",
    "A\n",
    "T\n",
    "H\n",
    "_\n",
    "B\n",
    "L\n",
    "O\n",
    "C\n",
    "K"
   ]
  },
  {
   "cell_type": "markdown",
   "metadata": {},
   "source": [
    "$$\n",
    "{\\cal L}_{s} =g^{s}\\overline{\\Psi}\\Psi\\phi^{(s)},\n",
    "$$"
   ]
  },
  {
   "cell_type": "markdown",
   "metadata": {},
   "source": [
    "and"
   ]
  },
  {
   "cell_type": "markdown",
   "metadata": {},
   "source": [
    "$$\n",
    "{\\cal L}_{v} =g^{v}\\overline{\\Psi}\\gamma_{\\mu}\\Psi\\phi_{\\mu}^{(v)}\n",
    "   +g^{t}\\overline{\\Psi}\\sigma^{\\mu\\nu}\\Psi\\left\n",
    "   (\\partial_{\\mu}\\phi_{\\nu}^{(v)}\n",
    "   -\\partial_{\\nu}\\phi_{\\mu}^{(v)}\\right),\n",
    "$$"
   ]
  },
  {
   "cell_type": "markdown",
   "metadata": {},
   "source": [
    "for pseudoscalar (ps), scalar (s) and vector (v) coupling, respectively.\n",
    "The factors $g^{v}$ and $g^{t}$ are the vector\n",
    "and tensor coupling constants, respectively.\n",
    "\n",
    "\n",
    "\n",
    "## Models for nuclear forces and derivation of non-relativistic expressions\n",
    "For spin $1/2$ baryons, the fields $\\Psi$ are expanded\n",
    "in terms of the Dirac spinors (positive energy\n",
    "solution shown here with $\\overline{u}u=1$)"
   ]
  },
  {
   "cell_type": "markdown",
   "metadata": {},
   "source": [
    "$$\n",
    "u(k\\sigma)=\\sqrt{\\frac{E(k)+m}{2m}}\n",
    "\t  \\left(\\begin{array}{c} \\chi\\\\ \\\\\n",
    "\t  \\frac{\\mathbf{\\sigma}\\mathbf{k}}{E(k)+m}\\chi\n",
    "\t  \\end{array}\\right),\n",
    "$$"
   ]
  },
  {
   "cell_type": "markdown",
   "metadata": {},
   "source": [
    "with $\\chi$ the familiar Pauli spinor and $E(k) =\\sqrt{m^2 +|\\mathbf{k}|^2}$. \n",
    "The positive energy part of the field $\\Psi$ reads"
   ]
  },
  {
   "cell_type": "markdown",
   "metadata": {},
   "source": [
    "$$\n",
    "\\Psi (x)={\\displaystyle \\frac{1}{(2\\pi )^{3/2}}\n",
    "        \\sum_{\\mathbf{k}\\mathbf{\\sigma}}u(k\\mathbf{\\sigma})\\exp{-(ikx)}a_{\\mathbf{k}\\mathbf{\\sigma}}},\n",
    "$$"
   ]
  },
  {
   "cell_type": "markdown",
   "metadata": {},
   "source": [
    "with $a$ being a fermion annihilation operator.\n",
    "\n",
    "\n",
    "\n",
    "## Models for nuclear forces and derivation of non-relativistic expressions\n",
    "Expanding the free Dirac spinors\n",
    "in terms of $1/m$ ($m$ is here the mass of the relevant baryon) \n",
    "results, to lowest order, in the familiar non-relativistic\n",
    "expressions for baryon-baryon potentials.\n",
    "The configuration space version of the interaction can be approximated as"
   ]
  },
  {
   "cell_type": "markdown",
   "metadata": {},
   "source": [
    "1\n",
    "9\n",
    " \n",
    "<\n",
    "<\n",
    "<\n",
    "!\n",
    "!\n",
    "M\n",
    "A\n",
    "T\n",
    "H\n",
    "_\n",
    "B\n",
    "L\n",
    "O\n",
    "C\n",
    "K"
   ]
  },
  {
   "cell_type": "markdown",
   "metadata": {},
   "source": [
    "$$\n",
    "+ C_{SL}\\left. \\left( {1\\over m_\\alpha r} + {1\\over \\left( m_\\alpha r\\right)^2}\n",
    "\\right) \\mathbf{L}\\cdot \\mathbf{S}\n",
    "\\right\\} \\frac{\\exp{-(m_\\alpha r)}}{m_\\alpha r},\n",
    "$$"
   ]
  },
  {
   "cell_type": "markdown",
   "metadata": {},
   "source": [
    "where $m_{\\alpha}$ is the mass of the relevant meson and\n",
    "$S_{12}$ is the familiar tensor term.\n",
    "\n",
    "\n",
    "\n",
    "## Models for nuclear forces and derivation of non-relativistic expressions\n",
    "We derive now the non-relativistic one-pion exchange interaction.\n",
    "\n",
    "Here $p_{1}$, $p_{1}'$, $p_{2}$, $p_{2}'$ and $k=p_{1}-p_{1}'$ denote \n",
    "four-momenta.  \n",
    "The vertices are \n",
    "given by the pseudovector Lagrangian"
   ]
  },
  {
   "cell_type": "markdown",
   "metadata": {},
   "source": [
    "$$\n",
    "{\\cal L}_{pv}=\\frac{f_{\\pi}}{m_{\\pi}}\\overline{\\psi}\\gamma_{5}\\gamma_{\\mu}\n",
    "\\psi\\partial^{\\mu}\\phi_{\\pi}.\n",
    "$$"
   ]
  },
  {
   "cell_type": "markdown",
   "metadata": {},
   "source": [
    "From the Feynman diagram rules we can write the two-body interaction as"
   ]
  },
  {
   "cell_type": "markdown",
   "metadata": {},
   "source": [
    "$$\n",
    "V^{pv}=\\frac{f_{\\pi}^{2}}{m_{\\pi}^{2}}\\frac{\\overline{u}(p_{1}')\\gamma_{5}\n",
    "\\gamma_{\\mu}(p_{1}-p_{1}')^{\\mu}u(p_{1})\\overline{u}(p_{2}')\\gamma_{5}\n",
    "\\gamma_{\\nu}(p_{2}'-p_{2})^{\\nu}u(p_{2})}{(p_{1}-p_{1}')^{2}-m_{\\pi}^{2}}.\n",
    "$$"
   ]
  },
  {
   "cell_type": "markdown",
   "metadata": {},
   "source": [
    "## Models for nuclear forces and derivation of non-relativistic expressions\n",
    "The factors $p_{1}-p_{1}'=p_{2}'-p_{2}$ are both the four-momentum of the \n",
    "exchanged meson and come from the derivative of the meson field in \n",
    "the interaction Lagrangian. \n",
    "The Dirac spinors obey"
   ]
  },
  {
   "cell_type": "markdown",
   "metadata": {},
   "source": [
    "$$\n",
    "\\begin{eqnarray*}\n",
    "\\gamma_{\\mu}p^{\\mu}u(p)&=&mu(p) \\nonumber \\\\\n",
    "\\overline{u}(p)\\gamma_{\\mu}p^{\\mu}&=&m\\overline{u}(p). \\nonumber\n",
    "\\end{eqnarray*}\n",
    "$$"
   ]
  },
  {
   "cell_type": "markdown",
   "metadata": {},
   "source": [
    "## Models for nuclear forces and derivation of non-relativistic expressions\n",
    "Using these relations, together with $\\{\\gamma_{5},\\gamma_{\\mu}\\}=0$, we find"
   ]
  },
  {
   "cell_type": "markdown",
   "metadata": {},
   "source": [
    "$$\n",
    "\\begin{eqnarray*}\n",
    "\\overline{u}(p_{1}')\\gamma_{5}\\gamma_{\\mu}(p_{1}-p_{1}')^{\\mu}u(p_{1})\n",
    "&=&m\\overline{u}(p_{1}')\\gamma_{5}u(p_{1})+\\overline{u}(p_{1}')\\gamma_{\\mu}\n",
    "p_{1}'^{\\mu}\\gamma_{5}u(p_{1}) \\nonumber \\\\\n",
    " &=&2m\\overline{u}(p_{1}')\\gamma_{5}u(p_{1}) \\nonumber\n",
    "\\end{eqnarray*}\n",
    "$$"
   ]
  },
  {
   "cell_type": "markdown",
   "metadata": {},
   "source": [
    "and"
   ]
  },
  {
   "cell_type": "markdown",
   "metadata": {},
   "source": [
    "$$\n",
    "\\overline{u}(p_{2}')\\gamma_{5}\\gamma_{\\mu}(p_{2}'-p_{2})^{\\mu}=\n",
    "-2m\\overline{u}(p_{2}')\\gamma_{5}u(p_{1}).\n",
    "$$"
   ]
  },
  {
   "cell_type": "markdown",
   "metadata": {},
   "source": [
    "## Models for nuclear forces and derivation of non-relativistic expressions\n",
    "We get"
   ]
  },
  {
   "cell_type": "markdown",
   "metadata": {},
   "source": [
    "$$\n",
    "V^{pv}=-\\frac{f_{\\pi}^{2}}{m_{\\pi}^{2}}4m^{2}\\frac{\\overline{u}(p_{1}')\n",
    "\\gamma_{5}u(p_{1})\\overline{u}(p_{2}')\\gamma_{5}u(p_{2})}{(p_{1}-p_{1}')\n",
    "^{2}-m_{\\pi}^{2}}.\n",
    "$$"
   ]
  },
  {
   "cell_type": "markdown",
   "metadata": {},
   "source": [
    "By inserting expressions for the Dirac spinors, we find"
   ]
  },
  {
   "cell_type": "markdown",
   "metadata": {},
   "source": [
    "$$\n",
    "\\begin{eqnarray*}\n",
    "\\overline{u}(p_{1}')\\gamma_{5}u(p_{1})&=&\\sqrt{\\frac{(E_{1}'+m)(E_{1}+m)}\n",
    "{4m^{2}}}\\left(\\begin{array}{cc}\\chi^{\\dagger}&-\\frac{\\sigma_{1}\\cdot{\n",
    "\\bf p_{1}}}{E_{1}'\n",
    "+m}\\chi^{\\dagger}\\end{array}\\right)\\left(\\begin{array}{cc}0&1\\\\1&0\\end{array}\n",
    "\\right)\\nonumber \\\\\n",
    " &&\\times \\left(\\begin{array}{c}\\chi\\\\ \\frac{\\sigma_{1}\\cdot\\mathbf{p_{1}}}{E_{1}+m}\\chi\n",
    "\\end{array}\\right) \n",
    "\\nonumber \\\\\n",
    " &=&\\sqrt{\\frac{(E_{1}'+m)(E_{1}+m)}{4m^{2}}}\\left(\\frac{\\sigma_{1}\\cdot\n",
    "\\mathbf{p_{1}}}{E_{1}+m}-\\frac{\\sigma_{1}\\cdot\\mathbf{p_{1}'}}{E_{1}'+m}\\right) \n",
    "\\nonumber \n",
    "\\end{eqnarray*}\n",
    "$$"
   ]
  },
  {
   "cell_type": "markdown",
   "metadata": {},
   "source": [
    "## Models for nuclear forces and derivation of non-relativistic expressions\n",
    "Similarly"
   ]
  },
  {
   "cell_type": "markdown",
   "metadata": {},
   "source": [
    "$$\n",
    "\\overline{u}(p_{2}')\\gamma_{5}u(p_{2})=\\sqrt{\\frac{(E_{2}'+m)(E_{2}+m)}\n",
    "{4m^{2}}}\\left(\\frac{\\sigma_{2}\\cdot \\mathbf{p}_{2}}{E_{2}+m}-\n",
    "\\frac{\\sigma_{2}\\cdot\\mathbf{p'}_{2}}{E_{2}'+m}\\right).\n",
    "$$"
   ]
  },
  {
   "cell_type": "markdown",
   "metadata": {},
   "source": [
    "In the CM system we have $\\mathbf{p}_{2}=-\\mathbf{p}_{1}$, $\\mathbf{p'}_{2}=\n",
    "-\\mathbf{p'}_{1}$ and so $E_{2}=E_{1}$, $E_{2}'=E_{1}'$.  \n",
    "We can then write down the relativistic contribution \n",
    "to the NN potential in the CM system:"
   ]
  },
  {
   "cell_type": "markdown",
   "metadata": {},
   "source": [
    "$$\n",
    "\\begin{eqnarray}\n",
    "V^{pv}&=&-\\frac{f_{\\pi}^{2}}{m_{\\pi}^{2}}4m^{2}\\frac{1}{(p_{1}-p_{1}')^{2}-\n",
    "m_{\\pi}^{2}}\\frac{(E_{1}+m)(E_{1}'+m)}{4m^{2}} \\nonumber \\\\ \n",
    " &\\times&\\left(\\frac{\\sigma_{1}\\cdot\\mathbf{p}_{1}}{E_{1}+m}-\\frac{\\sigma_{1}\n",
    "\\cdot\\mathbf{p'}_{1}}{E_{1}'+m}\\right)\\left(\\frac{\\sigma_{2}\\cdot\\mathbf{p}_{1}}\n",
    "{E_{1}+m}-\\frac{\\sigma_{2}\\cdot\\mathbf{p'}_{1}}{E_{1}'+m}\\right). \\nonumber\n",
    "\\end{eqnarray}\n",
    "$$"
   ]
  },
  {
   "cell_type": "markdown",
   "metadata": {},
   "source": [
    "## Models for nuclear forces and derivation of non-relativistic expressions\n",
    "In the non-relativistic limit we have to lowest order"
   ]
  },
  {
   "cell_type": "markdown",
   "metadata": {},
   "source": [
    "$$\n",
    "E_{1}=\\sqrt{\\mathbf{p}_{1}^{2}+m^{2}}\\approx m \\approx E_{1}'\n",
    "$$"
   ]
  },
  {
   "cell_type": "markdown",
   "metadata": {},
   "source": [
    "and then $(p_{1}-p_{1}')^{2}=-\\mathbf{k}^{2}$, so we get \n",
    "for the contribution to the NN potential"
   ]
  },
  {
   "cell_type": "markdown",
   "metadata": {},
   "source": [
    "$$\n",
    "\\begin{eqnarray}\n",
    "V^{pv}&=&-\\frac{f_{\\pi}^{2}}{m_{\\pi}^{2}}4m^{2}\\frac{1}{\\mathbf{k}^{2}+m^{2}}\n",
    "\\frac{2m\\cdot 2m}{4m^{2}}\\frac{\\sigma_{1}}{2m}\\cdot(\\mathbf{p}_{1}-\\mathbf{p'}_{1})\n",
    "\\frac{\\sigma_{2}}{2m}\\cdot (\\mathbf{p}_{1}-\\mathbf{p'}_{1}) \\nonumber \\\\ \n",
    " &=&-\\frac{f_{\\pi}^{2}}{m_{\\pi}^{2}}\n",
    "\\frac{(\\sigma_{1}\\cdot\\mathbf{k})(\\sigma_{2}\\cdot\\mathbf{k})}{\\mathbf{k}^{2}+m_{\\pi}^{2}}.\n",
    "\\nonumber\n",
    "\\end{eqnarray}\n",
    "$$"
   ]
  },
  {
   "cell_type": "markdown",
   "metadata": {},
   "source": [
    "We have omitted exchange terms and the isospin term $\\mathbf{\\tau}_1\\cdot\\mathbf{\\tau}_2$.\n",
    "\n",
    "\n",
    "\n",
    "## Models for nuclear forces and derivation of non-relativistic expressions\n",
    "We have"
   ]
  },
  {
   "cell_type": "markdown",
   "metadata": {},
   "source": [
    "$$\n",
    "V^{pv}(k)=-\\frac{f_{\\pi}^{2}}{m_{\\pi}^{2}}\n",
    "\\frac{(\\sigma_{1}\\cdot\\mathbf{k})(\\sigma_{2}\\cdot\\mathbf{k})}{\\mathbf{k}^{2}+m_{\\pi}^{2}}.\n",
    "$$"
   ]
  },
  {
   "cell_type": "markdown",
   "metadata": {},
   "source": [
    "In coordinate space we have"
   ]
  },
  {
   "cell_type": "markdown",
   "metadata": {},
   "source": [
    "$$\n",
    "V^{pv}(r)=\\int\\frac{d^3k}{(2\\pi)^3}e^{i\\mathbf{kr}}V^{pv}(k)\n",
    "$$"
   ]
  },
  {
   "cell_type": "markdown",
   "metadata": {},
   "source": [
    "resulting in"
   ]
  },
  {
   "cell_type": "markdown",
   "metadata": {},
   "source": [
    "$$\n",
    "V^{pv}(r)=-\\frac{f_{\\pi}^{2}}{m_{\\pi}^{2}}\n",
    "\\sigma_{1}\\cdot{\\nabla}\\sigma_{2}\\cdot{\\nabla}\n",
    "\\int\\frac{d^3k}{(2\\pi)^3}e^{i\\mathbf{kr}}\\frac{1}{\\mathbf{k}^{2}+m_{\\pi}^{2}}.\n",
    "$$"
   ]
  },
  {
   "cell_type": "markdown",
   "metadata": {},
   "source": [
    "## Models for nuclear forces and derivation of non-relativistic expressions\n",
    "We obtain"
   ]
  },
  {
   "cell_type": "markdown",
   "metadata": {},
   "source": [
    "$$\n",
    "V^{pv}(r)=-\\frac{f_{\\pi}^{2}}{m_{\\pi}^{2}}\\sigma_{1}\\cdot{\\nabla}\\sigma_{2}\\cdot{\\nabla}\\frac{e^{-m_{\\pi}r}}{r}.\n",
    "$$"
   ]
  },
  {
   "cell_type": "markdown",
   "metadata": {},
   "source": [
    "Carrying out the differentation of"
   ]
  },
  {
   "cell_type": "markdown",
   "metadata": {},
   "source": [
    "$$\n",
    "V^{pv}(r)=-\\frac{f_{\\pi}^{2}}{m_{\\pi}^{2}}\\sigma_{1}\\cdot{\\nabla}\\sigma_{2}\\cdot{\\nabla}\\frac{e^{-m_{\\pi}r}}{r}.\n",
    "$$"
   ]
  },
  {
   "cell_type": "markdown",
   "metadata": {},
   "source": [
    "we arrive at the famous one-pion exchange potential with central and tensor parts"
   ]
  },
  {
   "cell_type": "markdown",
   "metadata": {},
   "source": [
    "$$\n",
    "V(\\mathbf{r})= -\\frac{f_{\\pi}^{2}}{m_{\\pi}^{2}}\\left\\{C_{\\sigma}\\mathbf{\\sigma}_1\\cdot\\mathbf{\\sigma}_2+ C_T \\left( 1 + \\frac{3}{m_\\alpha r} + \\frac{3}{\\left(m_\\alpha r\\right)^2}\\right) S_{12}(\\hat r)\\right\\}\\frac{\\exp{-m_\\pi r}}{m_\\pi r}.\n",
    "$$"
   ]
  },
  {
   "cell_type": "markdown",
   "metadata": {},
   "source": [
    "For the full potential add the exchange part and the $\\mathbf{\\tau}_1\\cdot\\mathbf{\\tau}_2$ term as well. (Subtle point: there is a divergence which gets cancelled by using cutoffs) This leads to coefficients $C_{\\sigma}$ and $C_T$ which are fitted to data.\n",
    "\n",
    "\n",
    "\n",
    "## Models for nuclear forces and derivation of non-relativistic expressions\n",
    "When we perform similar non-relativistic expansions for scalar and vector mesons we obtain\n",
    "for the $\\sigma$ meson"
   ]
  },
  {
   "cell_type": "markdown",
   "metadata": {},
   "source": [
    "$$\n",
    "V^{\\sigma}= g_{\\sigma NN}^{2}\\frac{1}{\\mathbf{k}^{2}+m_{\\sigma}^{2}}\\left (-1+\\frac{\\mathbf{q}^{2}}{2M_N^2}\n",
    "-\\frac{\\mathbf{k}^{2}}{8M_N^2}-\\frac{\\mathbf{LS}}{2M_N^2}\\right).\n",
    "$$"
   ]
  },
  {
   "cell_type": "markdown",
   "metadata": {},
   "source": [
    "We note an attractive central force and spin-orbit force. This term has an intermediate range.\n",
    "We have defined $1/2(p_{1}+p_{1}')=\\mathbf{q}$.\n",
    "For the full potential add the exchange part and the isospin dependence as well.\n",
    "\n",
    "\n",
    "\n",
    "## Models for nuclear forces and derivation of non-relativistic expressions\n",
    "We obtain\n",
    "for the $\\omega$ meson"
   ]
  },
  {
   "cell_type": "markdown",
   "metadata": {},
   "source": [
    "$$\n",
    "V^{\\omega}= g_{\\omega NN}^{2}\\frac{1}{\\mathbf{k}^{2}+m_{\\omega}^{2}}\\left (1-3\\frac{\\mathbf{LS}}{2M_N^2}\\right).\n",
    "$$"
   ]
  },
  {
   "cell_type": "markdown",
   "metadata": {},
   "source": [
    "We note a repulsive central force and an attractive spin-orbit force. This term has  short range.\n",
    "For the full potential add the exchange part and the isospin dependence as well.\n",
    "\n",
    "\n",
    "\n",
    "## Models for nuclear forces and derivation of non-relativistic expressions\n",
    "Finally \n",
    "for the $\\rho$ meson"
   ]
  },
  {
   "cell_type": "markdown",
   "metadata": {},
   "source": [
    "$$\n",
    "V^{\\rho}= g_{\\rho NN}^{2}\\frac{\\mathbf{k}^{2}}{\\mathbf{k}^{2}+m_{\\rho}^{2}}\\left (\n",
    "-2\\sigma_{1}\\sigma_{2}+S_{12}(\\hat{k})\\right)\\tau_{1}\\tau_{2}.\n",
    "$$"
   ]
  },
  {
   "cell_type": "markdown",
   "metadata": {},
   "source": [
    "We note a tensor force with sign opposite to that of the pion. This term has  short range. For the full potential add the exchange part and the isospin dependence as well."
   ]
  }
 ],
 "metadata": {},
 "nbformat": 4,
 "nbformat_minor": 2
}
