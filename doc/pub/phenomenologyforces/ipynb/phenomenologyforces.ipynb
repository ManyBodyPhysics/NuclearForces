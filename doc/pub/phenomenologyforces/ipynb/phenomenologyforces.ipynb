{
 "cells": [
  {
   "cell_type": "markdown",
   "metadata": {},
   "source": [
    "<!-- Slides for PHY989 -->\n",
    "<!-- dom:TITLE: Phenomenology of Nuclear Forces -->\n",
    "# Phenomenology of Nuclear Forces\n",
    "<!-- dom:AUTHOR: Scott Bogner at [National Superconducting Cyclotron Laboratory](http://www.nscl.msu.edu/) and [Department of Physics and Astronomy](https://www.pa.msu.edu/), [Michigan State University](http://www.msu.edu/), East Lansing, MI 48824, USA -->\n",
    "<!-- Author: --> **Scott Bogner**, [National Superconducting Cyclotron Laboratory](http://www.nscl.msu.edu/) and [Department of Physics and Astronomy](https://www.pa.msu.edu/), [Michigan State University](http://www.msu.edu/), East Lansing, MI 48824, USA\n",
    "\n",
    "<!-- dom:AUTHOR: Morten Hjorth-Jensen at [National Superconducting Cyclotron Laboratory](http://www.nscl.msu.edu/) and [Department of Physics and Astronomy](https://www.pa.msu.edu/), [Michigan State University](http://www.msu.edu/), East Lansing, MI 48824, USA -->\n",
    "<!-- Author: --> **Morten Hjorth-Jensen**, [National Superconducting Cyclotron Laboratory](http://www.nscl.msu.edu/) and [Department of Physics and Astronomy](https://www.pa.msu.edu/), [Michigan State University](http://www.msu.edu/), East Lansing, MI 48824, USA\n",
    "\n",
    "Date: **2017**\n",
    "\n",
    "## Components of the force and isospin\n",
    " The nuclear forces are almost charge independent. If we assume they are, \n",
    "we can introduce a new quantum number which is conserved. For nucleons only, that is a proton and neutron, we can limit ourselves\n",
    "to two possible values which allow us to distinguish between the two particles. If we assign an isospin value of $\\tau=1/2$ for protons\n",
    "and neutrons (they belong to an isospin doublet, in the same way as we discussed the spin $1/2$ multiplet), we can define \n",
    "the neutron to have isospin projection $\\tau_z=+1/2$ and a proton to have $\\tau_z=-1/2$. These assignements are the standard choices in low-energy nuclear physics.\n",
    "\n",
    "\n",
    "\n",
    "\n",
    "## Phenomenology of nuclear forces\n",
    "**From Yukawa to Lattice QCD and Effective Field Theory.**\n",
    "\n",
    "\n",
    "* Chadwick (1932) discovers the neutron and Heisenberg (1932) proposes the first Phenomenology (Isospin).  \n",
    "\n",
    "* Yukawa (1935) and his Meson Hypothesis       \n",
    "\n",
    "* Discovery of the pion in cosmic ray (1947) and in the Berkeley Cyclotron Lab (1948).\n",
    "\n",
    "* Nobelprize awarded to Yukawa (1949).  Rabi (1948) measures quadrupole moment of the deuteron.\n",
    "\n",
    "* Taketani, Nakamura, Sasaki (1951): 3 ranges.      One-Pion-Exchange (OPE): o.k.\n",
    "\n",
    "* Multi-pion exchanges: Problems!   Taketani, Machida, Onuma (1952);\n",
    "\n",
    "* *Pion Theories* Brueckner, Watson (1953).\n",
    "\n",
    "\n",
    "\n",
    "## Phenomenology of nuclear forces\n",
    "**From Yukawa to Lattice QCD and Effective Field Theory.**\n",
    "\n",
    "\n",
    "* Many pions = multi-pion resonances: $\\sigma(600)$,  $\\rho(770)$,  $\\omega(782)$ etc. One-Boson-Exchange Model.\n",
    "\n",
    "* Refined Meson Theories\n",
    "\n",
    "* Sophisticated models for two-pion exchange:\n",
    "\n",
    "      * Paris Potential (Lacombe et al., Phys. Rev. C **21**, 861 (1980))\n",
    "\n",
    "      * Bonn potential (Machleidt et al., Phys. Rep. **149**, 1 (1987))\n",
    "\n",
    "\n",
    "*Quark cluster models. Begin of effective field theory studies.\n",
    "\n",
    "\n",
    "\n",
    "## Phenomenology of nuclear forces\n",
    "**From Yukawa to Lattice QCD and Effective Field Theory.**\n",
    "\n",
    "\n",
    "* 1990's\n",
    "\n",
    "  * 1993-2001: High-precision NN potentials: Nijmegen I, II, '93, Reid93 (Stoks et al. 1994), \n",
    "\n",
    "  * Argonne V18 (Wiringa et al, 1995), CD-Bonn (Machleidt et al. 1996 and 2001. \n",
    "\n",
    "  * Advances in effective field theory: Weinberg (1990); Ordonez, Ray, van Kolck and many more.\n",
    "\n",
    "\n",
    "* 3rd Millenium\n",
    "\n",
    "  * Another \"pion theory\"; but now right: constrained by chiral symmetry. Three-body and higher-body forces appear naturally at a given order of the chiral expansion. \n",
    "\n",
    "\n",
    "Nucleon-nucleon interaction from Lattice QCD, final confirmation of meson hypothesis of Yukawa?  See for example Ishii *et al*, PRL 2007\n",
    "\n",
    "\n",
    "\n",
    "\n",
    "## Phenomenology of nuclear forces\n",
    "**Features of the Nucleon-Nucleon (NN) Force.**\n",
    "\n",
    "\n",
    "The aim is to give you an overview over central features of the nucleon-nucleon interaction and how it is constructed, with both technical and theoretical approaches. \n",
    "\n",
    "* The existence of the deuteron with $J^{\\pi}=1^+$ indicates that the force between protons and neutrons is attractive at least for the $^3S_1$ partial wave. Interference between Coulomb and nuclear scattering for the proton-proton partial wave $^1S_0$ shows that  the NN force is attractive at least for the $^1S_0$ partial wave. \n",
    "\n",
    "* It has a short range and strong intermediate attraction.\n",
    "\n",
    "* Spin dependent, scattering lengths for triplet and singlet states are different,\n",
    "\n",
    "* Spin-orbit force. Observation of large polarizations of scattered nucleons perpendicular to the plane of scattering.\n",
    "\n",
    "\n",
    "\n",
    "## Phenomenology of nuclear forces\n",
    "\n",
    "* Strongly repulsive core. The $s$-wave phase shift becomes negative at $\\approx 250$ MeV implying that the singlet $S$ has a hard core with range $0.4-0.5$ fm. \n",
    "\n",
    "* Charge independence (almost). Two nucleons in a given two-body state always (almost) experience the same force. Modern interactions break charge and isospin symmetry lightly. That means that the pp, neutron-neutron and pn parts of the interaction will be different for the same quantum numbers. \n",
    "\n",
    "* Non-central. There is a tensor force. First indications from the quadrupole moment of the deuteron pointing to an admixture in the ground state of both $l=2$ ($^3D_1$) and $l=0$ ($^3S_1$) orbital momenta.\n",
    "\n",
    "\n",
    "\n",
    "## Phenomenology of nuclear forces\n",
    "**Short Range Evidence.**\n",
    "\n",
    "Comparison of the binding energies of\n",
    "${}^2\\mbox{H}$ (deuteron), ${}^3\\mbox{H}$ (triton), ${}^4\\mbox{He}$ (alpha - particle) show that the nuclear force is of finite range ($1-2$ fm) and very strong within that range.\n",
    "\n",
    "For nuclei with $A>4$, the energy saturates: Volume and binding energies of nuclei are proportional to the mass number $A$ (as we saw from exercise 1).\n",
    "\n",
    "Nuclei are also bound. The average distance\n",
    "between nucleons in nuclei is about $2$ fm which\n",
    "must roughly correspond to the range of the\n",
    "attractive part.\n",
    "\n",
    "\n",
    "\n",
    "## Phenomenology of nuclear forces\n",
    "**Charge Dependence.**\n",
    "\n",
    "\n",
    " * After correcting for the electromagnetic interaction, the forces between nucleons (pp, nn, or np) in the same state are almost the same.\n",
    "\n",
    " * *Almost the same*: Charge-independence is slightly broken.\n",
    "\n",
    " * Equality between the pp and nn forces: Charge symmetry.\n",
    "\n",
    " * Equality between pp/nn force and np force: Charge independence.\n",
    "\n",
    " * Better notation: Isospin symmetry, invariance under rotations in isospin\n",
    "\n",
    "\n",
    "\n",
    "## Phenomenology of nuclear forces\n",
    "**Charge Dependence, $^1S_0$ Scattering Lengths.**\n",
    "\n",
    "\n",
    "Charge-symmetry breaking (CSB), after electromagnetic effects\n",
    "have been removed:\n",
    "* $a_{pp}=  -17.3 \\pm 0.4 \\hspace{0.cm} \\mathrm{fm}$\n",
    "\n",
    "* $a_{nn}=-18.8 \\pm 0.5 \\hspace{0.cm} \\mathrm{fm}$. Note however discrepancy from $nd$ breakup reactions resulting in  $a_{nn}=-18.72 \\pm 0.13 \\pm 0.65 \\hspace{0.cm} \\mathrm{fm}$ and $\\pi^- + d \\rightarrow \\gamma + 2n$ reactions giving  $a_{nn}=-18.93 \\pm 0.27 \\pm 0.3 \\hspace{0.cm} \\mathrm{fm}$.\n",
    "\n",
    "Charge-independence breaking (CIB)\n",
    "* $a_{pn}=  -23.74 \\pm 0.02 \\hspace{0.cm} \\mathrm{fm}$\n",
    "\n",
    "\n",
    "\n",
    "\n",
    "\n",
    "## Symmetries of the Nucleon-Nucleon (NN) Force\n",
    "* Translation invariance\n",
    "\n",
    "* Galilean invariance\n",
    "\n",
    "* Rotation invariance in space\n",
    "\n",
    "* Space reflection invariance\n",
    "\n",
    "* Time reversal invariance\n",
    "\n",
    "* Invariance under the interchange of particle $1$ and $2$\n",
    "\n",
    "* Almost isospin symmetry\n",
    "\n",
    "\n",
    "\n",
    "\n",
    "\n",
    "## A typical form of the nuclear force\n",
    "Here we display a typical way to parametrize (non-relativistic expression) the nuclear two-body force\n",
    "in terms of some operators, the central part, the spin-spin part and the central force."
   ]
  },
  {
   "cell_type": "markdown",
   "metadata": {},
   "source": [
    "0\n",
    " \n",
    "<\n",
    "<\n",
    "<\n",
    "!\n",
    "!\n",
    "M\n",
    "A\n",
    "T\n",
    "H\n",
    "_\n",
    "B\n",
    "L\n",
    "O\n",
    "C\n",
    "K"
   ]
  },
  {
   "cell_type": "markdown",
   "metadata": {},
   "source": [
    "$$\n",
    "\\left. + C_{SL} \\left( {1\\over m_\\alpha r} + {1\\over \\left( m_\\alpha r\\right)^2}\n",
    "\\right) \\mathbf{L}\\cdot \\mathbf{S}\n",
    "\\right\\} \\frac{e^{-m_\\alpha r}}{m_\\alpha r}\n",
    "$$"
   ]
  },
  {
   "cell_type": "markdown",
   "metadata": {},
   "source": [
    "How do we derive such terms?  (Note: no isospin dependence and that the above is an approximation)\n",
    "\n",
    "\n",
    "\n",
    "\n",
    "## Nuclear forces\n",
    "To derive the above famous form of the nuclear force using field theoretical concepts, we will need some \n",
    "elements from relativistic quantum mechanics. These derivations will be given below. \n",
    "The material here gives some background to this.\n",
    "I know that many of you have not taken a course in quantum field theory. I hope however that you can see the basic ideas leading to the famous non-relativistic expressions for the nuclear force. \n",
    "\n",
    "**Furthermore, when we analyze nuclear data, we will actually try to explain properties like spectra, single-particle energies etc in terms of the various terms of the nuclear force. Moreover, many of you will hear about these terms at various talks, workshops, seminars etc. Then, it is good to have an idea of what people actually mean!!**\n",
    "\n",
    "  \n",
    "\n",
    "## Dramatis Personae\n",
    "\n",
    "<table border=\"1\">\n",
    "<thead>\n",
    "<tr><th align=\"center\"> Baryons </th> <th align=\"center\">Mass (MeV)</th> <th align=\"center\">   Mesons  </th> <th align=\"center\">   Mass (MeV)  </th> </tr>\n",
    "</thead>\n",
    "<tbody>\n",
    "<tr><td align=\"center\">   $p,n$        </td> <td align=\"center\">   938.926       </td> <td align=\"center\">   $\\pi$          </td> <td align=\"center\">   138.03             </td> </tr>\n",
    "<tr><td align=\"center\">   $\\Lambda$    </td> <td align=\"center\">   1116.0        </td> <td align=\"center\">   $\\eta$         </td> <td align=\"center\">   548.8              </td> </tr>\n",
    "<tr><td align=\"center\">   $\\Sigma$     </td> <td align=\"center\">   1197.3        </td> <td align=\"center\">   $\\sigma$       </td> <td align=\"center\">   $\\approx 550.0$    </td> </tr>\n",
    "<tr><td align=\"center\">   $\\Delta$     </td> <td align=\"center\">   1232.0        </td> <td align=\"center\">   $\\rho$         </td> <td align=\"center\">   770                </td> </tr>\n",
    "<tr><td align=\"center\">                </td> <td align=\"center\">                 </td> <td align=\"center\">   $\\omega$       </td> <td align=\"center\">   782.6              </td> </tr>\n",
    "<tr><td align=\"center\">                </td> <td align=\"center\">                 </td> <td align=\"center\">   $\\delta$       </td> <td align=\"center\">   983.0              </td> </tr>\n",
    "<tr><td align=\"center\">                </td> <td align=\"center\">                 </td> <td align=\"center\">   $K$            </td> <td align=\"center\">   495.8              </td> </tr>\n",
    "<tr><td align=\"center\">                </td> <td align=\"center\">                 </td> <td align=\"center\">   $K^{\\star}$    </td> <td align=\"center\">   895.0              </td> </tr>\n",
    "</tbody>\n",
    "</table>\n",
    "\n",
    "\n",
    "\n",
    "\n",
    "## Components of the force and quantum numbers\n",
    "But before we proceed, we will look into specific quantum numbers of the relative system and study \n",
    "expectation vaues of the various terms of"
   ]
  },
  {
   "cell_type": "markdown",
   "metadata": {},
   "source": [
    "2\n",
    " \n",
    "<\n",
    "<\n",
    "<\n",
    "!\n",
    "!\n",
    "M\n",
    "A\n",
    "T\n",
    "H\n",
    "_\n",
    "B\n",
    "L\n",
    "O\n",
    "C\n",
    "K"
   ]
  },
  {
   "cell_type": "markdown",
   "metadata": {},
   "source": [
    "$$\n",
    "\\left. + C_{SL} \\left( {1\\over m_\\alpha r} + {1\\over \\left( m_\\alpha r\\right)^2}\n",
    "\\right) \\mathbf{L}\\cdot \\mathbf{S}\n",
    "\\right\\} \\frac{e^{-m_\\alpha r}}{m_\\alpha r}\n",
    "$$"
   ]
  },
  {
   "cell_type": "markdown",
   "metadata": {},
   "source": [
    "## Relative and CoM system, quantum numbers\n",
    "\n",
    "When solving the scattering equation or solving the two-nucleon problem, it is convenient to rewrite the Schroedinger equation, due to\n",
    "the spherical symmetry of the Hamiltonian, in relative and center-of-mass coordinates. This will also define the quantum numbers of the relative and center-of-mass system and will aid us later in solving\n",
    "the so-called Lippman-Schwinger equation for the scattering problem. \n",
    "\n",
    "We define the center-of-mass (CoM)  momentum as"
   ]
  },
  {
   "cell_type": "markdown",
   "metadata": {},
   "source": [
    "$$\n",
    "\\mathbf{K}=\\sum_{i=1}^A\\mathbf{k}_i,\n",
    "$$"
   ]
  },
  {
   "cell_type": "markdown",
   "metadata": {},
   "source": [
    "with $\\hbar=c=1$ the wave number $k_i=p_i$, with $p_i$ the pertinent momentum of a single-particle state. \n",
    "We have also the relative momentum"
   ]
  },
  {
   "cell_type": "markdown",
   "metadata": {},
   "source": [
    "$$\n",
    "\\mathbf{k}_{ij}=\\frac{1}{2}(\\mathbf{k}_i-\\mathbf{k}_j).\n",
    "$$"
   ]
  },
  {
   "cell_type": "markdown",
   "metadata": {},
   "source": [
    "We will below skip the indices $ij$ and simply write $\\mathbf{k}$\n",
    "\n",
    "\n",
    "\n",
    "## Relative and CoM system, quantum numbers\n",
    "\n",
    "In a similar fashion we can define the CoM coordinate"
   ]
  },
  {
   "cell_type": "markdown",
   "metadata": {},
   "source": [
    "$$\n",
    "\\mathbf{R}=\\frac{1}{A}\\sum_{i=1}^{A}\\mathbf{r}_i,\n",
    "$$"
   ]
  },
  {
   "cell_type": "markdown",
   "metadata": {},
   "source": [
    "and the relative distance"
   ]
  },
  {
   "cell_type": "markdown",
   "metadata": {},
   "source": [
    "$$\n",
    "\\mathbf{r}_{ij}=(\\mathbf{r}_i-\\mathbf{r}_j).\n",
    "$$"
   ]
  },
  {
   "cell_type": "markdown",
   "metadata": {},
   "source": [
    "## Relative and CoM system, quantum numbers\n",
    "With the definitions"
   ]
  },
  {
   "cell_type": "markdown",
   "metadata": {},
   "source": [
    "$$\n",
    "\\mathbf{K}=\\sum_{i=1}^A\\mathbf{k}_i,\n",
    "$$"
   ]
  },
  {
   "cell_type": "markdown",
   "metadata": {},
   "source": [
    "and"
   ]
  },
  {
   "cell_type": "markdown",
   "metadata": {},
   "source": [
    "$$\n",
    "\\mathbf{k}_{ij}=\\frac{1}{2}(\\mathbf{k}_i-\\mathbf{k}_j).\n",
    "$$"
   ]
  },
  {
   "cell_type": "markdown",
   "metadata": {},
   "source": [
    "we can rewrite the two-particle kinetic energy (note that we use $\\hbar=c=1$ as"
   ]
  },
  {
   "cell_type": "markdown",
   "metadata": {},
   "source": [
    "$$\n",
    "\\frac{\\mathbf{k}_1^2}{2m_n}+\\frac{\\mathbf{k}_2^2}{2m_n}=\\frac{\\mathbf{k}^2}{m_n}+\\frac{\\mathbf{K}^2}{4m_n},\n",
    "$$"
   ]
  },
  {
   "cell_type": "markdown",
   "metadata": {},
   "source": [
    "where $m_n$ is the average of the proton and the neutron masses.\n",
    "\n",
    "\n",
    "\n",
    "\n",
    "## Relative and CoM system, quantum numbers\n",
    "\n",
    "Since the two-nucleon interaction depends only on the relative distance, this means that we can separate Schroedinger's equation in an equation for the center-of-mass motion and one for the relative motion.\n",
    "\n",
    "With an equation for the relative motion only and a separate one for the center-of-mass motion we need to redefine the two-body quantum numbers.\n",
    "\n",
    "Previously we had a two-body state vector defined as $|(j_1j_2)JM_J\\rangle$ in a coupled basis. \n",
    "We will now define the quantum numbers for the relative motion. Here we need to define new orbital momenta (since these are the quantum numbers which change). \n",
    "We define"
   ]
  },
  {
   "cell_type": "markdown",
   "metadata": {},
   "source": [
    "$$\n",
    "\\hat{l}_1+\\hat{l}_2=\\hat{\\lambda}=\\hat{l}+\\hat{L},\n",
    "$$"
   ]
  },
  {
   "cell_type": "markdown",
   "metadata": {},
   "source": [
    "where $\\hat{l}$ is the orbital momentum associated with the relative motion and\n",
    "$\\hat{L}$ the corresponding one linked with the CoM. The total spin $S$ is unchanged since it acts in a different space. We have thus that"
   ]
  },
  {
   "cell_type": "markdown",
   "metadata": {},
   "source": [
    "$$\n",
    "\\hat{J}=\\hat{l}+\\hat{L}+\\hat{S},\n",
    "$$"
   ]
  },
  {
   "cell_type": "markdown",
   "metadata": {},
   "source": [
    "which allows us to define the angular momentum of the relative motion"
   ]
  },
  {
   "cell_type": "markdown",
   "metadata": {},
   "source": [
    "$$\n",
    "{ \\cal J} =  \\hat{l}+\\hat{S},\n",
    "$$"
   ]
  },
  {
   "cell_type": "markdown",
   "metadata": {},
   "source": [
    "where ${ \\cal J}$ is the total angular momentum of the relative motion.\n",
    "\n",
    "\n",
    "\n",
    "## Phenomenology of nuclear forces\n",
    "\n",
    "The total two-nucleon state function has to be anti-symmetric. The total function contains a spatial part, a spin part and an isospin part. If isospin is conserved, this leads to in case we have an $s$-wave with spin $S=0$ to an isospin \n",
    "two-body state with $T=1$ since the spatial part is symmetric and the spin part is anti-symmetric. \n",
    "\n",
    "Since the projections for $T$ are $T_z=-1,0,1$, we can have a $pp$, an $nn$ and a $pn$ state.\n",
    "\n",
    "For $l=0$ and $S=1$, a so-called triplet state, $^3S_1$, we must have $T=0$, meaning that we have only one state, a $pn$ state. For other partial waves, the following table lists states up to $f$ waves.\n",
    "We can systemize this in a table as follows, recalling that $|\\mathbf{l}-\\mathbf{S}| \\le |\\mathbf{J}| \\le |\\mathbf{l}+\\mathbf{S}|$,  \n",
    "\n",
    "<table border=\"1\">\n",
    "<thead>\n",
    "<tr><th align=\"center\">$^{2S+1}l_J$</th> <th align=\"center\">$J$</th> <th align=\"center\">$l$</th> <th align=\"center\">$S$</th> <th align=\"center\">$T$</th> <th align=\"center\">$\\vert pp\\rangle$</th> <th align=\"center\">$\\vert pn\\rangle$</th> <th align=\"center\">$\\vert nn\\rangle$</th> </tr>\n",
    "</thead>\n",
    "<tbody>\n",
    "<tr><td align=\"center\">   $^{1}S_0$       </td> <td align=\"center\">   0      </td> <td align=\"center\">   0      </td> <td align=\"center\">   0      </td> <td align=\"center\">   1      </td> <td align=\"center\">   yes                  </td> <td align=\"center\">   yes                  </td> <td align=\"center\">   yes                  </td> </tr>\n",
    "<tr><td align=\"center\">   $^{3}S_1$       </td> <td align=\"center\">   1      </td> <td align=\"center\">   0      </td> <td align=\"center\">   1      </td> <td align=\"center\">   0      </td> <td align=\"center\">   no                   </td> <td align=\"center\">   yes                  </td> <td align=\"center\">   no                   </td> </tr>\n",
    "<tr><td align=\"center\">   $^{3}P_0$       </td> <td align=\"center\">   0      </td> <td align=\"center\">   1      </td> <td align=\"center\">   1      </td> <td align=\"center\">   1      </td> <td align=\"center\">   yes                  </td> <td align=\"center\">   yes                  </td> <td align=\"center\">   yes                  </td> </tr>\n",
    "<tr><td align=\"center\">   $^{1}P_1$       </td> <td align=\"center\">   1      </td> <td align=\"center\">   1      </td> <td align=\"center\">   0      </td> <td align=\"center\">   0      </td> <td align=\"center\">   no                   </td> <td align=\"center\">   yes                  </td> <td align=\"center\">   no                   </td> </tr>\n",
    "<tr><td align=\"center\">   $^{3}P_1$       </td> <td align=\"center\">   1      </td> <td align=\"center\">   1      </td> <td align=\"center\">   1      </td> <td align=\"center\">   1      </td> <td align=\"center\">   yes                  </td> <td align=\"center\">   yes                  </td> <td align=\"center\">   yes                  </td> </tr>\n",
    "<tr><td align=\"center\">   $^{3}P_2$       </td> <td align=\"center\">   2      </td> <td align=\"center\">   1      </td> <td align=\"center\">   1      </td> <td align=\"center\">   1      </td> <td align=\"center\">   yes                  </td> <td align=\"center\">   yes                  </td> <td align=\"center\">   yes                  </td> </tr>\n",
    "<tr><td align=\"center\">   $^{3}D_1$       </td> <td align=\"center\">   1      </td> <td align=\"center\">   2      </td> <td align=\"center\">   1      </td> <td align=\"center\">   0      </td> <td align=\"center\">   no                   </td> <td align=\"center\">   yes                  </td> <td align=\"center\">   no                   </td> </tr>\n",
    "<tr><td align=\"center\">   $^{3}F_2$       </td> <td align=\"center\">   2      </td> <td align=\"center\">   3      </td> <td align=\"center\">   1      </td> <td align=\"center\">   1      </td> <td align=\"center\">   yes                  </td> <td align=\"center\">   yes                  </td> <td align=\"center\">   yes                  </td> </tr>\n",
    "</tbody>\n",
    "</table>\n",
    "\n",
    "\n",
    "\n",
    "\n",
    "\n",
    "## Components of the force and quantum numbers\n",
    "The tensor force is given by"
   ]
  },
  {
   "cell_type": "markdown",
   "metadata": {},
   "source": [
    "$$\n",
    "S_{12} (\\hat r) = \\frac{3}{r^2}\\left(\\mathbf{\\sigma}_1\\cdot \\mathbf{r}\\right) \\left(\\mathbf{\\sigma}_2\\cdot \\mathbf{r}\\right) -\\mathbf{\\sigma}_1\\cdot\\mathbf{\\sigma}_2\n",
    "$$"
   ]
  },
  {
   "cell_type": "markdown",
   "metadata": {},
   "source": [
    "where the Pauli matrices are defined as"
   ]
  },
  {
   "cell_type": "markdown",
   "metadata": {},
   "source": [
    "1\n",
    "5\n",
    " \n",
    "<\n",
    "<\n",
    "<\n",
    "!\n",
    "!\n",
    "M\n",
    "A\n",
    "T\n",
    "H\n",
    "_\n",
    "B\n",
    "L\n",
    "O\n",
    "C\n",
    "K"
   ]
  },
  {
   "cell_type": "markdown",
   "metadata": {},
   "source": [
    "$$\n",
    "\\sigma_y =\\begin{Bmatrix} 0 & -\\imath \\\\ \\imath & 0 \\end{Bmatrix},\n",
    "$$"
   ]
  },
  {
   "cell_type": "markdown",
   "metadata": {},
   "source": [
    "and"
   ]
  },
  {
   "cell_type": "markdown",
   "metadata": {},
   "source": [
    "$$\n",
    "\\sigma_z =\\begin{Bmatrix} 1 & 0 \\\\ 0 & -1 \\end{Bmatrix},\n",
    "$$"
   ]
  },
  {
   "cell_type": "markdown",
   "metadata": {},
   "source": [
    "with the properties $\\sigma = 2\\mathbf{S}$ (the spin of the system, being $1/2$ for nucleons), \n",
    "$\\sigma^2_x=\\sigma^2_y=\\sigma_z=\\mathbf{1}$ and\n",
    "obeying the commutation and anti-commutation relations $\\{\\sigma_x,\\sigma_y\\} =0$\n",
    "$[\\sigma_x,\\sigma_y] =\\imath\\sigma_z$ etc.\n",
    "\n",
    "\n",
    "\n",
    "## Components of the force and quantum numbers\n",
    "When we look at the expectation value of \n",
    "$\\langle \\mathbf{\\sigma}_1\\cdot\\mathbf{\\sigma}_2\\rangle$, we can rewrite this expression in terms of the\n",
    "spin $\\mathbf{S}=\\mathbf{s}_1+\\mathbf{s}_2$, resulting in"
   ]
  },
  {
   "cell_type": "markdown",
   "metadata": {},
   "source": [
    "$$\n",
    "\\langle\\mathbf{\\sigma}_1\\cdot\\mathbf{\\sigma}_2\\rangle=2(S^2-s_1^2-s_2^2)=2S(S+1)-3,\n",
    "$$"
   ]
  },
  {
   "cell_type": "markdown",
   "metadata": {},
   "source": [
    "where we $s_1=s_2=1/2$ leading to"
   ]
  },
  {
   "cell_type": "markdown",
   "metadata": {},
   "source": [
    "$$\n",
    "\\left\\{ \\begin{array}{cc} \\langle\\mathbf{\\sigma}_1\\cdot\\mathbf{\\sigma}_2\\rangle=1 &  \\mathrm{if} \\hspace{0.2cm} S=1\\\\\n",
    "\\langle\\mathbf{\\sigma}_1\\cdot\\mathbf{\\sigma}_2\\rangle=-3 & \\mathrm{if} \\hspace{0.2cm} S=0\\\\\\end{array}\\right.\n",
    "$$"
   ]
  },
  {
   "cell_type": "markdown",
   "metadata": {},
   "source": [
    "## Components of the force and quantum numbers\n",
    "\n",
    "Similarly, the expectation value of the spin-orbit term is"
   ]
  },
  {
   "cell_type": "markdown",
   "metadata": {},
   "source": [
    "$$\n",
    "\\langle \\mathbf{l}\\mathbf{S} \\rangle = \\frac{1}{2}\\left( J(J+1)-l(l+1)-S(S+1)\\right),\n",
    "$$"
   ]
  },
  {
   "cell_type": "markdown",
   "metadata": {},
   "source": [
    "which means that for $s$-waves with either $S=0$ and thereby $J=0$ or $S=1$ and $J=1$, \n",
    "the expectation value for the\n",
    "spin-orbit force is zero. With the above phenomenological model, the\n",
    "only contributions to the expectation value of the potential energy for $s$-waves\n",
    "stem  from the central and the spin-spin components since the\n",
    "expectation value of the tensor force is also zero.\n",
    "\n",
    "\n",
    "\n",
    "## Components of the force and quantum numbers\n",
    " For $s=1/2$ spin values only for two nucleons, the expectation value of the tensor force operator is \n",
    "\n",
    "<table border=\"1\">\n",
    "<thead>\n",
    "<tr><th align=\"center\">     </th> <th align=\"center\">             $l'$            </th> <th align=\"center\">   </th> <th align=\"center\">                             </th> </tr>\n",
    "</thead>\n",
    "<tbody>\n",
    "<tr><td align=\"center\">   $l$      </td> <td align=\"center\">   $J+1$                            </td> <td align=\"center\">   $J$    </td> <td align=\"center\">   $J-1$                            </td> </tr>\n",
    "<tr><td align=\"center\">            </td> <td align=\"center\">                                    </td> <td align=\"center\">          </td> <td align=\"center\">                                    </td> </tr>\n",
    "<tr><td align=\"center\">   $J+1$    </td> <td align=\"center\">   $-\\frac{2J(J+2)}{2J+1}$          </td> <td align=\"center\">   0      </td> <td align=\"center\">   $\\frac{6\\sqrt{J(J+1)}}{2J+1}$    </td> </tr>\n",
    "<tr><td align=\"center\">            </td> <td align=\"center\">                                    </td> <td align=\"center\">          </td> <td align=\"center\">                                    </td> </tr>\n",
    "<tr><td align=\"center\">   $J$      </td> <td align=\"center\">   0                                </td> <td align=\"center\">   2      </td> <td align=\"center\">   0                                </td> </tr>\n",
    "<tr><td align=\"center\">            </td> <td align=\"center\">                                    </td> <td align=\"center\">          </td> <td align=\"center\">                                    </td> </tr>\n",
    "<tr><td align=\"center\">   $J-1$    </td> <td align=\"center\">   $\\frac{6\\sqrt{J(J+1)}}{2J+1}$    </td> <td align=\"center\">   0      </td> <td align=\"center\">   $-\\frac{2(2J+1)}{2J+1}$          </td> </tr>\n",
    "<tr><td align=\"center\">            </td> <td align=\"center\">                                    </td> <td align=\"center\">          </td> <td align=\"center\">                                    </td> </tr>\n",
    "</tbody>\n",
    "</table>\n",
    "We will derive these expressions after we have discussed the Wigner-Eckart theorem.\n",
    "\n",
    "\n",
    "\n",
    "\n",
    "\n",
    "\n",
    "## Components of the force and isospin\n",
    "If we now add isospin to our simple $V_4$ interaction model, we end up with $8$ operators, popularly dubbed $V_8$ interaction model. The explicit form reads"
   ]
  },
  {
   "cell_type": "markdown",
   "metadata": {},
   "source": [
    "2\n",
    "1\n",
    " \n",
    "<\n",
    "<\n",
    "<\n",
    "!\n",
    "!\n",
    "M\n",
    "A\n",
    "T\n",
    "H\n",
    "_\n",
    "B\n",
    "L\n",
    "O\n",
    "C\n",
    "K"
   ]
  },
  {
   "cell_type": "markdown",
   "metadata": {},
   "source": [
    "2\n",
    "2\n",
    " \n",
    "<\n",
    "<\n",
    "<\n",
    "!\n",
    "!\n",
    "M\n",
    "A\n",
    "T\n",
    "H\n",
    "_\n",
    "B\n",
    "L\n",
    "O\n",
    "C\n",
    "K"
   ]
  },
  {
   "cell_type": "markdown",
   "metadata": {},
   "source": [
    "2\n",
    "3\n",
    " \n",
    "<\n",
    "<\n",
    "<\n",
    "!\n",
    "!\n",
    "M\n",
    "A\n",
    "T\n",
    "H\n",
    "_\n",
    "B\n",
    "L\n",
    "O\n",
    "C\n",
    "K"
   ]
  },
  {
   "cell_type": "markdown",
   "metadata": {},
   "source": [
    "$$\n",
    "\\left. + C_{SL\\tau} \\left( {1\\over m_\\alpha r} + {1\\over \\left( m_\\alpha r\\right)^2}\n",
    "\\right) \\mathbf{L}\\cdot \\mathbf{S}\n",
    "\\right\\}\\mathbf{\\tau}_1\\cdot\\mathbf{\\tau}_2 \\frac{e^{-m_\\alpha r}}{m_\\alpha r}\n",
    "$$"
   ]
  },
  {
   "cell_type": "markdown",
   "metadata": {},
   "source": [
    "## Phenomenology of nuclear forces\n",
    "**References for Various Phenomenological Interactions.**\n",
    "\n",
    "\n",
    "From 1950 till approximately 2000: One-Boson-Exchange (OBE) models dominate. These are models which typically include several low-mass mesons, that is with masses below 1 GeV.   Potentials which are based upon the standard non-relativistic operator structure\n",
    " are called \"Phenomenological Potentials\" Some historically important examples are   \n",
    "* Gammel-Thaler potential ( Phys. Rev. **107**, 291, 1339 (1957) and the \n",
    "\n",
    "* Hamada-Johnston potential, Nucl. Phys. **34**, 382 (1962)), both with a hard core.\n",
    "\n",
    "* Reid potential (Ann. Phys. (N.Y.) **50**, 411 (1968)), soft core.\n",
    "\n",
    "* Argonne $V_{14}$ potential (Wiringa et al., Phys. Rev. C **29**, 1207 (1984)) with 14 operators and  the  Argonne $V_{18}$ potential (Wiringa et al., Phys. Rev. C **51**, 38 (1995)), uses 18 operators\n",
    "\n",
    "* A good historical reference: R. Machleidt, Adv. Nucl. Phys.  **19**, 189 (1989).\n",
    "\n",
    "Now: models based on chiral perturbation theory. These are effective models with nucleons and pions as degrees of freedom only. The other mesons which appeared in standard one-boson model appear as multi-pion resonances.\n",
    "\n",
    "\n",
    "\n",
    "\n",
    "\n",
    "\n",
    "## Phenomenology of nuclear forces\n",
    "The total two-nucleon state function has to be anti-symmetric. The total function contains a spatial part, a spin part and an isospin part. If isospin is conserved, this leads to in case we have an $s$-wave with spin $S=0$ to an isospin \n",
    "two-body state with $T=1$ since the spatial part is symmetric and the spin part is anti-symmetric. \n",
    "\n",
    "Since the projections for $T$ are $T_z=-1,0,1$, we can have a $pp$, an $nn$ and a $pn$ state.\n",
    "\n",
    "For $l=0$ and $S=1$, a so-called triplet state, $^3S_1$, we must have $T=0$, meaning that we have only one state, a $pn$ state. For other partial waves, see exercises below.\n",
    "\n",
    "\n",
    "\n",
    "## Phenomenology of nuclear forces\n",
    "**Phenomenology of one-pion exchange.**\n",
    "\n",
    "\n",
    "The one-pion exchange contribution (see derivation below), can be written as"
   ]
  },
  {
   "cell_type": "markdown",
   "metadata": {},
   "source": [
    "$$\n",
    "V_{\\pi}(\\mathbf{r})= -\\frac{f_{\\pi}^{2}}{4\\pi m_{\\pi}^{2}}\\mathbf{ \\tau}_1\\cdot\\mathbf{\\tau}_2\n",
    "\\frac{1}{3}\\left\\{\\mathbf{ \\sigma}_1\\cdot\\mathbf{ \\sigma}_2+\\left( 1 + {3\\over m_\\pi r} + {3\\over\\left(m_\\pi r\\right)^2}\\right) S_{12} (\\hat r)\\right\\} \\frac{e^{-m_\\pi r}}{m_\\pi r}.\n",
    "$$"
   ]
  },
  {
   "cell_type": "markdown",
   "metadata": {},
   "source": [
    "Here the constant $f_{\\pi}^{2}/4\\pi\\approx 0.08$ and the mass of the pion is $m_\\pi\\approx 140$ MeV/$\\mbox{c}^2$.\n",
    "\n",
    "\n",
    "## Phenomenology of nuclear forces\n",
    "Let us look closer at specific partial waves for which one-pion exchange is applicable. If we have $S=0$ and $T=0$, the \n",
    "orbital momentum has to be an odd number in order for the total anti-symmetry to be obeyed. For $S=0$, the tensor force component is zero, meaning that \n",
    "the only contribution is"
   ]
  },
  {
   "cell_type": "markdown",
   "metadata": {},
   "source": [
    "$$\n",
    "V_{\\pi}(\\mathbf{r})=\\frac{3f_{\\pi}^{2}}{4\\pi m_{\\pi}^{2}}\\frac{e^{-m_\\pi r}}{m_\\pi r},\n",
    "$$"
   ]
  },
  {
   "cell_type": "markdown",
   "metadata": {},
   "source": [
    "since $\\langle\\mathbf{ \\sigma}_1\\cdot\\mathbf{ \\sigma}_2\\rangle=-3$, that is we obtain a repulsive contribution to partial waves like \n",
    "$^1P_0$.\n",
    "\n",
    "\n",
    "## Phenomenology of nuclear forces\n",
    "Since $S=0$ yields always a zero tensor force contribution, for the combination of $T=1$ and then even $l$ values, we get an attractive contribution"
   ]
  },
  {
   "cell_type": "markdown",
   "metadata": {},
   "source": [
    "$$\n",
    "V_{\\pi}(\\mathbf{r})=-\\frac{f_{\\pi}^{2}}{4\\pi m_{\\pi}^{2}}\\frac{e^{-m_\\pi r}}{m_\\pi r}.\n",
    "$$"
   ]
  },
  {
   "cell_type": "markdown",
   "metadata": {},
   "source": [
    "With $S=1$ and $T=0$, $l$ can only take even values in order to obey the anti-symmetry requirements and we get"
   ]
  },
  {
   "cell_type": "markdown",
   "metadata": {},
   "source": [
    "$$\n",
    "V_{\\pi}(\\mathbf{r})= -\\frac{f_{\\pi}^{2}}{4\\pi m_{\\pi}^{2}}\n",
    "\\left(1+( 1 + {3\\over m_\\pi r} + {3\\over\\left(m_\\pi r\\right))^2}) S_{12} (\\hat r)\\right) \\frac{e^{-m_\\pi r}}{m_\\pi r},\n",
    "$$"
   ]
  },
  {
   "cell_type": "markdown",
   "metadata": {},
   "source": [
    "while for $S=1$ and $T=1$, $l$ can only take odd values, resulting in a repulsive contribution"
   ]
  },
  {
   "cell_type": "markdown",
   "metadata": {},
   "source": [
    "$$\n",
    "V_{\\pi}(\\mathbf{r})= \\frac{1}{3}\\frac{f_{\\pi}^{2}}{4\\pi m_{\\pi}^{2}}\\left(1+( 1 + {3\\over m_\\pi r} + {3\\over\\left(m_\\pi r\\right)^2}) S_{12} (\\hat r)\\right) \\frac{e^{-m_\\pi r}}{m_\\pi r}.\n",
    "$$"
   ]
  },
  {
   "cell_type": "markdown",
   "metadata": {},
   "source": [
    "## Phenomenology of nuclear forces\n",
    "\n",
    "The central part of one-pion exchange interaction, arising from the spin-spin term,  \n",
    "is thus attractive for $s$-waves and all even $l$ values. For $p$-waves and all other odd values\n",
    "it is repulsive. However, its overall strength is weak. This is discussed further in one of exercises below.\n",
    "\n",
    "\n",
    "\n",
    "\n",
    "\n",
    "\n",
    "\n",
    "\n",
    "<!-- --- begin exercise --- -->\n",
    "\n",
    "## Exercise 1: Allowed partial waves\n",
    "\n",
    "\n",
    "\n",
    "**a)**\n",
    "List all **allowed** according to the Pauli principle partial waves with isospin $T$, their \n",
    "projection $T_z$, spin $S$, orbital angular momentum $l$ and total spin $J$ for $J\\le 3$.\n",
    "Use the standard spectroscopic notation $^{2S+1}L_J$ to label different partial waves. A proton-proton state\n",
    "has $T_Z=-1$, a proton-neutron state has $T_z=0$ and a neutron-neutron state has $T_z=1$.\n",
    "\n",
    "\n",
    "\n",
    "<!-- --- end exercise --- -->\n",
    "\n",
    "\n",
    "\n",
    "\n",
    "<!-- --- begin exercise --- -->\n",
    "\n",
    "## Exercise 2: Spin-orbit force and spin-spin terms\n",
    "\n",
    "\n",
    "\n",
    "**a)**\n",
    "Find the closed form expression for the spin-orbit force. Show that the spin-orbit force {\\bf LS} gives a zero\n",
    "contribution for $S$-waves (orbital angular momentum $l=0$).   What is the value of the spin-orbit force for spin-singlet states ($S=0$)?\n",
    "\n",
    "**b)**\n",
    "Find thereafter the expectation value of $\\mathbf{\\sigma}_1\\cdot\\mathbf{\\sigma}_2$, where $\\mathbf{\\sigma}_i$ are so-called Pauli matrices.\n",
    "\n",
    "**c)**\n",
    "Add thereafter isospin and find the expectation value of $\\mathbf{\\sigma}_1\\cdot\\mathbf{\\sigma}_2\\mathbf{\\tau}_1\\cdot\\mathbf{\\tau}_2$, where $\\mathbf{\\tau}_i$ are also so-called Pauli matrices. List all the cases with $S=0,1$ and $T=0,1$.\n",
    "\n",
    "\n",
    "\n",
    "\n",
    "<!-- --- end exercise --- -->\n",
    "\n",
    "\n",
    "\n",
    "\n",
    "<!-- --- begin exercise --- -->\n",
    "\n",
    "## Exercise 3: One-pion exchange\n",
    "\n",
    "A simple parametrization of the nucleon-nucleon force is given by what is called the $V_8$ potential model,\n",
    "where we have kept eight different operators. These operators contain a central force, a spin-orbit force,\n",
    "a spin-spin force and a tensor force. Several features of the nuclei can be explained in terms of these four components. Without the Pauli matrices for isospin the final form of such an interaction model results in the following form:"
   ]
  },
  {
   "cell_type": "markdown",
   "metadata": {},
   "source": [
    "3\n",
    "0\n",
    " \n",
    "<\n",
    "<\n",
    "<\n",
    "!\n",
    "!\n",
    "M\n",
    "A\n",
    "T\n",
    "H\n",
    "_\n",
    "B\n",
    "L\n",
    "O\n",
    "C\n",
    "K"
   ]
  },
  {
   "cell_type": "markdown",
   "metadata": {},
   "source": [
    "$$\n",
    "\\left. + C_{SL} \\left( {1\\over m_\\alpha r} + {1\\over \\left( m_\\alpha r\\right)^2}\n",
    "\\right) \\mathbf{L}\\cdot \\mathbf{S}\n",
    "\\right\\} \\frac{e^{-m_\\alpha r}}{m_\\alpha r}\n",
    "$$"
   ]
  },
  {
   "cell_type": "markdown",
   "metadata": {},
   "source": [
    "where $m_{\\alpha}$ is the mass of the relevant meson and\n",
    "$S_{12}$ is the familiar tensor term. The various coefficients $C_i$ are normally fitted so that the potential reproduces experimental scattering cross sections. By adding terms which include the isospin Pauli matrices \n",
    "results in an interaction model with eight operators.\n",
    "\n",
    "The expectaction value of the tensor operator is non-zero only for $S=1$. We will show this in a forthcoming lecture, after that we have derived the Wigner-Eckart theorem. \n",
    "Here it suffices to know that the expectaction value of the tensor force for different partial values is  (with $l$ the orbital angular momentum and ${\\cal J}$ the total angular momentum in the relative and center-of-mass frame of motion)"
   ]
  },
  {
   "cell_type": "markdown",
   "metadata": {},
   "source": [
    "3\n",
    "2\n",
    " \n",
    "<\n",
    "<\n",
    "<\n",
    "!\n",
    "!\n",
    "M\n",
    "A\n",
    "T\n",
    "H\n",
    "_\n",
    "B\n",
    "L\n",
    "O\n",
    "C\n",
    "K"
   ]
  },
  {
   "cell_type": "markdown",
   "metadata": {},
   "source": [
    "3\n",
    "3\n",
    " \n",
    "<\n",
    "<\n",
    "<\n",
    "!\n",
    "!\n",
    "M\n",
    "A\n",
    "T\n",
    "H\n",
    "_\n",
    "B\n",
    "L\n",
    "O\n",
    "C\n",
    "K"
   ]
  },
  {
   "cell_type": "markdown",
   "metadata": {},
   "source": [
    "3\n",
    "4\n",
    " \n",
    "<\n",
    "<\n",
    "<\n",
    "!\n",
    "!\n",
    "M\n",
    "A\n",
    "T\n",
    "H\n",
    "_\n",
    "B\n",
    "L\n",
    "O\n",
    "C\n",
    "K"
   ]
  },
  {
   "cell_type": "markdown",
   "metadata": {},
   "source": [
    "3\n",
    "5\n",
    " \n",
    "<\n",
    "<\n",
    "<\n",
    "!\n",
    "!\n",
    "M\n",
    "A\n",
    "T\n",
    "H\n",
    "_\n",
    "B\n",
    "L\n",
    "O\n",
    "C\n",
    "K"
   ]
  },
  {
   "cell_type": "markdown",
   "metadata": {},
   "source": [
    "$$\n",
    "\\langle l {\\cal J}S=1| S_{12} | l' {\\cal J}S=1\\rangle = 2 \\hspace{0.5cm} l= {\\cal J} \\hspace{0.1cm}\\mathrm{and} \\hspace{0.1cm} l'={\\cal J},\n",
    "$$"
   ]
  },
  {
   "cell_type": "markdown",
   "metadata": {},
   "source": [
    "and zero else.   \n",
    "\n",
    "In this exercise we will focus only on the one-pion exchange term of the nuclear force, namely"
   ]
  },
  {
   "cell_type": "markdown",
   "metadata": {},
   "source": [
    "$$\n",
    "V_{\\pi}(\\mathbf{r})= -\\frac{f_{\\pi}^{2}}{4\\pi m_{\\pi}^{2}}\\mathbf{ \\tau}_1\\cdot\\mathbf{\\tau}_2\n",
    "\\frac{1}{3}\\left\\{\\mathbf{ \\sigma}_1\\cdot\\mathbf{ \\sigma}_2+\\left( 1 + {3\\over m_\\pi r} + {3\\over\\left(m_\\pi r\\right)^2}\\right) S_{12} (\\hat r)\\right\\} \\frac{e^{-m_\\pi r}}{m_\\pi r}.\n",
    "$$"
   ]
  },
  {
   "cell_type": "markdown",
   "metadata": {},
   "source": [
    "Here the constant $f_{\\pi}^{2}/4\\pi\\approx 0.08$ and the mass of the pion is $m_\\pi\\approx 140$ MeV/c${}^{2}$.\n",
    "\n",
    "\n",
    "**a)**\n",
    "Compute the expectation value of the tensor force and the spin-spin  and isospin operators for the one-pion exchange potential for all partial waves you found in exercise 9. Comment your results. How does the one-pion exchange part behave as function of different $l$, ${\\cal J}$ and $S$ values? Do you see some patterns?\n",
    "\n",
    "**b)**\n",
    "For the binding energy of the deuteron, with the ground state defined by the quantum numbers $l=0$, $S=1$ and ${\\cal J}=1$, the tensor force plays an important role due to the admixture from the $l=2$ state. Use the expectation values of the different operators of the one-pion exchange potential and plot the ratio of the tensor force component over the spin-spin component of the one-pion exchange part as function of $x=m_\\pi r$ for the $l=2$ state (that is the case $l,l'={\\cal J}+1$). Comment your results.\n",
    "\n",
    "\n",
    "\n",
    "\n",
    "\n",
    "\n",
    "\n",
    "\n",
    "<!-- --- end exercise --- -->"
   ]
  }
 ],
 "metadata": {},
 "nbformat": 4,
 "nbformat_minor": 1
}
