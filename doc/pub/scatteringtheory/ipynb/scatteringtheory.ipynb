{
 "cells": [
  {
   "cell_type": "markdown",
   "metadata": {},
   "source": [
    "<!-- Slides for PHY989 -->\n",
    "<!-- dom:TITLE: Non-relativistic and Relativistic Scattering Theory -->\n",
    "# Non-relativistic and Relativistic Scattering Theory\n",
    "<!-- dom:AUTHOR: Scott Bogner at [National Superconducting Cyclotron Laboratory](http://www.nscl.msu.edu/) and [Department of Physics and Astronomy](https://www.pa.msu.edu/), [Michigan State University](http://www.msu.edu/), East Lansing, MI 48824, USA -->\n",
    "<!-- Author: --> **Scott Bogner**, [National Superconducting Cyclotron Laboratory](http://www.nscl.msu.edu/) and [Department of Physics and Astronomy](https://www.pa.msu.edu/), [Michigan State University](http://www.msu.edu/), East Lansing, MI 48824, USA\n",
    "\n",
    "<!-- dom:AUTHOR: Morten Hjorth-Jensen at [National Superconducting Cyclotron Laboratory](http://www.nscl.msu.edu/) and [Department of Physics and Astronomy](https://www.pa.msu.edu/), [Michigan State University](http://www.msu.edu/), East Lansing, MI 48824, USA -->\n",
    "<!-- Author: --> **Morten Hjorth-Jensen**, [National Superconducting Cyclotron Laboratory](http://www.nscl.msu.edu/) and [Department of Physics and Astronomy](https://www.pa.msu.edu/), [Michigan State University](http://www.msu.edu/), East Lansing, MI 48824, USA\n",
    "\n",
    "Date: **2017**\n",
    "\n",
    "## Dramatis Personae\n",
    "\n",
    "<table border=\"1\">\n",
    "<thead>\n",
    "<tr><th align=\"center\"> Baryons </th> <th align=\"center\">Mass (MeV)</th> <th align=\"center\">   Mesons  </th> <th align=\"center\">   Mass (MeV)  </th> </tr>\n",
    "</thead>\n",
    "<tbody>\n",
    "<tr><td align=\"center\">   $p,n$        </td> <td align=\"center\">   938.926       </td> <td align=\"center\">   $\\pi$          </td> <td align=\"center\">   138.03             </td> </tr>\n",
    "<tr><td align=\"center\">   $\\Lambda$    </td> <td align=\"center\">   1116.0        </td> <td align=\"center\">   $\\eta$         </td> <td align=\"center\">   548.8              </td> </tr>\n",
    "<tr><td align=\"center\">   $\\Sigma$     </td> <td align=\"center\">   1197.3        </td> <td align=\"center\">   $\\sigma$       </td> <td align=\"center\">   $\\approx 550.0$    </td> </tr>\n",
    "<tr><td align=\"center\">   $\\Delta$     </td> <td align=\"center\">   1232.0        </td> <td align=\"center\">   $\\rho$         </td> <td align=\"center\">   770                </td> </tr>\n",
    "<tr><td align=\"center\">                </td> <td align=\"center\">                 </td> <td align=\"center\">   $\\omega$       </td> <td align=\"center\">   782.6              </td> </tr>\n",
    "<tr><td align=\"center\">                </td> <td align=\"center\">                 </td> <td align=\"center\">   $\\delta$       </td> <td align=\"center\">   983.0              </td> </tr>\n",
    "<tr><td align=\"center\">                </td> <td align=\"center\">                 </td> <td align=\"center\">   $K$            </td> <td align=\"center\">   495.8              </td> </tr>\n",
    "<tr><td align=\"center\">                </td> <td align=\"center\">                 </td> <td align=\"center\">   $K^{\\star}$    </td> <td align=\"center\">   895.0              </td> </tr>\n",
    "</tbody>\n",
    "</table>\n",
    "\n",
    "\n",
    "\n",
    "\n",
    "## Components of the force and quantum numbers\n",
    "Before we proceed, we will look into specific quantum numbers of the relative system and study \n",
    "expectation vaues of the various terms of"
   ]
  },
  {
   "cell_type": "markdown",
   "metadata": {},
   "source": [
    "0\n",
    " \n",
    "<\n",
    "<\n",
    "<\n",
    "!\n",
    "!\n",
    "M\n",
    "A\n",
    "T\n",
    "H\n",
    "_\n",
    "B\n",
    "L\n",
    "O\n",
    "C\n",
    "K"
   ]
  },
  {
   "cell_type": "markdown",
   "metadata": {},
   "source": [
    "$$\n",
    "\\left. + C_{SL} \\left( {1\\over m_\\alpha r} + {1\\over \\left( m_\\alpha r\\right)^2}\n",
    "\\right) \\mathbf{L}\\cdot \\mathbf{S}\n",
    "\\right\\} \\frac{e^{-m_\\alpha r}}{m_\\alpha r}\n",
    "$$"
   ]
  },
  {
   "cell_type": "markdown",
   "metadata": {},
   "source": [
    "## Relative and CoM system, quantum numbers\n",
    "\n",
    "When solving the scattering equation or solving the two-nucleon problem, it is convenient to rewrite the Schroedinger equation, due to\n",
    "the spherical symmetry of the Hamiltonian, in relative and center-of-mass coordinates. This will also define the quantum numbers of the relative and center-of-mass system and will aid us later in solving\n",
    "the so-called Lippman-Schwinger equation for the scattering problem. \n",
    "\n",
    "We define the center-of-mass (CoM)  momentum as"
   ]
  },
  {
   "cell_type": "markdown",
   "metadata": {},
   "source": [
    "$$\n",
    "\\mathbf{K}=\\sum_{i=1}^A\\mathbf{k}_i,\n",
    "$$"
   ]
  },
  {
   "cell_type": "markdown",
   "metadata": {},
   "source": [
    "with $\\hbar=c=1$ the wave number $k_i=p_i$, with $p_i$ the pertinent momentum of a single-particle state. \n",
    "We have also the relative momentum"
   ]
  },
  {
   "cell_type": "markdown",
   "metadata": {},
   "source": [
    "$$\n",
    "\\mathbf{k}_{ij}=\\frac{1}{2}(\\mathbf{k}_i-\\mathbf{k}_j).\n",
    "$$"
   ]
  },
  {
   "cell_type": "markdown",
   "metadata": {},
   "source": [
    "We will below skip the indices $ij$ and simply write $\\mathbf{k}$\n",
    "\n",
    "\n",
    "\n",
    "## Relative and CoM system, quantum numbers\n",
    "\n",
    "In a similar fashion we can define the CoM coordinate"
   ]
  },
  {
   "cell_type": "markdown",
   "metadata": {},
   "source": [
    "$$\n",
    "\\mathbf{R}=\\frac{1}{A}\\sum_{i=1}^{A}\\mathbf{r}_i,\n",
    "$$"
   ]
  },
  {
   "cell_type": "markdown",
   "metadata": {},
   "source": [
    "and the relative distance"
   ]
  },
  {
   "cell_type": "markdown",
   "metadata": {},
   "source": [
    "$$\n",
    "\\mathbf{r}_{ij}=(\\mathbf{r}_i-\\mathbf{r}_j).\n",
    "$$"
   ]
  },
  {
   "cell_type": "markdown",
   "metadata": {},
   "source": [
    "## Relative and CoM system, quantum numbers\n",
    "With the definitions"
   ]
  },
  {
   "cell_type": "markdown",
   "metadata": {},
   "source": [
    "$$\n",
    "\\mathbf{K}=\\sum_{i=1}^A\\mathbf{k}_i,\n",
    "$$"
   ]
  },
  {
   "cell_type": "markdown",
   "metadata": {},
   "source": [
    "and"
   ]
  },
  {
   "cell_type": "markdown",
   "metadata": {},
   "source": [
    "$$\n",
    "\\mathbf{k}_{ij}=\\frac{1}{2}(\\mathbf{k}_i-\\mathbf{k}_j).\n",
    "$$"
   ]
  },
  {
   "cell_type": "markdown",
   "metadata": {},
   "source": [
    "we can rewrite the two-particle kinetic energy (note that we use $\\hbar=c=1$ as"
   ]
  },
  {
   "cell_type": "markdown",
   "metadata": {},
   "source": [
    "$$\n",
    "\\frac{\\mathbf{k}_1^2}{2m_n}+\\frac{\\mathbf{k}_2^2}{2m_n}=\\frac{\\mathbf{k}^2}{m_n}+\\frac{\\mathbf{K}^2}{4m_n},\n",
    "$$"
   ]
  },
  {
   "cell_type": "markdown",
   "metadata": {},
   "source": [
    "where $m_n$ is the average of the proton and the neutron masses.\n",
    "\n",
    "\n",
    "\n",
    "\n",
    "## Relative and CoM system, quantum numbers\n",
    "\n",
    "Since the two-nucleon interaction depends only on the relative distance, this means that we can separate Schroedinger's equation in an equation for the center-of-mass motion and one for the relative motion.\n",
    "\n",
    "With an equation for the relative motion only and a separate one for the center-of-mass motion we need to redefine the two-body quantum numbers.\n",
    "\n",
    "Previously we had a two-body state vector defined as $|(j_1j_2)JM_J\\rangle$ in a coupled basis. \n",
    "We will now define the quantum numbers for the relative motion. Here we need to define new orbital momenta (since these are the quantum numbers which change). \n",
    "We define"
   ]
  },
  {
   "cell_type": "markdown",
   "metadata": {},
   "source": [
    "$$\n",
    "\\hat{l}_1+\\hat{l}_2=\\hat{\\lambda}=\\hat{l}+\\hat{L},\n",
    "$$"
   ]
  },
  {
   "cell_type": "markdown",
   "metadata": {},
   "source": [
    "where $\\hat{l}$ is the orbital momentum associated with the relative motion and\n",
    "$\\hat{L}$ the corresponding one linked with the CoM. The total spin $S$ is unchanged since it acts in a different space. We have thus that"
   ]
  },
  {
   "cell_type": "markdown",
   "metadata": {},
   "source": [
    "$$\n",
    "\\hat{J}=\\hat{l}+\\hat{L}+\\hat{S},\n",
    "$$"
   ]
  },
  {
   "cell_type": "markdown",
   "metadata": {},
   "source": [
    "which allows us to define the angular momentum of the relative motion"
   ]
  },
  {
   "cell_type": "markdown",
   "metadata": {},
   "source": [
    "$$\n",
    "{ \\cal J} =  \\hat{l}+\\hat{S},\n",
    "$$"
   ]
  },
  {
   "cell_type": "markdown",
   "metadata": {},
   "source": [
    "where ${ \\cal J}$ is the total angular momentum of the relative motion.\n",
    "\n",
    "\n",
    "\n",
    "## Phenomenology of nuclear forces\n",
    "\n",
    "The total two-nucleon state function has to be anti-symmetric. The total function contains a spatial part, a spin part and an isospin part. If isospin is conserved, this leads to in case we have an $s$-wave with spin $S=0$ to an isospin \n",
    "two-body state with $T=1$ since the spatial part is symmetric and the spin part is anti-symmetric. \n",
    "\n",
    "Since the projections for $T$ are $T_z=-1,0,1$, we can have a $pp$, an $nn$ and a $pn$ state.\n",
    "\n",
    "For $l=0$ and $S=1$, a so-called triplet state, $^3S_1$, we must have $T=0$, meaning that we have only one state, a $pn$ state. For other partial waves, the following table lists states up to $f$ waves.\n",
    "We can systemize this in a table as follows, recalling that $|\\mathbf{l}-\\mathbf{S}| \\le |\\mathbf{J}| \\le |\\mathbf{l}+\\mathbf{S}|$,  \n",
    "\n",
    "<table border=\"1\">\n",
    "<thead>\n",
    "<tr><th align=\"center\">$^{2S+1}l_J$</th> <th align=\"center\">$J$</th> <th align=\"center\">$l$</th> <th align=\"center\">$S$</th> <th align=\"center\">$T$</th> <th align=\"center\">$\\vert pp\\rangle$</th> <th align=\"center\">$\\vert pn\\rangle$</th> <th align=\"center\">$\\vert nn\\rangle$</th> </tr>\n",
    "</thead>\n",
    "<tbody>\n",
    "<tr><td align=\"center\">   $^{1}S_0$       </td> <td align=\"center\">   0      </td> <td align=\"center\">   0      </td> <td align=\"center\">   0      </td> <td align=\"center\">   1      </td> <td align=\"center\">   yes                  </td> <td align=\"center\">   yes                  </td> <td align=\"center\">   yes                  </td> </tr>\n",
    "<tr><td align=\"center\">   $^{3}S_1$       </td> <td align=\"center\">   1      </td> <td align=\"center\">   0      </td> <td align=\"center\">   1      </td> <td align=\"center\">   0      </td> <td align=\"center\">   no                   </td> <td align=\"center\">   yes                  </td> <td align=\"center\">   no                   </td> </tr>\n",
    "<tr><td align=\"center\">   $^{3}P_0$       </td> <td align=\"center\">   0      </td> <td align=\"center\">   1      </td> <td align=\"center\">   1      </td> <td align=\"center\">   1      </td> <td align=\"center\">   yes                  </td> <td align=\"center\">   yes                  </td> <td align=\"center\">   yes                  </td> </tr>\n",
    "<tr><td align=\"center\">   $^{1}P_1$       </td> <td align=\"center\">   1      </td> <td align=\"center\">   1      </td> <td align=\"center\">   0      </td> <td align=\"center\">   0      </td> <td align=\"center\">   no                   </td> <td align=\"center\">   yes                  </td> <td align=\"center\">   no                   </td> </tr>\n",
    "<tr><td align=\"center\">   $^{3}P_1$       </td> <td align=\"center\">   1      </td> <td align=\"center\">   1      </td> <td align=\"center\">   1      </td> <td align=\"center\">   1      </td> <td align=\"center\">   yes                  </td> <td align=\"center\">   yes                  </td> <td align=\"center\">   yes                  </td> </tr>\n",
    "<tr><td align=\"center\">   $^{3}P_2$       </td> <td align=\"center\">   2      </td> <td align=\"center\">   1      </td> <td align=\"center\">   1      </td> <td align=\"center\">   1      </td> <td align=\"center\">   yes                  </td> <td align=\"center\">   yes                  </td> <td align=\"center\">   yes                  </td> </tr>\n",
    "<tr><td align=\"center\">   $^{3}D_1$       </td> <td align=\"center\">   1      </td> <td align=\"center\">   2      </td> <td align=\"center\">   1      </td> <td align=\"center\">   0      </td> <td align=\"center\">   no                   </td> <td align=\"center\">   yes                  </td> <td align=\"center\">   no                   </td> </tr>\n",
    "<tr><td align=\"center\">   $^{3}F_2$       </td> <td align=\"center\">   2      </td> <td align=\"center\">   3      </td> <td align=\"center\">   1      </td> <td align=\"center\">   1      </td> <td align=\"center\">   yes                  </td> <td align=\"center\">   yes                  </td> <td align=\"center\">   yes                  </td> </tr>\n",
    "</tbody>\n",
    "</table>\n",
    "\n",
    "\n",
    "\n",
    "\n",
    "\n",
    "\n",
    "## The Lippman-Schwinger equation for two-nucleon scattering\n",
    "What follows now is a more technical discussion on how we can solve the two-nucleon problem.\n",
    "This will lead us to the so-called Lippman-Schwinger equation for the scattering problem and a rewrite of Schroedinger's equation in relative and center-of-mass coordinates. \n",
    "\n",
    "\n",
    "Before we break down the Schroedinger equation into a partial wave decomposition, we derive now the so-called Lippman-Schwinger equation. We will do this in an operator form first.\n",
    "Thereafter, we rewrite it in terms of various quantum numbers such as relative momenta, orbital momenta etc. \n",
    "The Schroedinger equation in abstract vector representation is"
   ]
  },
  {
   "cell_type": "markdown",
   "metadata": {},
   "source": [
    "$$\n",
    "\\left( \\hat{H}_0 + \\hat{V} \\right) \\vert \\psi_n \\rangle = E_n \\vert\\psi_n \\rangle.\n",
    "$$"
   ]
  },
  {
   "cell_type": "markdown",
   "metadata": {},
   "source": [
    "In our case for the two-body problem $\\hat{H}_0$ is just the kinetic energy. \n",
    "We rewrite it as"
   ]
  },
  {
   "cell_type": "markdown",
   "metadata": {},
   "source": [
    "$$\n",
    "\\left( \\hat{H}_0 -E_n \\right)\\vert\\psi_n \\rangle =-\\hat{V}\\vert \\psi_n \\rangle .\n",
    "$$"
   ]
  },
  {
   "cell_type": "markdown",
   "metadata": {},
   "source": [
    "We assume that the invers of $\\left( \\hat{H}_0 -E_n\\right)$ exists and rewrite this equation as"
   ]
  },
  {
   "cell_type": "markdown",
   "metadata": {},
   "source": [
    "$$\n",
    "\\vert\\psi_n \\rangle =\\frac{1}{\\left( E_n -\\hat{H}_0\\right)}\\hat{V}\\vert \\psi_n \\rangle .\n",
    "$$"
   ]
  },
  {
   "cell_type": "markdown",
   "metadata": {},
   "source": [
    "## The Lippman-Schwinger equation for two-nucleon scattering\n",
    "The equation"
   ]
  },
  {
   "cell_type": "markdown",
   "metadata": {},
   "source": [
    "$$\n",
    "\\vert \\psi_n \\rangle =\\frac{1}{\\left( E_n -\\hat{H}_0\\right)}\\hat{V}\\vert \\psi_n \\rangle,\n",
    "$$"
   ]
  },
  {
   "cell_type": "markdown",
   "metadata": {},
   "source": [
    "is normally solved in an iterative fashion. \n",
    "We assume first that"
   ]
  },
  {
   "cell_type": "markdown",
   "metadata": {},
   "source": [
    "$$\n",
    "\\vert\\psi_n \\rangle = \\vert\\phi_n \\rangle,\n",
    "$$"
   ]
  },
  {
   "cell_type": "markdown",
   "metadata": {},
   "source": [
    "where $\\vert\\phi_n \\rangle$ are the eigenfunctions of"
   ]
  },
  {
   "cell_type": "markdown",
   "metadata": {},
   "source": [
    "$$\n",
    "\\hat{H}_0\\vert \\phi_n \\rangle=\\omega_n\\vert \\phi_n \\rangle\n",
    "$$"
   ]
  },
  {
   "cell_type": "markdown",
   "metadata": {},
   "source": [
    "the so-called unperturbed problem. In our case, these will simply be the kinetic energies of the relative motion.\n",
    "\n",
    "\n",
    "\n",
    "## The Lippman-Schwinger equation for two-nucleon scattering\n",
    "Inserting  $\\vert\\phi_n \\rangle$  on the right-hand side of"
   ]
  },
  {
   "cell_type": "markdown",
   "metadata": {},
   "source": [
    "$$\n",
    "\\vert \\psi_n \\rangle =\\frac{1}{( E_n -\\hat{H}_0)}\\hat{V}\\vert \\psi_n \\rangle,\n",
    "$$"
   ]
  },
  {
   "cell_type": "markdown",
   "metadata": {},
   "source": [
    "yields"
   ]
  },
  {
   "cell_type": "markdown",
   "metadata": {},
   "source": [
    "$$\n",
    "\\vert \\psi_n \\rangle =\\vert\\phi_n \\rangle+\\frac{1}{\\left( E_n -\\hat{H}_0\\right)}\\hat{V}\\vert \\phi_n \\rangle,\n",
    "$$"
   ]
  },
  {
   "cell_type": "markdown",
   "metadata": {},
   "source": [
    "as our first iteration. \n",
    "Reinserting again gives"
   ]
  },
  {
   "cell_type": "markdown",
   "metadata": {},
   "source": [
    "$$\n",
    "\\vert \\psi_n \\rangle =\\vert\\phi_n \\rangle+\\frac{1}{\\left( E_n -\\hat{H}_0\\right)}\\hat{V}\\vert \\phi_n \\rangle+\\frac{1}{( E_n -\\hat{H}_0)}\\hat{V}\\frac{1}{\\left( E_n -\\hat{H}_0\\right)}\\hat{V}\\vert \\phi_n \\rangle,\n",
    "$$"
   ]
  },
  {
   "cell_type": "markdown",
   "metadata": {},
   "source": [
    "and continuing we obtain"
   ]
  },
  {
   "cell_type": "markdown",
   "metadata": {},
   "source": [
    "$$\n",
    "\\vert \\psi_n \\rangle =\\sum_{i=0}^{\\infty}\\left[\\frac{1}{( E_n -\\hat{H}_0)}\\hat{V}\\right]^i\\vert \\phi_n \\rangle.\n",
    "$$"
   ]
  },
  {
   "cell_type": "markdown",
   "metadata": {},
   "source": [
    "## The Lippman-Schwinger equation for two-nucleon scattering\n",
    "It is easy to see that"
   ]
  },
  {
   "cell_type": "markdown",
   "metadata": {},
   "source": [
    "$$\n",
    "\\vert \\psi_n \\rangle =\\sum_{i=0}^{\\infty}\\left[\\frac{1}{(E_n -\\hat{H}_0)}\\hat{V}\\right]^i\\vert \\phi_n \\rangle,\n",
    "$$"
   ]
  },
  {
   "cell_type": "markdown",
   "metadata": {},
   "source": [
    "can be rewritten as"
   ]
  },
  {
   "cell_type": "markdown",
   "metadata": {},
   "source": [
    "$$\n",
    "\\vert \\psi_n \\rangle =\\vert\\phi_n \\rangle+\\frac{1}{( E_n -\\hat{H}_0)}\n",
    "\\hat{V}\\left(1+ \\frac{1}{(E_n -\\hat{H}_0)}\\hat{V}+\\frac{1}{(E_n -\\hat{H}_0)}\\hat{V}\\frac{1}{(E_n -\\hat{H}_0)}\\hat{V}+\\dots\\right]\\vert \\phi_n \\rangle,\n",
    "$$"
   ]
  },
  {
   "cell_type": "markdown",
   "metadata": {},
   "source": [
    "which we rewrite as"
   ]
  },
  {
   "cell_type": "markdown",
   "metadata": {},
   "source": [
    "$$\n",
    "\\vert \\psi_n \\rangle =\\vert\\phi_n \\rangle+\\frac{1}{(E_n -\\hat{H}_0)}\\hat{V}\\vert \\psi_n \\rangle.\n",
    "$$"
   ]
  },
  {
   "cell_type": "markdown",
   "metadata": {},
   "source": [
    "## The Lippman-Schwinger equation for two-nucleon scattering\n",
    "In operator form we have thus"
   ]
  },
  {
   "cell_type": "markdown",
   "metadata": {},
   "source": [
    "$$\n",
    "\\vert \\psi_n \\rangle =\\vert\\phi_n \\rangle+\\frac{1}{(E_n -\\hat{H}_0)}\\hat{V}\\vert \\psi_n \\rangle.\n",
    "$$"
   ]
  },
  {
   "cell_type": "markdown",
   "metadata": {},
   "source": [
    "We multiply from the left with $\\hat{V}$ and $\\langle \\phi_m \\vert$ and obtain"
   ]
  },
  {
   "cell_type": "markdown",
   "metadata": {},
   "source": [
    "$$\n",
    "\\langle \\phi_m \\vert\\hat{V}\\vert \\psi_n \\rangle =\\langle \\phi_m \\vert\\hat{V}\\vert\\phi_n \\rangle+\\langle \\phi_m \\vert\\hat{V}\\frac{1}{(E_n -\\hat{H}_0)}\\hat{V}\\vert \\psi_n \\rangle.\n",
    "$$"
   ]
  },
  {
   "cell_type": "markdown",
   "metadata": {},
   "source": [
    "We define thereafter the so-called $T$-matrix as"
   ]
  },
  {
   "cell_type": "markdown",
   "metadata": {},
   "source": [
    "$$\n",
    "\\langle \\phi_m \\vert\\hat{T}\\vert \\phi_n \\rangle=\\langle \\phi_m \\vert\\hat{V}\\vert \\psi_n \\rangle.\n",
    "$$"
   ]
  },
  {
   "cell_type": "markdown",
   "metadata": {},
   "source": [
    "We can rewrite our equation as"
   ]
  },
  {
   "cell_type": "markdown",
   "metadata": {},
   "source": [
    "$$\n",
    "\\langle \\phi_m \\vert\\hat{T}\\vert \\phi_n \\rangle =\\langle \\phi_m \\vert\\hat{V}\\vert\\phi_n \\rangle+\\langle \\phi_m \\vert\\hat{V}\\frac{1}{(E_n -\\hat{H}_0)}\\hat{T}\\vert \\phi_n \\rangle.\n",
    "$$"
   ]
  },
  {
   "cell_type": "markdown",
   "metadata": {},
   "source": [
    "## The Lippman-Schwinger equation for two-nucleon scattering\n",
    "The equation"
   ]
  },
  {
   "cell_type": "markdown",
   "metadata": {},
   "source": [
    "$$\n",
    "\\langle \\phi_m \\vert\\hat{T}\\vert \\phi_n \\rangle =\\langle \\phi_m \\vert\\hat{V}\\vert\\phi_n \\rangle+\\langle \\phi_m \\vert\\hat{V}\\frac{1}{(E_n -\\hat{H}_0)}\\hat{T}\\vert \\phi_n \\rangle,\n",
    "$$"
   ]
  },
  {
   "cell_type": "markdown",
   "metadata": {},
   "source": [
    "is called the Lippman-Schwinger equation. Inserting the completeness relation"
   ]
  },
  {
   "cell_type": "markdown",
   "metadata": {},
   "source": [
    "$$\n",
    "\\mathbf{1} = \\sum_n \\vert \\phi_n\\rangle\\langle \\phi_n \\vert, \\:\\: \\langle \\phi_n\\vert \\phi_{n'} \\rangle = \\delta_{n,n'}\n",
    "$$"
   ]
  },
  {
   "cell_type": "markdown",
   "metadata": {},
   "source": [
    "we have"
   ]
  },
  {
   "cell_type": "markdown",
   "metadata": {},
   "source": [
    "$$\n",
    "\\langle \\phi_m \\vert\\hat{T}\\vert \\phi_n \\rangle =\\langle \\phi_m \\vert\\hat{V}\\vert\\phi_n \\rangle+\\sum_k \\langle \\phi_m \\vert\\hat{V}\\vert \\phi_k\\rangle\\frac{1}{(E_n -\\omega_k)}\\langle \\phi_k \\vert\\hat{T}\\vert \\phi_n \\rangle,\n",
    "$$"
   ]
  },
  {
   "cell_type": "markdown",
   "metadata": {},
   "source": [
    "which is (when we specify the state $\\vert\\phi_n \\rangle$) an integral equation that can actually be solved by matrix inversion easily! The unknown quantity is the $T$-matrix.\n",
    "\n",
    "\n",
    "\n",
    "## The Lippman-Schwinger equation for two-nucleon scattering\n",
    "Now we wish to introduce a partial wave decomposition in order to solve the Lippman-Schwinger equation. With a partial wave decomposition we can reduce a three-dimensional integral equation to a one-dimensional one. \n",
    "\n",
    "Let us continue with our Schroedinger equation in the abstract vector representation"
   ]
  },
  {
   "cell_type": "markdown",
   "metadata": {},
   "source": [
    "$$\n",
    "\\left(T + V\\right)\\vert\\psi_n\\rangle = E_n\\vert\\psi_n \\rangle\n",
    "$$"
   ]
  },
  {
   "cell_type": "markdown",
   "metadata": {},
   "source": [
    "Here $T$ is the kinetic energy operator and $V$ is the potential operator. \n",
    "The eigenstates form a complete orthonormal set according to"
   ]
  },
  {
   "cell_type": "markdown",
   "metadata": {},
   "source": [
    "$$\n",
    "\\mathbf{1}=\\sum_n\\vert\\psi_n\\rangle\\langle\\psi_n\\vert, \\:\\: \\langle\\psi_n\\vert\\psi_{n'}\\rangle =\\delta_{n,n'}\n",
    "$$"
   ]
  },
  {
   "cell_type": "markdown",
   "metadata": {},
   "source": [
    "## The Lippman-Schwinger equation for two-nucleon scattering\n",
    "The most commonly used representations are the coordinate and\n",
    "the momentum space representations. They define the completeness relations"
   ]
  },
  {
   "cell_type": "markdown",
   "metadata": {},
   "source": [
    "$$\n",
    "\\begin{eqnarray*}\n",
    " \\mathbf{1}&=&  \\int d\\mathbf{r} \\:\\vert\\mathbf{r} \\rangle \\langle \\mathbf{r}\\vert, \\:\\: \\langle  \\mathbf{r}\\vert  \\mathbf{r'} \\rangle = \\delta ( \\mathbf{r}-\\mathbf{r'}) \\\\\n",
    "\\mathbf{1} &=& \\int d\\mathbf{k} \\:\\vert  \\mathbf{k}\\rangle \\langle \\mathbf{k}\\vert, \\:\\: \\langle\\mathbf{k}\\vert  \\mathbf{k'} \\rangle = \\delta ( \\mathbf{k}-\\mathbf{k'}) \n",
    "\\end{eqnarray*}\n",
    "$$"
   ]
  },
  {
   "cell_type": "markdown",
   "metadata": {},
   "source": [
    "Here the basis states in  both $\\mathbf{r}$- and $\\mathbf{k}$-space are dirac-delta \n",
    "function normalized. From this it follows that the plane-wave states are given by,"
   ]
  },
  {
   "cell_type": "markdown",
   "metadata": {},
   "source": [
    "$$\n",
    "\\langle\\mathbf{r}\\vert\\mathbf{k} \\rangle =\\left(\\frac{1}{2\\pi}\\right)^{3/2}\\exp\\left(i\\mathbf{k\\cdot r} \\right)\n",
    "$$"
   ]
  },
  {
   "cell_type": "markdown",
   "metadata": {},
   "source": [
    "which is a transformation function defining the mapping from the abstract \n",
    "$\\vert\\mathbf{k}\\rangle$ to the abstract $\\vert\\mathbf{r}\\rangle $ space.\n",
    "\n",
    "\n",
    "\n",
    "## The Lippman-Schwinger equation for two-nucleon scattering\n",
    "That the $\\mathbf{r}$-space basis states are \n",
    "delta-function normalized follows from"
   ]
  },
  {
   "cell_type": "markdown",
   "metadata": {},
   "source": [
    "$$\n",
    "\\delta ( \\mathbf{r}-\\mathbf{r'}) = \\langle \\mathbf{r} \\vert \\mathbf{r}'\\rangle = \\langle \\mathbf{r} \\vert \\mathbf{1} \\vert \\mathbf{r}'\\rangle = \\int d\\mathbf{k} \\langle \\mathbf{r}\\vert \\mathbf{k} \\rangle \\langle \\mathbf{k}\\vert \\mathbf{r}' \\rangle =\\left( {1\\over 2\\pi}\\right)^3 \\int d\\mathbf{k} e^{i \\mathbf{k}(\\mathbf{r} - \\mathbf{r}')}\n",
    "$$"
   ]
  },
  {
   "cell_type": "markdown",
   "metadata": {},
   "source": [
    "and the same for the momentum space basis states,"
   ]
  },
  {
   "cell_type": "markdown",
   "metadata": {},
   "source": [
    "$$\n",
    "\\delta ( \\mathbf{k}-\\mathbf{k'}) = \\langle \\mathbf{k} \\vert \\mathbf{k}'\\rangle = \\langle \\mathbf{k} \\vert \\mathbf{1} \\vert \\mathbf{k}'\\rangle =\\int d\\mathbf{r} \\langle \\mathbf{k}\\vert \\mathbf{r} \\rangle \\langle \\mathbf{r}\\vert \\mathbf{k}' \\rangle = \\left( {1\\over 2\\pi}\\right)^3 \\int d\\mathbf{r} e^{i \\mathbf{r}(\\mathbf{k} - \\mathbf{k}')}\n",
    "$$"
   ]
  },
  {
   "cell_type": "markdown",
   "metadata": {},
   "source": [
    "## The Lippman-Schwinger equation for two-nucleon scattering\n",
    "Projecting  on momentum states, we obtain the momentum space Schroedinger equation as"
   ]
  },
  {
   "cell_type": "markdown",
   "metadata": {},
   "source": [
    "<!-- Equation labels as ordinary links -->\n",
    "<div id=\"eq:momspace1\"></div>\n",
    "\n",
    "$$\n",
    "\\begin{equation}\n",
    "\\frac{\\hbar^2}{2\\mu}k^2\\psi_n(\\mathbf{k})+\\int d\\mathbf{k'}V(\\mathbf{k}, \\mathbf{k'}) \\psi_n(\\mathbf{k'})=E_n \\psi_n(\\mathbf{k})\n",
    "\\label{eq:momspace1} \\tag{1}\n",
    "\\end{equation}\n",
    "$$"
   ]
  },
  {
   "cell_type": "markdown",
   "metadata": {},
   "source": [
    "Here the notation $\\psi_n(\\mathbf{k}) =\\langle\\mathbf{k}\\vert\\psi_n\\rangle $ and \n",
    "$\\langle\\mathbf{k}\\vert V\\vert\\mathbf{k}' \\rangle =V(\\mathbf{k}, \\mathbf{k'})$ has been introduced.\n",
    "The potential in momentum space is given by a double Fourier-transform \n",
    "of the potential in coordinate space, i.e."
   ]
  },
  {
   "cell_type": "markdown",
   "metadata": {},
   "source": [
    "$$\n",
    "V(\\mathbf{k},\\mathbf{k'}) = \\left( \\frac{1}{2\\pi}\\right)^3\\int d\\mathbf{r}\\int d\\mathbf{r}'\\exp{-i\\mathbf{kr}}V(\\mathbf{r},\\mathbf{r}')\\exp{i\\mathbf{k}'\\mathbf{r}'}\n",
    "$$"
   ]
  },
  {
   "cell_type": "markdown",
   "metadata": {},
   "source": [
    "## The Lippman-Schwinger equation for two-nucleon scattering\n",
    "Here it is assumed that the potential interaction does not contain any spin dependence. \n",
    "Instead of a differential equation in coordinate space, the Schroedinger\n",
    "equation becomes an integral equation in momentum space. This has \n",
    "many tractable features. Firstly, most realistic \n",
    "nucleon-nucleon interactions derived from field-theory are given \n",
    "explicitly in momentum space. Secondly, the boundary conditions imposed\n",
    "on the differential equation in coordinate space are automatically built into the\n",
    "integral equation. And last, but not least, integral equations are easy to numerically \n",
    "implement, and convergence is obtained by just increasing the number of integration\n",
    "points.\n",
    "Instead of solving the three-dimensional integral equation, an \n",
    "infinite set of 1-dimensional equations can be obtained via a  partial wave\n",
    "expansion.\n",
    "\n",
    "\n",
    "\n",
    "## The Lippman-Schwinger equation for two-nucleon scattering\n",
    "The wave function $\\psi_n(\\mathbf{k})$ can be expanded in a complete set of spherical harmonics, that is"
   ]
  },
  {
   "cell_type": "markdown",
   "metadata": {},
   "source": [
    "<!-- Equation labels as ordinary links -->\n",
    "<div id=\"eq:part_wave1\"></div>\n",
    "\n",
    "$$\n",
    "\\begin{equation}\n",
    "  \\psi_n(\\mathbf{k}) = \\sum _{lm} \\psi_{nlm}(k)Y_{lm}(\\hat{k}) \\hspace{1cm} \\psi_{nlm}(k) = \\int d\\hat{k} Y_{lm}^*(\\hat{k})\\psi_n(\\mathbf{k}).   , \n",
    "\\label{eq:part_wave1} \\tag{2}\n",
    "\\end{equation}\n",
    "$$"
   ]
  },
  {
   "cell_type": "markdown",
   "metadata": {},
   "source": [
    "By inserting equation ([eq:part_wave1](#eq:part_wave1)) in equation ([eq:momspace1](#eq:momspace1)), and projecting from the left\n",
    "$Y_{lm}(\\hat{k})$, the three-dimensional Schroedinger equation ([eq:momspace1](#eq:momspace1)) is reduced\n",
    "to an infinite set of  1-dimensional angular momentum coupled integral equations,"
   ]
  },
  {
   "cell_type": "markdown",
   "metadata": {},
   "source": [
    "<!-- Equation labels as ordinary links -->\n",
    "<div id=\"eq:part_wave2\"></div>\n",
    "\n",
    "$$\n",
    "\\begin{equation}\n",
    "  \\left( \\frac{\\hbar^2}{2\\mu} k^2-E_{nlm}\\right)\\psi_{nlm}(k) = -\\sum_{l'm'}\\int_{0}^\\infty dk' {k'}^2 V_{lm, l'm'}(k,k') \\psi_{nl'm'}(k') \n",
    "\\label{eq:part_wave2} \\tag{3}\n",
    "\\end{equation}\n",
    "$$"
   ]
  },
  {
   "cell_type": "markdown",
   "metadata": {},
   "source": [
    "where the angular momentum projected potential takes the form,"
   ]
  },
  {
   "cell_type": "markdown",
   "metadata": {},
   "source": [
    "<!-- Equation labels as ordinary links -->\n",
    "<div id=\"eq:pot1\"></div>\n",
    "\n",
    "$$\n",
    "\\begin{equation}\n",
    "  V_{lm, l'm'}(k,k') = \\int d{\\hat{k}} \\int d{\\hat{k}'}Y_{lm}^*(\\hat{k})V(\\mathbf{k}\\mathbf{k'})Y_{l'm'}(\\hat{k}')\n",
    "\\label{eq:pot1} \\tag{4}\n",
    "\\end{equation}\n",
    "$$"
   ]
  },
  {
   "cell_type": "markdown",
   "metadata": {},
   "source": [
    "here $d\\hat{k} = d\\theta\\sin(\\theta)d\\varphi$.\n",
    "Note that we discuss only the orbital momentum, we will include angular momentum and spin later.\n",
    "\n",
    "\n",
    "\n",
    "## The Lippman-Schwinger equation for two-nucleon scattering\n",
    "\n",
    "The potential is often given in position space. It is then convenient to establish \n",
    "the connection between $V_{lm, l'm'}(k,k')$ and $V_{lm, l'm'}(r,r')$. Inserting \n",
    "the completeness relation for the position quantum numbers in equation ([eq:pot1](#eq:pot1)) results in"
   ]
  },
  {
   "cell_type": "markdown",
   "metadata": {},
   "source": [
    "<!-- Equation labels as ordinary links -->\n",
    "<div id=\"eq:pot2\"></div>\n",
    "\n",
    "$$\n",
    "\\begin{equation}\n",
    "V =\\int d\\mathbf{r}\\int d\\mathbf{r}'\\left\\{\\int d{\\hat{k}}Y_{lm}^*(\\hat{k})\\langle \\mathbf{k}\\vert \\mathbf{r}\\rangle\\right\\}\\langle\\mathbf{r}\\vert V\\vert\\mathbf{r}'\\rangle\\left\\{\\int d\\hat{k}'Y_{lm}(\\hat{k}')\\langle\\mathbf{r'}\\vert\\mathbf{k}'\\rangle\\right\\}\n",
    "\\label{eq:pot2} \\tag{5}\n",
    "\\end{equation}\n",
    "$$"
   ]
  },
  {
   "cell_type": "markdown",
   "metadata": {},
   "source": [
    "## The Lippman-Schwinger equation for two-nucleon scattering\n",
    "Since the plane waves depend only on the absolute values of position and momentum, $\\vert\\mathbf{k}\\vert$ and \n",
    "$\\vert\\mathbf{r}\\vert$,\n",
    "and the angle between them, $\\theta_{kr}$, they may be expanded in terms of bipolar harmonics of \n",
    "zero rank, i.e."
   ]
  },
  {
   "cell_type": "markdown",
   "metadata": {},
   "source": [
    "$$\n",
    "\\exp{(i \\mathbf{k}\\cdot \\mathbf{r})} = 4\\pi\\sum_{l=0}^{\\infty} i^l j_l(kr)\\left( Y_l(\\hat{k}) \\cdot Y_l(\\hat{r}) \\right)= \\sum_{l=0}^{\\infty} (2l+1)i^l j_l(kr) P_l(\\cos \\theta_{kr})\n",
    "$$"
   ]
  },
  {
   "cell_type": "markdown",
   "metadata": {},
   "source": [
    "where the addition theorem for spherical harmonics has been used in order to write\n",
    "the expansion in terms of Legendre polynomials. The spherical Bessel functions, $j_l(z)$,  \n",
    "are given in terms of Bessel functions of the first kind with half integer orders,"
   ]
  },
  {
   "cell_type": "markdown",
   "metadata": {},
   "source": [
    "$$\n",
    "j_l(z) = \\sqrt{\\pi \\over 2 z} J_{l+1/2}(z).\n",
    "$$"
   ]
  },
  {
   "cell_type": "markdown",
   "metadata": {},
   "source": [
    "## The Lippman-Schwinger equation for two-nucleon scattering\n",
    "Inserting the plane-wave expansion\n",
    "into the brackets of equation ([eq:pot2](#eq:pot2)) yields,"
   ]
  },
  {
   "cell_type": "markdown",
   "metadata": {},
   "source": [
    "$$\n",
    "\\begin{eqnarray*}\n",
    "  \\nonumber\n",
    "  \\int d{\\hat{k}}  Y_{lm}^*(\\hat{k})\\langle \\mathbf{k}\\vert \\mathbf{r} \\rangle & = &  \n",
    "  \\left( {1\\over 2\\pi} \\right) ^{3/2}4\\pi i^{-l} j_l(kr) Y_{lm}^*(\\hat{r}), \\\\  \n",
    "  \\nonumber\n",
    "  \\int d{\\hat{k}'}\\:   Y_{lm}(\\hat{k}') \\langle \\mathbf{r'}\\vert \\mathbf{k}' \\rangle & = &  \n",
    "  \\left( {1\\over 2\\pi} \\right) ^{3/2}4\\pi i^{l'} j_{l'}(k'r') Y_{l'm'}(\\hat{r}). \n",
    "\\end{eqnarray*}\n",
    "$$"
   ]
  },
  {
   "cell_type": "markdown",
   "metadata": {},
   "source": [
    "## The Lippman-Schwinger equation for two-nucleon scattering\n",
    "The connection between the momentum- and position space angular momentum \n",
    "projected potentials are then given,"
   ]
  },
  {
   "cell_type": "markdown",
   "metadata": {},
   "source": [
    "<!-- Equation labels as ordinary links -->\n",
    "<div id=\"eq:pot3\"></div>\n",
    "\n",
    "$$\n",
    "\\begin{equation}\n",
    "  V_{lm, l'm'}(k,k')=\\frac{2}{\\pi}i^{l'-l}\\int_0^\\infty drr^2 \\int_0^\\infty dr'{r'}^2j_l(kr) V_{lm,l'm'}(r,r') j_{l'}(k'r')\n",
    "\\label{eq:pot3} \\tag{6}\n",
    "\\end{equation}\n",
    "$$"
   ]
  },
  {
   "cell_type": "markdown",
   "metadata": {},
   "source": [
    "which is known as a double Fourier-Bessel transform. The position space angular \n",
    "momentum projected potential is given by"
   ]
  },
  {
   "cell_type": "markdown",
   "metadata": {},
   "source": [
    "<!-- Equation labels as ordinary links -->\n",
    "<div id=\"eq:pot4\"></div>\n",
    "\n",
    "$$\n",
    "\\begin{equation}\n",
    "  V_{lm, l'm'}(r,r') = \\int d{\\hat{r}} \\int d{\\hat{r}'}Y_{lm}^*(\\hat{r})V(\\mathbf{r}, \\mathbf{r'})Y_{l'm'}(\\hat{r}').\n",
    "\\label{eq:pot4} \\tag{7}\n",
    "\\end{equation}\n",
    "$$"
   ]
  },
  {
   "cell_type": "markdown",
   "metadata": {},
   "source": [
    "## The Lippman-Schwinger equation for two-nucleon scattering\n",
    "No assumptions of locality/non-locality and deformation of the interaction has so far been made, \n",
    "and the result in equation ([eq:pot3](#eq:pot3)) is general. In position space the Schroedinger equation \n",
    "takes form of an integro-differential equation in case of a non-local interaction, \n",
    "in momentum space the Schroedinger equation is an ordinary integral equation of the Fredholm type, \n",
    "see equation ([eq:part_wave2](#eq:part_wave2)). This is a further advantage of the momentum space approach as compared to \n",
    "the standard position space approach.  \n",
    "If we assume that the \n",
    "interaction is of local character, i.e."
   ]
  },
  {
   "cell_type": "markdown",
   "metadata": {},
   "source": [
    "$$\n",
    "\\langle \\mathbf{r}\\vert V \\vert \\mathbf{r'}\\rangle = V(\\mathbf{r}) \\delta( \\mathbf{r}-\\mathbf{r}' ) = \n",
    "  V(\\mathbf{r}) {\\delta( { r}-{r}' ) \\over r^2} \\delta ( \\cos \\theta - \\cos \\theta' ) \\delta (\\varphi-\\varphi'),\n",
    "$$"
   ]
  },
  {
   "cell_type": "markdown",
   "metadata": {},
   "source": [
    "then equation ([eq:pot3](#eq:pot3)) reduces to"
   ]
  },
  {
   "cell_type": "markdown",
   "metadata": {},
   "source": [
    "<!-- Equation labels as ordinary links -->\n",
    "<div id=\"eq:pot5\"></div>\n",
    "\n",
    "$$\n",
    "\\begin{equation}\n",
    "  V_{lm, l'm'}(r,r') = \\frac{\\delta({r}-{r}')}{r^2}\\int d{\\hat{r}}\\:\n",
    "  Y_{lm}^*(\\hat{r})V(\\mathbf{r})Y_{l'm'}(\\hat{r}),\n",
    "\\label{eq:pot5} \\tag{8}\n",
    "\\end{equation}\n",
    "$$"
   ]
  },
  {
   "cell_type": "markdown",
   "metadata": {},
   "source": [
    "## The Lippman-Schwinger equation for two-nucleon scattering\n",
    "and equation ([eq:pot3](#eq:pot3)) reduces to"
   ]
  },
  {
   "cell_type": "markdown",
   "metadata": {},
   "source": [
    "<!-- Equation labels as ordinary links -->\n",
    "<div id=\"eq:pot6\"></div>\n",
    "\n",
    "$$\n",
    "\\begin{equation}\n",
    "  V_{lm, l'm'}(k,k') = \\frac{2}{\\pi}i^{l' -l}\\int_0^\\infty drr^2j_l(kr) V_{lm,l'm'}(r) j_{l'}(k'r)\n",
    "\\label{eq:pot6} \\tag{9}\n",
    "\\end{equation}\n",
    "$$"
   ]
  },
  {
   "cell_type": "markdown",
   "metadata": {},
   "source": [
    "where"
   ]
  },
  {
   "cell_type": "markdown",
   "metadata": {},
   "source": [
    "<!-- Equation labels as ordinary links -->\n",
    "<div id=\"eq:pot10\"></div>\n",
    "\n",
    "$$\n",
    "\\begin{equation}\n",
    "  V_{lm, l'm'}(r) = \\int d{\\hat{r}}Y_{lm}^*(\\hat{r})V(\\mathbf{r})Y_{l'm'}(\\hat{r}),\n",
    "\\label{eq:pot10} \\tag{10}\n",
    "\\end{equation}\n",
    "$$"
   ]
  },
  {
   "cell_type": "markdown",
   "metadata": {},
   "source": [
    "## The Lippman-Schwinger equation for two-nucleon scattering\n",
    "In the case that the interaction is central, $V(\\mathbf{r}) = V(r)$, then"
   ]
  },
  {
   "cell_type": "markdown",
   "metadata": {},
   "source": [
    "<!-- Equation labels as ordinary links -->\n",
    "<div id=\"eq:pot7\"></div>\n",
    "\n",
    "$$\n",
    "\\begin{equation}\n",
    "  V_{lm, l'm'}(r) = V(r) \\int d{\\hat{r}}Y_{lm}^*(\\hat{r})Y_{l'm'}(\\hat{r}) = V(r) \\delta_{l,l'}\\delta_{m,m'},\n",
    "\\label{eq:pot7} \\tag{11}\n",
    "\\end{equation}\n",
    "$$"
   ]
  },
  {
   "cell_type": "markdown",
   "metadata": {},
   "source": [
    "and"
   ]
  },
  {
   "cell_type": "markdown",
   "metadata": {},
   "source": [
    "<!-- Equation labels as ordinary links -->\n",
    "<div id=\"eq:pot8\"></div>\n",
    "\n",
    "$$\n",
    "\\begin{equation}\n",
    "  V_{lm, l'm'}(k,k') = \\frac{2}{\\pi} \\int_0^\\infty drr^2j_l(kr) V(r) j_{l'}(k'r)\\delta_{l,l'}\\delta_{m,m'} = V_l(k,k') \\delta_{l,l'}\\delta_{m,m'}\n",
    "\\label{eq:pot8} \\tag{12}\n",
    "\\end{equation}\n",
    "$$"
   ]
  },
  {
   "cell_type": "markdown",
   "metadata": {},
   "source": [
    "where the momentum space representation of the interaction finally reads,"
   ]
  },
  {
   "cell_type": "markdown",
   "metadata": {},
   "source": [
    "<!-- Equation labels as ordinary links -->\n",
    "<div id=\"eq:pot9\"></div>\n",
    "\n",
    "$$\n",
    "\\begin{equation}\n",
    "  V_{l}(k,k') = {2 \\over \\pi} \\int_0^\\infty dr\\: r^2 \\:\n",
    "  j_l(kr) V(r) j_{l}(k'r).\n",
    "\\label{eq:pot9} \\tag{13}\n",
    "\\end{equation}\n",
    "$$"
   ]
  },
  {
   "cell_type": "markdown",
   "metadata": {},
   "source": [
    "## The Lippman-Schwinger equation for two-nucleon scattering\n",
    "For a local and spherical symmetric potential, \n",
    "the coupled momentum space Schroedinger equations given in equation ([eq:part_wave2](#eq:part_wave2))\n",
    "decouples in angular momentum, \n",
    "giving"
   ]
  },
  {
   "cell_type": "markdown",
   "metadata": {},
   "source": [
    "<!-- Equation labels as ordinary links -->\n",
    "<div id=\"eq:momentum_space\"></div>\n",
    "\n",
    "$$\n",
    "\\begin{equation}\n",
    "\\frac{\\hbar^2}{2\\mu} k^2 \\psi_{n l}(k) +\\int_{0}^\\infty dk' {k'}^2 V_{l}(k,k') \\psi_{n l }(k')=E_{n l} \\psi_{n l}(k) \n",
    "\\label{eq:momentum_space} \\tag{14}\n",
    "\\end{equation}\n",
    "$$"
   ]
  },
  {
   "cell_type": "markdown",
   "metadata": {},
   "source": [
    "Where we have written $\\psi_{n l }(k)=\\psi_{nlm}(k)$, since the \n",
    "equation becomes independent of the projection $m$ for spherical symmetric interactions. \n",
    "The momentum space wave functions $\\psi_{n l}(k)$ defines a complete orthogonal set \n",
    "of functions, which spans the space of functions with a positive finite Euclidean norm \n",
    " (also called $l^2$-norm), $\\sqrt{\\langle\\psi_n\\vert\\psi_n\\rangle}$, which \n",
    "is a Hilbert space. The corresponding normalized wave function in coordinate space\n",
    "is given by the Fourier-Bessel transform"
   ]
  },
  {
   "cell_type": "markdown",
   "metadata": {},
   "source": [
    "$$\n",
    "\\phi_{n l}(r)  = \\sqrt{\\frac{2}{\\pi}}\\int dk k^2 j_l(kr) \\psi_{n l}(k)\n",
    "$$"
   ]
  },
  {
   "cell_type": "markdown",
   "metadata": {},
   "source": [
    "## The Lippman-Schwinger equation for two-nucleon scattering\n",
    "We will thus assume that the interaction is spherically symmetric and use\n",
    "the partial wave expansion of the plane waves in\n",
    "terms of spherical harmonics.\n",
    "This means that we can separate the radial part of the wave function from its\n",
    "angular dependence. The wave function of the relative motion is described\n",
    "in terms of plane waves as"
   ]
  },
  {
   "cell_type": "markdown",
   "metadata": {},
   "source": [
    "$$\n",
    "\\exp{(\\imath \\mathbf{kr})}=\\langle\\mathbf{r}\\vert\\mathbf{k}\\rangle=4\\pi\\sum_{lm}\\imath^{l}j_{l}(kr)Y_{lm}^{*}(\\mathbf{\\hat{k}})Y_{lm}(\\mathbf{\\hat{r}}),\n",
    "$$"
   ]
  },
  {
   "cell_type": "markdown",
   "metadata": {},
   "source": [
    "where $j_l$ is a spherical Bessel function and $Y_{lm}$ the\n",
    "spherical harmonics.\n",
    "\n",
    "\n",
    "\n",
    "## The Lippman-Schwinger equation for two-nucleon scattering\n",
    "In terms of the relative and center-of-mass momenta $\\mathbf{k}$ and\n",
    "$\\mathbf{K}$, the potential in momentum space is related to the nonlocal operator\n",
    "$V(\\mathbf{r},\\mathbf{r}')$ by"
   ]
  },
  {
   "cell_type": "markdown",
   "metadata": {},
   "source": [
    "$$\n",
    "\\langle\\mathbf{k'K'}\\vert V \\vert \\mathbf{kK}\\rangle =\\int d\\mathbf{r}d \\mathbf{r'}\n",
    "        \\exp{-(\\imath \\mathbf{k'r'})}V(\\mathbf{r'},\\mathbf{r})\\exp{\\imath \\mathbf{kr}}\\delta(\\mathbf{K},\\mathbf{K'}).\n",
    "$$"
   ]
  },
  {
   "cell_type": "markdown",
   "metadata": {},
   "source": [
    "We will assume that the interaction is spherically symmetric.\n",
    "Can separate the radial part of the wave function from its\n",
    "angular dependence. The wave function of the relative motion is described\n",
    "in terms of plane waves as"
   ]
  },
  {
   "cell_type": "markdown",
   "metadata": {},
   "source": [
    "$$\n",
    "\\exp{(\\imath \\mathbf{kr})} =\\langle\\mathbf{r}\\vert\\mathbf{k}\\rangle= 4\\pi\\sum_{lm}\\imath^{l}j_{l}(kr)Y_{lm}^{*}(\\mathbf{\\hat{k}})Y_{lm}(\\mathbf{\\hat{r}}),\n",
    "$$"
   ]
  },
  {
   "cell_type": "markdown",
   "metadata": {},
   "source": [
    "where $j_l$ is a spherical Bessel function and $Y_{lm}$ the\n",
    "spherical harmonic.\n",
    "\n",
    "\n",
    "\n",
    "## The Lippman-Schwinger equation for two-nucleon scattering\n",
    "This partial wave basis is useful for defining the operator for\n",
    "the nucleon-nucleon interaction, which\n",
    "is symmetric with respect to rotations, parity and\n",
    "isospin transformations. These symmetries imply that the interaction is\n",
    "diagonal with respect to the quantum numbers of total relative angular\n",
    "momentum ${\\cal J}$, spin $S$ and isospin $T$ (we skip isospin for the moment). Using the above plane wave expansion,\n",
    "and coupling to final ${\\cal J}$ and $S$ and $T$ we get"
   ]
  },
  {
   "cell_type": "markdown",
   "metadata": {},
   "source": [
    "6\n",
    "1\n",
    " \n",
    "<\n",
    "<\n",
    "<\n",
    "!\n",
    "!\n",
    "M\n",
    "A\n",
    "T\n",
    "H\n",
    "_\n",
    "B\n",
    "L\n",
    "O\n",
    "C\n",
    "K"
   ]
  },
  {
   "cell_type": "markdown",
   "metadata": {},
   "source": [
    "$$\n",
    "\\langle lm_lSm_S|{\\cal J}M\\rangle \\langle l'm_{l'}Sm_S|{\\cal J}M\\rangle\\langle k'l'S{\\cal J}M\\vert V \\vert klS{\\cal J}M\\rangle,\n",
    "$$"
   ]
  },
  {
   "cell_type": "markdown",
   "metadata": {},
   "source": [
    "where we have defined"
   ]
  },
  {
   "cell_type": "markdown",
   "metadata": {},
   "source": [
    "$$\n",
    "\\langle k'l'S{\\cal J}M\\vert V \\vert klS{\\cal J}M\\rangle=\\int j_{l'}(k'r')\\langle l'S{\\cal J}M\\vert V(r',r)\\vert lS{\\cal J}M\\rangle j_l(kr) {r'}^2 dr' r^2 dr.\n",
    "$$"
   ]
  },
  {
   "cell_type": "markdown",
   "metadata": {},
   "source": [
    "We have omitted the momentum of the center-of-mass motion $\\mathbf{K}$ and the \n",
    "corresponding orbital momentum $L$, since the interaction is diagonal\n",
    "in these variables.\n",
    "\n",
    "\n",
    "\n",
    "\n",
    "## The Lippman-Schwinger equation for two-nucleon scattering\n",
    "We wrote the Lippman-Schwinger equation as"
   ]
  },
  {
   "cell_type": "markdown",
   "metadata": {},
   "source": [
    "$$\n",
    "\\langle \\phi_m \\vert\\hat{T}\\vert \\phi_n \\rangle =\\langle \\phi_m \\vert\\hat{V}\\vert\\phi_n \\rangle+\\sum_k \\langle \\phi_m \\vert\\hat{V}\\vert \\phi_k\\rangle\\frac{1}{(E_n -\\omega_k)}\\langle \\phi_k \\vert\\hat{T}\\vert \\phi_n \\rangle.\n",
    "$$"
   ]
  },
  {
   "cell_type": "markdown",
   "metadata": {},
   "source": [
    "How do we rewrite it in a partial wave expansion with momenta $k$?\n",
    "\n",
    "\n",
    "\n",
    "## The Lippman-Schwinger equation for two-nucleon scattering\n",
    "The general structure of the $T$-matrix in partial waves is"
   ]
  },
  {
   "cell_type": "markdown",
   "metadata": {},
   "source": [
    "6\n",
    "5\n",
    " \n",
    "<\n",
    "<\n",
    "<\n",
    "!\n",
    "!\n",
    "M\n",
    "A\n",
    "T\n",
    "H\n",
    "_\n",
    "B\n",
    "L\n",
    "O\n",
    "C\n",
    "K"
   ]
  },
  {
   "cell_type": "markdown",
   "metadata": {},
   "source": [
    "<!-- Equation labels as ordinary links -->\n",
    "<div id=\"eq:bspartial\"></div>\n",
    "\n",
    "$$\n",
    "\\begin{equation}\n",
    "   +{\\displaystyle \\frac{2}{\\pi}\\sum_{l''m_{l''}M_S}\\int_{0}^{\\infty} d \\mathbf{q}\n",
    "   (\\langle l''m_{l''}Sm_S|{\\cal J}M\\rangle)^2\n",
    "   \\frac{Y_{l''m_{l''}}^*(\\hat{\\mathbf{q}})\n",
    "   Y_{l''m_{l''}}(\\hat{\\mathbf{q}}) V_{ll''}^{\\alpha}(kq)\n",
    "   T_{l''l'}^{\\alpha}(qk'K\\omega)}\n",
    "   {\\omega -H_0}},\n",
    "\\label{eq:bspartial} \\tag{15}\n",
    "\\end{equation}\n",
    "$$"
   ]
  },
  {
   "cell_type": "markdown",
   "metadata": {},
   "source": [
    "## The Lippman-Schwinger equation for two-nucleon scattering\n",
    "The  shorthand notation"
   ]
  },
  {
   "cell_type": "markdown",
   "metadata": {},
   "source": [
    "$$\n",
    "T_{ll'}^{\\alpha}(kk'K\\omega)=\n",
    "   \\langle kKlL{\\cal J}S\\vert T(\\omega)\\vert k'Kl'L{\\cal J}S\\rangle,\n",
    "$$"
   ]
  },
  {
   "cell_type": "markdown",
   "metadata": {},
   "source": [
    "denotes the $T$-matrix\n",
    "with momenta $k$ and $k'$ and orbital momenta $l$ and $l'$\n",
    "of the relative motion, and\n",
    "$K$ is the corresponding momentum of\n",
    "the center-of-mass motion. Further, $L$, ${\\cal J}$, $S$ and $T$\n",
    "are the orbital momentum of the center-of-mass motion, the\n",
    "total angular momentum,\n",
    "spin and isospin, respectively. \n",
    "Due to the nuclear tensor force, the interaction is not diagonal in $ll'$.\n",
    "\n",
    "\n",
    "\n",
    "## The Lippman-Schwinger equation for two-nucleon scattering\n",
    "Using the orthogonality\n",
    "properties of the Clebsch-Gordan coefficients and the spherical harmonics,\n",
    "we obtain the well-known\n",
    "one-dimensional angle independent\n",
    "integral equation"
   ]
  },
  {
   "cell_type": "markdown",
   "metadata": {},
   "source": [
    "$$\n",
    "T_{ll'}^{\\alpha}(kk'K\\omega)=V_{ll'}^{\\alpha}(kk')\n",
    "   +\\frac{2}{\\pi}\\sum_{l''}\\int_{0}^{\\infty} dqq^2\n",
    "   \\frac{V_{ll''}^{\\alpha}(kq)\n",
    "   T_{l''l'}^{\\alpha}(qk'K\\omega)}\n",
    "   {\\omega -H_0}.\n",
    "$$"
   ]
  },
  {
   "cell_type": "markdown",
   "metadata": {},
   "source": [
    "Inserting the denominator we arrive at"
   ]
  },
  {
   "cell_type": "markdown",
   "metadata": {},
   "source": [
    "$$\n",
    "\\hat{T}_{ll'}^{\\alpha}(kk'K)=\\hat{V}_{ll'}^{\\alpha}(kk')\n",
    "   +\\frac{2}{\\pi}\\sum_{l''}\\int_{0}^{\\infty} dqq^2\n",
    "   \\hat{V}_{ll''}^{\\alpha}(kq)\n",
    "   \\frac{1}{k^2-q^2 +i\\epsilon}\n",
    "   \\hat{T}_{l''l'}^{\\alpha}(qk'K).\n",
    "$$"
   ]
  },
  {
   "cell_type": "markdown",
   "metadata": {},
   "source": [
    "## The Lippman-Schwinger equation for two-nucleon scattering\n",
    "To parameterize the nucleon-nucleon interaction we solve the Lippman-Scwhinger\n",
    "equation"
   ]
  },
  {
   "cell_type": "markdown",
   "metadata": {},
   "source": [
    "$$\n",
    "T_{ll'}^{\\alpha}(kk'K)=V_{ll'}^{\\alpha}(kk')\n",
    "   +\\frac{2}{\\pi}\\sum_{l''}\\int_{0}^{\\infty} dqq^2\n",
    "   V_{ll''}^{\\alpha}(kq)\n",
    "   \\frac{1}{k^2-q^2 +i\\epsilon}\n",
    "   T_{l''l'}^{\\alpha}(qk'K).\n",
    "$$"
   ]
  },
  {
   "cell_type": "markdown",
   "metadata": {},
   "source": [
    "The  shorthand notation"
   ]
  },
  {
   "cell_type": "markdown",
   "metadata": {},
   "source": [
    "$$\n",
    "T(\\hat{V})_{ll'}^{\\alpha}(kk'K\\omega)=\\langle kKlL{\\cal J}S\\vert T(\\omega)\\vert k'Kl'L{\\cal J}S\\rangle,\n",
    "$$"
   ]
  },
  {
   "cell_type": "markdown",
   "metadata": {},
   "source": [
    "denotes the $T(V)$-matrix\n",
    "with momenta $k$ and $k'$ and orbital momenta $l$ and $l'$\n",
    "of the relative motion, and\n",
    "$K$ is the corresponding momentum of\n",
    "the center-of-mass motion. Further, $L$, ${\\cal J}$, and $S$\n",
    "are the orbital momentum of the center-of-mass motion, the\n",
    "total angular momentum and\n",
    "spin, respectively. We skip for the moment isospin.\n",
    "\n",
    "\n",
    "\n",
    "## The Lippman-Schwinger equation for two-nucleon scattering\n",
    "For scattering states, the energy is positive, $E>0$. \n",
    "The Lippman-Schwinger equation (a rewrite of the Schroedinger equation)\n",
    "is an integral equation\n",
    "where we have to deal with the amplitude \n",
    "$R(k,k')$ (reaction matrix, which is the real part of  the full\n",
    "complex $T$-matrix)\n",
    "defined through the integral equation for one partial wave (no coupled-channels)"
   ]
  },
  {
   "cell_type": "markdown",
   "metadata": {},
   "source": [
    "<!-- Equation labels as ordinary links -->\n",
    "<div id=\"eq:ls1\"></div>\n",
    "\n",
    "$$\n",
    "\\begin{equation}\n",
    "    R_l(k,k') = V_l(k,k') +\\frac{2}{\\pi}{\\cal P}\n",
    "                \\int_0^{\\infty}dqq^2V_l(k,q)\\frac{1}{E-q^2/m}R_l(q,k').\n",
    "\\label{eq:ls1} \\tag{16}\n",
    "\\end{equation}\n",
    "$$"
   ]
  },
  {
   "cell_type": "markdown",
   "metadata": {},
   "source": [
    "For negative energies (bound states) and intermediate states scattering states blocked\n",
    "by  occupied states below the Fermi level.\n",
    "\n",
    "\n",
    "\n",
    "## The Lippman-Schwinger equation for two-nucleon scattering\n",
    "The symbol ${\\cal P}$ in the previous slide indicates that Cauchy's principal-value prescription\n",
    "is used in order to avoid the singularity arising from the zero of the denominator.\n",
    "\n",
    "\n",
    "The total kinetic energy of the two \n",
    "incoming particles in the center-of-mass system\n",
    "is"
   ]
  },
  {
   "cell_type": "markdown",
   "metadata": {},
   "source": [
    "$$\n",
    "E=\\frac{k_0^2}{m_n}.\n",
    "$$"
   ]
  },
  {
   "cell_type": "markdown",
   "metadata": {},
   "source": [
    "## The Lippman-Schwinger equation for two-nucleon scattering\n",
    "The matrix $R_l(k,k')$ relates to the \n",
    "the  phase shifts through its diagonal elements as"
   ]
  },
  {
   "cell_type": "markdown",
   "metadata": {},
   "source": [
    "<!-- Equation labels as ordinary links -->\n",
    "<div id=\"eq:shifts\"></div>\n",
    "\n",
    "$$\n",
    "\\begin{equation}\n",
    "     R_l(k_0,k_0)=-\\frac{tan\\delta_l}{mk_0}.\n",
    "\\label{eq:shifts} \\tag{17}\n",
    "\\end{equation}\n",
    "$$"
   ]
  },
  {
   "cell_type": "markdown",
   "metadata": {},
   "source": [
    "## The Lippman-Schwinger equation for two-nucleon scattering\n",
    "From now on we will drop the subscript $l$ in all equations.\n",
    "In order to solve the Lippman-Schwinger equation \n",
    "in momentum space, we need first to write \n",
    "a function which sets up the mesh points. \n",
    "We need to do that since we are going to approximate an integral\n",
    "through"
   ]
  },
  {
   "cell_type": "markdown",
   "metadata": {},
   "source": [
    "$$\n",
    "\\int_a^bf(x)dx\\approx\\sum_{i=1}^Nw_if(x_i),\n",
    "$$"
   ]
  },
  {
   "cell_type": "markdown",
   "metadata": {},
   "source": [
    "where we have fixed $N$ lattice points through the corresponding weights\n",
    "$w_i$ and points $x_i$. Typically obtained via methods like Gaussian quadrature.\n",
    "\n",
    "\n",
    "\n",
    "## The Lippman-Schwinger equation for two-nucleon scattering\n",
    "If you use Gauss-Legendre the points are determined for the interval $x_i\\in [-1,1]$\n",
    "You map these points over to the limits in your integral. You can then\n",
    "use the following mapping"
   ]
  },
  {
   "cell_type": "markdown",
   "metadata": {},
   "source": [
    "$$\n",
    "k_i=const\\times tan\\left\\{\\frac{\\pi}{4}(1+x_i)\\right\\},\n",
    "$$"
   ]
  },
  {
   "cell_type": "markdown",
   "metadata": {},
   "source": [
    "and"
   ]
  },
  {
   "cell_type": "markdown",
   "metadata": {},
   "source": [
    "$$\n",
    "\\omega_i= const\\frac{\\pi}{4}\\frac{w_i}{cos^2\\left(\\frac{\\pi}{4}(1+x_i)\\right)}.\n",
    "$$"
   ]
  },
  {
   "cell_type": "markdown",
   "metadata": {},
   "source": [
    "If you choose units fm$^{-1}$ for $k$, set $const=1$. If you choose to work\n",
    "with MeV, set $const\\sim 200$ ($\\hbar c=197$ MeVfm).\n",
    "\n",
    "\n",
    "\n",
    "## The Lippman-Schwinger equation for two-nucleon scattering\n",
    "The principal value integral is rather tricky\n",
    "to evaluate numerically, mainly since computers have limited\n",
    "precision. We will here use a subtraction trick often used\n",
    "when dealing with singular integrals in numerical calculations.\n",
    "We introduce first the calculus relation"
   ]
  },
  {
   "cell_type": "markdown",
   "metadata": {},
   "source": [
    "$$\n",
    "\\int_{-\\infty}^{\\infty} \\frac{dk}{k-k_0} =0.\n",
    "$$"
   ]
  },
  {
   "cell_type": "markdown",
   "metadata": {},
   "source": [
    "It means that the curve $1/(k-k_0)$ has equal and opposite\n",
    "areas on both sides of the singular point $k_0$. If we break\n",
    "the integral into one over positive $k$ and one over \n",
    "negative $k$, a change of variable $k\\rightarrow -k$ \n",
    "allows us to rewrite the last equation as"
   ]
  },
  {
   "cell_type": "markdown",
   "metadata": {},
   "source": [
    "$$\n",
    "\\int_{0}^{\\infty} \\frac{dk}{k^2-k_0^2} =0.\n",
    "$$"
   ]
  },
  {
   "cell_type": "markdown",
   "metadata": {},
   "source": [
    "## The Lippman-Schwinger equation for two-nucleon scattering\n",
    "We can then express a principal values integral\n",
    "as"
   ]
  },
  {
   "cell_type": "markdown",
   "metadata": {},
   "source": [
    "<!-- Equation labels as ordinary links -->\n",
    "<div id=\"eq:trick\"></div>\n",
    "\n",
    "$$\n",
    "\\begin{equation}\n",
    "  {\\cal P}\\int_{0}^{\\infty} \\frac{f(k)dk}{k^2-k_0^2} =\n",
    "  \\int_{0}^{\\infty} \\frac{(f(k)-f(k_0))dk}{k^2-k_0^2},\n",
    "\\label{eq:trick} \\tag{18}\n",
    "\\end{equation}\n",
    "$$"
   ]
  },
  {
   "cell_type": "markdown",
   "metadata": {},
   "source": [
    "where the right-hand side is no longer singular at \n",
    "$k=k_0$, it is proportional to the derivative $df/dk$,\n",
    "and can be evaluated numerically as any other integral.\n",
    "\n",
    "\n",
    "\n",
    "## The Lippman-Schwinger equation for two-nucleon scattering\n",
    "We can then use this trick to obtain"
   ]
  },
  {
   "cell_type": "markdown",
   "metadata": {},
   "source": [
    "<!-- Equation labels as ordinary links -->\n",
    "<div id=\"eq:ls2\"></div>\n",
    "\n",
    "$$\n",
    "\\begin{equation}\n",
    "    R(k,k') = V(k,k') +\\frac{2}{\\pi}\n",
    "                \\int_0^{\\infty}dq\n",
    "                \\frac{q^2V(k,q)R(q,k')-k_0^2V(k,k_0)R(k_0,k')  }\n",
    "                     {(k_0^2-q^2)/m}.\n",
    "\\label{eq:ls2} \\tag{19}\n",
    "\\end{equation}\n",
    "$$"
   ]
  },
  {
   "cell_type": "markdown",
   "metadata": {},
   "source": [
    "This is the equation to solve numerically in order\n",
    "to calculate the phase shifts. We are interested in obtaining\n",
    "$R(k_0,k_0)$.\n",
    "\n",
    "\n",
    "\n",
    "## The Lippman-Schwinger equation for two-nucleon scattering\n",
    "How do we proceed?\n",
    "\n",
    "Using the mesh points $k_j$ and the weights $\\omega_j$,\n",
    "         we reach"
   ]
  },
  {
   "cell_type": "markdown",
   "metadata": {},
   "source": [
    "$$\n",
    "R(k,k') = V(k,k') +\\frac{2}{\\pi}\n",
    "          \\sum_{j=1}^N\\frac{\\omega_jk_j^2V(k,k_j)R(k_j,k')}\n",
    "                           {(k_0^2-k_j^2)/m}\n",
    "           -\\frac{2}{\\pi}k_0^2V(k,k_0)R(k_0,k')\n",
    "          \\sum_{n=1}^N\\frac{\\omega_n}\n",
    "                           {(k_0^2-k_n^2)/m}.\n",
    "$$"
   ]
  },
  {
   "cell_type": "markdown",
   "metadata": {},
   "source": [
    "## The Lippman-Schwinger equation for two-nucleon scattering\n",
    "This equation contains now the unknowns $R(k_i,k_j)$\n",
    "(with dimension $N\\times N$) and $R(k_0,k_0)$.\n",
    "\n",
    "We can turn it into an equation\n",
    "with dimension $(N+1)\\times (N+1)$ with  a mesh\n",
    "which contains the original mesh points $k_j$ for $j=1,N$\n",
    "and the point which corresponds to the energy $k_0$.\n",
    "Consider the latter as the 'observable' point.\n",
    "The mesh points become then $k_j$ for $j=1,n$ and\n",
    "$k_{N+1}=k_0$. \n",
    "\n",
    "With these new mesh points we define the matrix"
   ]
  },
  {
   "cell_type": "markdown",
   "metadata": {},
   "source": [
    "<!-- Equation labels as ordinary links -->\n",
    "<div id=\"eq:aeq\"></div>\n",
    "\n",
    "$$\n",
    "\\begin{equation}\n",
    "      A_{i,j}=\\delta_{i,j}-V(k_i,k_j)u_j,\n",
    "\\label{eq:aeq} \\tag{20}\n",
    "\\end{equation}\n",
    "$$"
   ]
  },
  {
   "cell_type": "markdown",
   "metadata": {},
   "source": [
    "## The Lippman-Schwinger equation for two-nucleon scattering\n",
    "where $\\delta$ is the Kronecker $\\delta$\n",
    "and"
   ]
  },
  {
   "cell_type": "markdown",
   "metadata": {},
   "source": [
    "$$\n",
    "u_j=\\frac{2}{\\pi}\\frac{\\omega_jk_j^2}{(k_0^2-k_j^2)/m}\\hspace{1cm} j=1,N\n",
    "$$"
   ]
  },
  {
   "cell_type": "markdown",
   "metadata": {},
   "source": [
    "and"
   ]
  },
  {
   "cell_type": "markdown",
   "metadata": {},
   "source": [
    "$$\n",
    "u_{N+1}=-\\frac{2}{\\pi}\\sum_{j=1}^N\\frac{k_0^2\\omega_j}{(k_0^2-k_j^2)/m}.\n",
    "$$"
   ]
  },
  {
   "cell_type": "markdown",
   "metadata": {},
   "source": [
    "## The Lippman-Schwinger equation for two-nucleon scattering\n",
    "The first task is then to \n",
    "set up the matrix $A$ for a given $k_0$. This is an\n",
    "$(N+1)\\times (N+1)$ matrix. It can be convenient\n",
    "to have an outer loop which runs over the chosen\n",
    "observable values for the energy $k_0^2/m$.\n",
    "{\\em Note that all mesh points $k_j$ for $j=1,N$ must be\n",
    "different from $k_0$. Note also that\n",
    "$V(k_i,k_j)$ is an\n",
    "$(N+1)\\times (N+1)$ matrix}. \n",
    "\n",
    "With the matrix $A$ we can rewrite the problem as a matrix problem of dimension $(N+1)\\times (N+1)$.\n",
    "All matrices $R$, $A$ and $V$ have this dimension and we get"
   ]
  },
  {
   "cell_type": "markdown",
   "metadata": {},
   "source": [
    "$$\n",
    "A_{i,l}R_{l,j}=V_{i,j},\n",
    "$$"
   ]
  },
  {
   "cell_type": "markdown",
   "metadata": {},
   "source": [
    "or just"
   ]
  },
  {
   "cell_type": "markdown",
   "metadata": {},
   "source": [
    "$$\n",
    "AR=V.\n",
    "$$"
   ]
  },
  {
   "cell_type": "markdown",
   "metadata": {},
   "source": [
    "## The Lippman-Schwinger equation for two-nucleon scattering\n",
    "Since you already have defined $A$ and $V$\n",
    "(these are stored as $(N+1)\\times (N+1)$ matrices) \n",
    "The final equation involves only the unknown\n",
    "$R$. We obtain it by matrix inversion, i.e.,"
   ]
  },
  {
   "cell_type": "markdown",
   "metadata": {},
   "source": [
    "<!-- Equation labels as ordinary links -->\n",
    "<div id=\"eq:final2\"></div>\n",
    "\n",
    "$$\n",
    "\\begin{equation}\n",
    "    R=A^{-1}V.\n",
    "\\label{eq:final2} \\tag{21}\n",
    "\\end{equation}\n",
    "$$"
   ]
  },
  {
   "cell_type": "markdown",
   "metadata": {},
   "source": [
    "Thus, to obtain $R$, you will need to set up the matrices\n",
    "$A$ and $V$ and invert the matrix $A$. \n",
    "With the inverse $A^{-1}$, perform\n",
    "a matrix multiplication with $V$ results in $R$.\n",
    "\n",
    "\n",
    "\n",
    "## The Lippman-Schwinger equation for two-nucleon scattering\n",
    "With $R$ you can then evaluate the phase shifts\n",
    "by noting that"
   ]
  },
  {
   "cell_type": "markdown",
   "metadata": {},
   "source": [
    "$$\n",
    "R(k_{N+1},k_{N+1})=R(k_0,k_0)=-\\frac{tan\\delta}{mk_0},\n",
    "$$"
   ]
  },
  {
   "cell_type": "markdown",
   "metadata": {},
   "source": [
    "where $\\delta$ are the phase shifts.\n",
    "\n",
    "\n",
    "\n",
    "## The Lippman-Schwinger equation for two-nucleon scattering\n",
    "For elastic scattering, the scattering potential can only change the outgoing spherical wave function up to a phase. In the asymptotic limit, far away from the scattering potential, we get for the spherical bessel function"
   ]
  },
  {
   "cell_type": "markdown",
   "metadata": {},
   "source": [
    "$$\n",
    "j_l(kr) \\xrightarrow[]{ r \\gg 1} \\frac{\\sin(kr -l\\pi/2)}{kr} =  \\frac{1}{2ik}\\left( \\frac{e^{i(kr-l\\pi/2)}}{r} - \\frac{e^{-i(kr-l\\pi/2)}}{r}\\right)\n",
    "$$"
   ]
  },
  {
   "cell_type": "markdown",
   "metadata": {},
   "source": [
    "The outgoing wave will change by a phase shift $\\delta_l$, from which we can define the S-matrix $S_l(k) = e^{2i\\delta_l(k)}$. Thus, we have"
   ]
  },
  {
   "cell_type": "markdown",
   "metadata": {},
   "source": [
    "$$\n",
    "\\frac{e^{i(kr-l\\pi/2)}}{r} \\xrightarrow[]{\\mathrm{phase change}}  \\frac{S_l(k)e^{i(kr-l\\pi/2)}}{r}\n",
    "$$"
   ]
  },
  {
   "cell_type": "markdown",
   "metadata": {},
   "source": [
    "## The Lippman-Schwinger equation for two-nucleon scattering\n",
    "The solution to the Schrodinger equation for a spherically symmetric potential, will have the form"
   ]
  },
  {
   "cell_type": "markdown",
   "metadata": {},
   "source": [
    "$$\n",
    "\\psi_k(r) = e^{ikr} + f(\\theta)\\frac{e^{ikr}}{r}\n",
    "$$"
   ]
  },
  {
   "cell_type": "markdown",
   "metadata": {},
   "source": [
    "where $f(\\theta)$ is the scattering amplitude, and related to the differential cross section as"
   ]
  },
  {
   "cell_type": "markdown",
   "metadata": {},
   "source": [
    "$$\n",
    "\\frac{d\\sigma}{d\\Omega} = |f(\\theta)|^2\n",
    "$$"
   ]
  },
  {
   "cell_type": "markdown",
   "metadata": {},
   "source": [
    "Using the expansion of a plane wave in spherical waves, we can relate the scattering amplitude $f(\\theta)$ with the partial wave phase shifts $\\delta_l$ by identifying the outgoing wave"
   ]
  },
  {
   "cell_type": "markdown",
   "metadata": {},
   "source": [
    "$$\n",
    "\\psi_k(r) = e^{ikr} + \\left[\\frac{1}{2ik}\\sum_l i^l (2l+1) (S_l(k)-1)P_l(\\cos(\\theta))e^{-il\\pi/2}\\right] \\frac{e^{ikr}}{r}\n",
    "$$"
   ]
  },
  {
   "cell_type": "markdown",
   "metadata": {},
   "source": [
    "which can be simplified further by cancelling $i^l$ with $e^{-il\\pi/2}$\n",
    "\n",
    "\n",
    "\n",
    "## The Lippman-Schwinger equation for two-nucleon scattering\n",
    "We have"
   ]
  },
  {
   "cell_type": "markdown",
   "metadata": {},
   "source": [
    "$$\n",
    "\\psi_k(r) = e^{ikr} + f(\\theta) \\frac{e^{ikr}}{r}\n",
    "$$"
   ]
  },
  {
   "cell_type": "markdown",
   "metadata": {},
   "source": [
    "with"
   ]
  },
  {
   "cell_type": "markdown",
   "metadata": {},
   "source": [
    "$$\n",
    "f(\\theta) = \\sum_l (2l+1)f_l(\\theta) P_l(\\cos(\\theta))\n",
    "$$"
   ]
  },
  {
   "cell_type": "markdown",
   "metadata": {},
   "source": [
    "where the partial wave scattering amplitude is given by"
   ]
  },
  {
   "cell_type": "markdown",
   "metadata": {},
   "source": [
    "$$\n",
    "f_l(\\theta) = \\frac{1}{k}\\frac{(S_l(k)-1)}{2i} = \\frac{1}{k}\\sin\\delta_l(k) e^{i\\delta_l(k)}\n",
    "$$"
   ]
  },
  {
   "cell_type": "markdown",
   "metadata": {},
   "source": [
    "With Eulers formula for the cotangent, this can also be written as"
   ]
  },
  {
   "cell_type": "markdown",
   "metadata": {},
   "source": [
    "$$\n",
    "f_l(\\theta) = \\frac{1}{k}\\frac{1}{\\cot \\delta_l(k) - i}.\n",
    "$$"
   ]
  },
  {
   "cell_type": "markdown",
   "metadata": {},
   "source": [
    "## The Lippman-Schwinger equation for two-nucleon scattering\n",
    "**Interpretation of phase shifts.**\n",
    "\n",
    "<!-- dom:FIGURE: [figslides/phase.png, width=700 frac=0.7] Examples of negative and positive phase shifts for repulsive and attractive potentials, respectively. -->\n",
    "<!-- begin figure -->\n",
    "\n",
    "<p>Examples of negative and positive phase shifts for repulsive and attractive potentials, respectively.</p>\n",
    "<img src=\"figslides/phase.png\" width=700>\n",
    "\n",
    "<!-- end figure -->\n",
    "\n",
    "\n",
    "\n",
    "## The Lippman-Schwinger equation for two-nucleon scattering\n",
    "The integrated cross section is given by\n",
    "\\[\n",
    "\\sigma = 2\\pi \\int_0^{\\pi} |f(\\theta)|^2 \\sin \\theta d\\theta \n",
    "\\]\n",
    "\\[\n",
    "=2\\pi \\sum_l |\\frac{(2l+1)}{k} \\sin(\\delta_l)|^2 \\int_0^{\\pi} (P_l(\\cos(\\theta)))^2 \\sin(\\theta) d\\theta\\]\n",
    "\\[ \n",
    "= \\frac{4\\pi}{k^2} \\sum_l (2l+1) \\sin^2\\delta_l(k) = 4\\pi \\sum_l (2l+1)|f_l(\\theta)|^2, \n",
    "\\]\n",
    "where the orthogonality of the Legendre polynomials was used to evaluate the last integral\n",
    "\\[\n",
    "\\int_0^{\\pi} P_l(\\cos \\theta)^2 \\sin \\theta d\\theta = \\frac{2}{2l+1}.\n",
    "\\]\n",
    "Thus, the **total** cross section is the sum of the partial-wave cross sections. Note that the differential cross section contains cross-terms from different partial waves. The integral over the full sphere enables the use of the legendre orthogonality, and this kills the cross-terms.\n",
    "\n",
    "\n",
    "\n",
    "## The Lippman-Schwinger equation for two-nucleon scattering\n",
    "\n",
    "At low energy, $k \\rightarrow 0$, S-waves are most important. In this region we can define the scattering length $a$ and the effective range $r$. The $S$-wave scattering amplitude is given by\n",
    "\\[\n",
    "f_l(\\theta) = \\frac{1}{k}\\frac{1}{\\cot \\delta_l(k) - i}.\n",
    "\\]\n",
    "Taking the limit $k \\rightarrow 0$, gives us the expansion\n",
    "\\[\n",
    "k \\cot \\delta_0 = -\\frac{1}{a} + \\frac{1}{2}r_0 k^2 + \\ldots\n",
    "\\]\n",
    "Thus the low energy cross section is given by\n",
    "\\[\n",
    "\\sigma = 4\\pi a^2.\n",
    "\\]\n",
    "If the system contains a bound state, the scattering length will become positive (neutron-proton in $^3S_1$). For the $^1S_0$ wave, the scattering length is negative and large. This indicates that the wave function of the system is at the verge of turning over to get a node, but cannot create a bound state in this wave.\n",
    "\n",
    "\n",
    "\n",
    "## The Lippman-Schwinger equation for two-nucleon scattering\n",
    "**Low energy scattering length.**\n",
    "\n",
    "<!-- dom:FIGURE: [figslides/scattering_length.png, width=700 frac=1.0] Examples of scattering lengths. -->\n",
    "<!-- begin figure -->\n",
    "\n",
    "<p>Examples of scattering lengths.</p>\n",
    "<img src=\"figslides/scattering_length.png\" width=700>\n",
    "\n",
    "<!-- end figure -->\n",
    "\n",
    "\n",
    "\n",
    "## The Lippman-Schwinger equation for two-nucleon scattering\n",
    "It is important to realize that the phase shifts themselves are not\n",
    "observables. The measurable scattering quantity is the cross section,\n",
    "or the differential cross section. The partial wave phase shifts can\n",
    "be thought of as a parameterization of the (experimental) cross\n",
    "sections. The phase shifts provide insights into the physics of\n",
    "partial wave projected nuclear interactions, and are thus important\n",
    "quantities to know.\n",
    "\n",
    "The nucleon-nucleon differential cross section\n",
    "have been measured at almost all energies up to the pion production\n",
    "threshold (290 MeV in the Lab frame), and this experimental data base\n",
    "is what provides us with the constraints on our nuclear interaction\n",
    "models. In order to pin down the unknown coupling constants of the\n",
    "theory, a statistical optimization with respect to cross sections need\n",
    "to be carried out. This is how we constrain the nucleon-nucleon\n",
    "interaction in practice!\n",
    "\n",
    "\n",
    "\n",
    "## The Lippman-Schwinger equation for two-nucleon scattering\n",
    "**Nijmegen multi-energy $pp$ PWA phase shifts.**\n",
    "\n",
    "\n",
    "<!-- dom:FIGURE: [figslides/nijmegen_pp_phase_shifts.png, width=700 frac=1.0] Nijmegen phase shifts for selected partial waves. -->\n",
    "<!-- begin figure -->\n",
    "\n",
    "<p>Nijmegen phase shifts for selected partial waves.</p>\n",
    "<img src=\"figslides/nijmegen_pp_phase_shifts.png\" width=700>\n",
    "\n",
    "<!-- end figure -->\n",
    "\n",
    "\n",
    "The $pp$-data is more accurate than the $np$-data, and for $nn$ there is no data. The quality of a potential is gauged by the $\\chi^2$/datum with respect to the scattering data base\n",
    "\n",
    "\n",
    "\n",
    "## The Lippman-Schwinger equation for two-nucleon scattering\n",
    "**Nijmegen multi-energy $pp$ PWA phase shifts.**\n",
    "\n",
    "\n",
    "<table border=\"1\">\n",
    "<thead>\n",
    "<tr><th align=\"center\">$T_{\\mathrm{lab}}$ bin (MeV)</th> <th align=\"center\">    N3LO$^1$   </th> <th align=\"center\">   NNLO$^2$  </th> <th align=\"center\">   NLO$^2$   </th> <th align=\"center\">    AV18$^3$   </th> </tr>\n",
    "</thead>\n",
    "<tbody>\n",
    "<tr><td align=\"center\">                                   </td> <td align=\"center\">                      </td> <td align=\"center\">                    </td> <td align=\"center\">                    </td> <td align=\"center\">                      </td> </tr>\n",
    "<tr><td align=\"center\">   0-100                           </td> <td align=\"center\">   1.05               </td> <td align=\"center\">   1.7              </td> <td align=\"center\">   4.5              </td> <td align=\"center\">   0.95               </td> </tr>\n",
    "<tr><td align=\"center\">   100-190                         </td> <td align=\"center\">   1.08               </td> <td align=\"center\">   22               </td> <td align=\"center\">   100              </td> <td align=\"center\">   1.10               </td> </tr>\n",
    "<tr><td align=\"center\">   190-290                         </td> <td align=\"center\">   1.15               </td> <td align=\"center\">   47               </td> <td align=\"center\">   180              </td> <td align=\"center\">   1.11               </td> </tr>\n",
    "<tr><td align=\"center\">   $\\mathbf{0-290}$                </td> <td align=\"center\">   $\\mathbf{1.10}$    </td> <td align=\"center\">   $\\mathbf{20}$    </td> <td align=\"center\">   $\\mathbf{86}$    </td> <td align=\"center\">   $\\mathbf{1.04}$    </td> </tr>\n",
    "</tbody>\n",
    "</table>\n",
    "* R. Machleidt et al., Phys. Rev. C68, 041001(R) (2003)\n",
    "\n",
    "* E. Epelbaum et al., Eur. Phys. J. A19, 401 (2004)\n",
    "\n",
    "* R. B. Wiringa et al., Phys. Rev. C5, 38 (1995)\n",
    "\n",
    "\n",
    "\n",
    "\n",
    "## The Lippman-Schwinger equation for two-nucleon scattering\n",
    "**An example: chiral twobody interactions.**"
   ]
  },
  {
   "cell_type": "markdown",
   "metadata": {},
   "source": [
    "$$\n",
    "\\mathcal{L_{\\mathrm{eff}}} = \\mathcal{L}_{\\pi \\pi}(f_\\pi,m_{\\pi}) + \\mathcal{L}_{\\pi N}(f_{\\pi},M_{N},g_A,c_i,d_i,...) + \\mathcal{L}_{NN}(C_{i},\\tilde{C}_{i},D_{i},...) + \\ldots\n",
    "$$"
   ]
  },
  {
   "cell_type": "markdown",
   "metadata": {},
   "source": [
    "* R. Machleidt, D. R. Entem, Phys. Rep. 503, 1 (2011)\n",
    "\n",
    "* E. Epelbaum, H.-W. Hammer, Ulf-G. Mei\\ss{}ner, Rev. Mod. Phys. 81, 1773 (2009)\n",
    "\n",
    "\n",
    "## The Lippman-Schwinger equation for two-nucleon scattering\n",
    "**Proton-neutron $^1S_0$ phase shift.**\n",
    "\n",
    "\n",
    "Note that the Nijm93 PWA phase shift becomes negative at T$_{\\mathrm{lab}}> 250$MeV. This indicates that the nucleon-nucleon potential is repulsive at short distances \n",
    "<!-- dom:FIGURE: [figslides/phase-pn-1s0_IDAHO_JUELICH.pdf, width=700 frac=0.7] Proton-neutron $^1S_0$ phase shift.  -->\n",
    "<!-- begin figure -->\n",
    "\n",
    "<p>Proton-neutron $^1S_0$ phase shift.</p>\n",
    "<img src=\"figslides/phase-pn-1s0_IDAHO_JUELICH.pdf\" width=700>\n",
    "\n",
    "<!-- end figure -->\n",
    "\n",
    "\n",
    "## The Lippman-Schwinger equation for two-nucleon scattering\n",
    "**Differential cross section.**\n",
    "\n",
    "<!-- dom:FIGURE: [figslides/pnDSG_at_199MeV.pdf, width=800 frac=0.8] Proton-neutron $^1S_0$ phase shift.  -->\n",
    "<!-- begin figure -->\n",
    "\n",
    "<p>Proton-neutron $^1S_0$ phase shift.</p>\n",
    "<img src=\"figslides/pnDSG_at_199MeV.pdf\" width=800>\n",
    "\n",
    "<!-- end figure -->\n",
    "\n",
    "\n",
    "\n",
    "\n",
    "## Relativistc scattering theory, to be added"
   ]
  }
 ],
 "metadata": {},
 "nbformat": 4,
 "nbformat_minor": 1
}
